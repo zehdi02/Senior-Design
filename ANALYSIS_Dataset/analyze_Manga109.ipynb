{
 "cells": [
  {
   "cell_type": "code",
   "execution_count": 1,
   "metadata": {},
   "outputs": [],
   "source": [
    "import os\n",
    "import pandas as pd\n",
    "\n",
    "clean_dataset_path = f'../CLEAN_Dataset/clean_manga109'\n",
    "\n",
    "manga_titles = [f for f in os.listdir(clean_dataset_path)]\n"
   ]
  },
  {
   "cell_type": "markdown",
   "metadata": {},
   "source": [
    "### 1. Overall JP char count in EVERY Manga | Total JP char in each page"
   ]
  },
  {
   "cell_type": "code",
   "execution_count": 2,
   "metadata": {},
   "outputs": [],
   "source": [
    "stat_overall_jp_char_count = {}\n",
    "stat_total_jp_char_page = {}\n",
    "\n",
    "for manga_title in os.listdir(clean_dataset_path):\n",
    "  manga_title_path = os.path.join(clean_dataset_path, manga_title)\n",
    "\n",
    "  jp_char_count_manga = 0\n",
    "\n",
    "  for manga_page in os.listdir(manga_title_path):\n",
    "    page = os.path.join (manga_title_path, manga_page)\n",
    "    # print(page)\n",
    "\n",
    "    df = pd.read_csv(page)\n",
    "\n",
    "    if 'text_content' in df.columns:\n",
    "      text_content_col = df['text_content']\n",
    "      jp_char_count_page = 0\n",
    "\n",
    "      for text in text_content_col[text_content_col.notna()]:\n",
    "        if text.strip():  # check if text is not just whitespace\n",
    "          jp_char_count_page += len(text) # Total JP character count in a page\n",
    "          stat_total_jp_char_page[manga_page] = jp_char_count_page\n",
    "\n",
    "      jp_char_count_manga += jp_char_count_page # OVERALL JP character count in a manga title\n",
    "    \n",
    "  stat_overall_jp_char_count[manga_title] = jp_char_count_manga\n",
    "  # print(f'Overall JP character count on manga {manga_title}: {jp_char_count_manga}')\n"
   ]
  },
  {
   "cell_type": "markdown",
   "metadata": {},
   "source": [
    "### 1.5 Manga Page count"
   ]
  },
  {
   "cell_type": "code",
   "execution_count": null,
   "metadata": {},
   "outputs": [],
   "source": [
    "stat_manga_page_count = {}\n",
    "\n",
    "for manga_title in os.listdir(clean_dataset_path):\n",
    "  manga_title_path = os.path.join(clean_dataset_path, manga_title)\n",
    "\n",
    "  stat_manga_page_count[manga_title] = len(os.listdir(manga_title_path))\n",
    "\n",
    "print(stat_manga_page_count)\n"
   ]
  },
  {
   "cell_type": "markdown",
   "metadata": {},
   "source": [
    "### 1.6 Genre/Demographic Target/Year extract"
   ]
  },
  {
   "cell_type": "code",
   "execution_count": 31,
   "metadata": {},
   "outputs": [],
   "source": [
    "import requests\n",
    "from io import StringIO\n",
    "from bs4 import BeautifulSoup\n",
    "\n",
    "stat_manga_genre = {}\n",
    "stat_manga_demo_target = {}\n",
    "stat_manga_year = {}\n",
    "\n",
    "url = 'http://www.manga109.org/en/explore.html'\n",
    "response = requests.get(url)\n",
    "soup = BeautifulSoup(response.content, 'html.parser')\n",
    "\n",
    "table = soup.find('table', class_='tablesorter')\n",
    "\n",
    "df = pd.read_html(StringIO(str(soup)), attrs = {'class': 'tablesorter'})[0]\n",
    "\n",
    "for index, row in df.iterrows():\n",
    "  folder_name = row[\"Folder Name\"]\n",
    "\n",
    "  manga_genre = row[\"Genre\"]\n",
    "  manga_demo_target = row[\"Target\"]\n",
    "  manga_year = row[\"Age\"]\n",
    "\n",
    "  stat_manga_genre[folder_name] = manga_genre\n",
    "  stat_manga_demo_target[folder_name] = manga_demo_target\n",
    "  stat_manga_year[folder_name] = manga_year\n"
   ]
  },
  {
   "cell_type": "markdown",
   "metadata": {},
   "source": [
    "### 2. Average JP char count in each page of every manga"
   ]
  },
  {
   "cell_type": "code",
   "execution_count": null,
   "metadata": {},
   "outputs": [],
   "source": [
    "stat_avg_page_jp_char_count = {}\n",
    "\n",
    "for title, count in stat_overall_jp_char_count.items():\n",
    "    stat_avg_page_jp_char_count[title] = count / stat_manga_page_count[title]\n",
    "\n",
    "print(stat_avg_page_jp_char_count)"
   ]
  },
  {
   "cell_type": "markdown",
   "metadata": {},
   "source": [
    "### 3. Number of UNIQUE characters in EVERY Manga"
   ]
  },
  {
   "cell_type": "code",
   "execution_count": 6,
   "metadata": {},
   "outputs": [],
   "source": [
    "import regex as re\n",
    "\n",
    "stat_manga_unique_chars_count = {}\n",
    "stat_manga_unique_chars = {}\n",
    "\n",
    "for manga_title in os.listdir(clean_dataset_path):\n",
    "  manga_title_path = os.path.join(clean_dataset_path, manga_title)\n",
    "\n",
    "  unique_vocab_count = set()\n",
    "\n",
    "  for manga_page in os.listdir(manga_title_path):\n",
    "    page = os.path.join (manga_title_path, manga_page)\n",
    "\n",
    "    df = pd.read_csv(page)\n",
    "\n",
    "    if 'text_content' in df.columns:\n",
    "      text_content_col = df['text_content']\n",
    "\n",
    "      for text in text_content_col[text_content_col.notna()]:\n",
    "        if text.strip():  # check if text is not just whitespace\n",
    "          no_punctuation_text = re.sub(r'\\p{P}+', '', text) # remove any punctuations. only read letters\n",
    "\n",
    "          for char in no_punctuation_text:\n",
    "            unique_vocab_count.add(char)\n",
    "\n",
    "  stat_manga_unique_chars_count[manga_title] = len(unique_vocab_count)\n",
    "  stat_manga_unique_chars[manga_title] = unique_vocab_count\n",
    "\n"
   ]
  },
  {
   "cell_type": "markdown",
   "metadata": {},
   "source": [
    "### Store in CSV"
   ]
  },
  {
   "cell_type": "code",
   "execution_count": null,
   "metadata": {},
   "outputs": [],
   "source": [
    "import pandas as pd\n",
    "\n",
    "data = {\n",
    "    'manga_title': list(stat_manga_page_count.keys()),\n",
    "    'page_count': list(stat_manga_page_count.values()),\n",
    "    'overall_jp_chars': list(stat_overall_jp_char_count.values()),\n",
    "    'avg_page_jp_char': list(stat_avg_page_jp_char_count.values()),\n",
    "    'total_unique_chars': list(stat_manga_unique_chars_count.values()),\n",
    "\n",
    "    # 'genre': list(stat_manga_genre.values()),\n",
    "    # 'target': list(stat_manga_demo_target.values()),\n",
    "    # 'year': list(stat_manga_year.values()),\n",
    "}\n",
    "\n",
    "# df = pd.DataFrame(data)\n",
    "df = pd.DataFrame(data)\n",
    "\n",
    "output_csv_file = 'manga_statistics.csv'\n",
    "\n",
    "df.to_csv(output_csv_file, index=False)\n",
    "\n",
    "print(f\"CSV file '{output_csv_file}' created successfully.\")\n"
   ]
  }
 ],
 "metadata": {
  "kernelspec": {
   "display_name": "base",
   "language": "python",
   "name": "python3"
  },
  "language_info": {
   "codemirror_mode": {
    "name": "ipython",
    "version": 3
   },
   "file_extension": ".py",
   "mimetype": "text/x-python",
   "name": "python",
   "nbconvert_exporter": "python",
   "pygments_lexer": "ipython3",
   "version": "3.12.4"
  }
 },
 "nbformat": 4,
 "nbformat_minor": 2
}
