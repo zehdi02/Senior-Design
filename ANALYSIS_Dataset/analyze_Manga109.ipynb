{
 "cells": [
  {
   "cell_type": "code",
   "execution_count": 1,
   "metadata": {},
   "outputs": [],
   "source": [
    "import os\n",
    "import pandas as pd\n",
    "\n",
    "clean_dataset_path = f'../CLEAN_Dataset/clean_manga109'\n",
    "\n",
    "manga_titles = [f for f in os.listdir(clean_dataset_path)]\n"
   ]
  },
  {
   "cell_type": "markdown",
   "metadata": {},
   "source": [
    "### 1. Overall JP char count in EVERY Manga | Total JP char in each page"
   ]
  },
  {
   "cell_type": "code",
   "execution_count": 2,
   "metadata": {},
   "outputs": [],
   "source": [
    "stat_overall_jp_char_count = {}\n",
    "stat_total_jp_char_page = {}\n",
    "\n",
    "for manga_title in os.listdir(clean_dataset_path):\n",
    "  manga_title_path = os.path.join(clean_dataset_path, manga_title)\n",
    "\n",
    "  jp_char_count_manga = 0\n",
    "\n",
    "  for manga_page in os.listdir(manga_title_path):\n",
    "    page = os.path.join (manga_title_path, manga_page)\n",
    "    # print(page)\n",
    "\n",
    "    df = pd.read_csv(page)\n",
    "\n",
    "    if 'text_content' in df.columns:\n",
    "      text_content_col = df['text_content']\n",
    "      jp_char_count_page = 0\n",
    "\n",
    "      for text in text_content_col[text_content_col.notna()]:\n",
    "        if text.strip():  # check if text is not just whitespace\n",
    "          jp_char_count_page += len(text) # Total JP character count in a page\n",
    "          stat_total_jp_char_page[manga_page] = jp_char_count_page\n",
    "\n",
    "      jp_char_count_manga += jp_char_count_page # OVERALL JP character count in a manga title\n",
    "    \n",
    "  stat_overall_jp_char_count[manga_title] = jp_char_count_manga\n",
    "  # print(f'Overall JP character count on manga {manga_title}: {jp_char_count_manga}')\n"
   ]
  },
  {
   "cell_type": "markdown",
   "metadata": {},
   "source": [
    "### 1.5 Manga Page count"
   ]
  },
  {
   "cell_type": "code",
   "execution_count": 3,
   "metadata": {},
   "outputs": [
    {
     "name": "stdout",
     "output_type": "stream",
     "text": [
      "{'AisazuNihaIrarenai': 188, 'AkkeraKanjinchou': 184, 'Akuhamu': 162, 'AosugiruHaru': 210, 'AppareKappore': 194, 'Arisa': 194, 'ARMS': 162, 'BakuretsuKungFuGirl': 194, 'Belmondo': 198, 'BEMADER_P': 228, 'BokuHaSitatakaKun': 198, 'BurariTessenTorimonocho': 224, 'ByebyeC-BOY': 188, 'Copy of AisazuNihaIrarenai': 188, 'Copy of Arisa': 194, 'Count3DeKimeteAgeru': 198, 'DollGun': 192, 'Donburakokko': 178, 'DualJustice': 198, 'EienNoWith': 250, 'EvaLady': 218, 'EverydayOsakanaChan': 172, 'GakuenNoise': 198, 'GarakutayaManta': 206, 'GinNoChimera': 206, 'GOOD_KISS_Ver2': 190, 'Hamlet': 370, 'HanzaiKousyouninMinegishiEitarou': 200, 'HaruichibanNoFukukoro': 194, 'HarukaRefrain': 198, 'HealingPlanet': 190, 'HeiseiJimen': 222, 'HighschoolKimengumi_vol01': 198, 'HighschoolKimengumi_vol20': 188, 'HinagikuKenzan': 178, 'HisokaReturns': 180, 'JangiriPonpon': 220, 'JijiBabaFight': 146, 'Joouari': 194, 'Jyovolley': 186, 'KarappoHighschool': 242, 'KimiHaBokuNoTaiyouDa': 222, 'KoukouNoHitotachi': 134, 'KuroidoGanka': 202, 'KyokugenCyclone': 116, 'LancelotFullThrottle': 194, 'LoveHina_vol01': 194, 'LoveHina_vol14': 194, 'MadouTaiga': 168, 'MAD_STONE': 192, 'MagicianLoad': 176, 'MagicStarGakuin': 164, 'MariaSamaNihaNaisyo': 194, 'MayaNoAkaiKutsu': 180, 'MemorySeijin': 204, 'MeteoSanStrikeDesu': 228, 'MiraiSan': 214, 'MisutenaideDaisy': 222, 'MoeruOnisan_vol01': 184, 'MoeruOnisan_vol19': 198, 'MomoyamaHaikagura': 102, 'MukoukizuNoChonbo': 126, 'MutekiBoukenSyakuma': 186, 'Nekodama': 234, 'NichijouSoup': 204, 'Ningyoushi': 190, 'OhWareraRettouSeitokai': 192, 'OL_Lunch': 134, 'ParaisoRoad': 210, 'PikaruGenkiDesu': 186, 'PLANET7': 198, 'PlatinumJungle': 172, 'PrayerHaNemurenai': 196, 'PrismHeart': 184, 'PsychoStaff': 182, 'Raphael': 234, 'ReveryEarth': 200, 'RinToSiteSippuNoNaka': 304, 'RisingGirl': 242, 'Saisoku': 200, 'SaladDays_vol01': 182, 'SaladDays_vol18': 190, 'SamayoeruSyonenNiJunaiWo': 178, 'SeisinkiVulnus': 200, 'ShimatteIkouze_vol01': 216, 'ShimatteIkouze_vol26': 224, 'SonokiDeABC': 198, 'SyabondamaKieta': 188, 'TaiyouNiSmash': 182, 'TapkunNoTanteisitsu': 214, 'TasogareTsushin': 196, 'TennenSenshiG': 178, 'TensiNoHaneToAkumaNoShippo': 182, 'TetsuSan': 80, \"That'sIzumiko\": 254, 'TotteokiNoABC': 188, 'ToutaMairimasu': 218, 'TouyouKidan': 266, 'TsubasaNoKioku': 194, \"UchiNoNyan'sDiary\": 164, 'UchuKigekiM774': 166, 'UltraEleven': 226, 'UnbalanceTokyo': 176, 'WarewareHaOniDearu': 192, 'YamatoNoHane': 228, 'YasasiiAkuma': 188, 'YouchienBoueigumi': 54, 'YoumaKourin': 214, 'YukiNoFuruMachi': 190, 'YumeiroCooking': 192, 'YumeNoKayoiji': 194}\n"
     ]
    }
   ],
   "source": [
    "stat_manga_page_count = {}\n",
    "\n",
    "for manga_title in os.listdir(clean_dataset_path):\n",
    "  manga_title_path = os.path.join(clean_dataset_path, manga_title)\n",
    "\n",
    "  stat_manga_page_count[manga_title] = len(os.listdir(manga_title_path)) * 2\n",
    "\n",
    "print(stat_manga_page_count)\n"
   ]
  },
  {
   "cell_type": "markdown",
   "metadata": {},
   "source": [
    "### 1.6 Genre/Demographic Target/Year extract"
   ]
  },
  {
   "cell_type": "code",
   "execution_count": 4,
   "metadata": {},
   "outputs": [],
   "source": [
    "import requests\n",
    "from io import StringIO\n",
    "from bs4 import BeautifulSoup\n",
    "\n",
    "stat_manga_genre = {}\n",
    "stat_manga_demo_target = {}\n",
    "stat_manga_year = {}\n",
    "\n",
    "url = 'http://www.manga109.org/en/explore.html'\n",
    "response = requests.get(url)\n",
    "soup = BeautifulSoup(response.content, 'html.parser')\n",
    "\n",
    "table = soup.find('table', class_='tablesorter')\n",
    "\n",
    "df = pd.read_html(StringIO(str(soup)), attrs = {'class': 'tablesorter'})[0]\n",
    "\n",
    "for index, row in df.iterrows():\n",
    "  folder_name = row[\"Folder Name\"]\n",
    "\n",
    "  manga_genre = row[\"Genre\"]\n",
    "  manga_demo_target = row[\"Target\"]\n",
    "  manga_year = row[\"Age\"]\n",
    "\n",
    "  stat_manga_genre[folder_name] = manga_genre\n",
    "  stat_manga_demo_target[folder_name] = manga_demo_target\n",
    "  stat_manga_year[folder_name] = manga_year\n"
   ]
  },
  {
   "cell_type": "markdown",
   "metadata": {},
   "source": [
    "### 2. Average JP char count in each page of every manga"
   ]
  },
  {
   "cell_type": "code",
   "execution_count": 24,
   "metadata": {},
   "outputs": [
    {
     "name": "stdout",
     "output_type": "stream",
     "text": [
      "{'AisazuNihaIrarenai': 99.97340425531915, 'AkkeraKanjinchou': 85.57608695652173, 'Akuhamu': 111.33333333333333, 'AosugiruHaru': 60.67142857142857, 'AppareKappore': 70.02061855670104, 'Arisa': 85.0721649484536, 'ARMS': 69.51234567901234, 'BakuretsuKungFuGirl': 125.39690721649484, 'Belmondo': 123.58080808080808, 'BEMADER_P': 85.32894736842105, 'BokuHaSitatakaKun': 160.74747474747474, 'BurariTessenTorimonocho': 158.29910714285714, 'ByebyeC-BOY': 89.88829787234043, 'Copy of AisazuNihaIrarenai': 99.97340425531915, 'Copy of Arisa': 85.0721649484536, 'Count3DeKimeteAgeru': 68.25757575757575, 'DollGun': 85.734375, 'Donburakokko': 80.35393258426966, 'DualJustice': 54.45959595959596, 'EienNoWith': 93.772, 'EvaLady': 101.04587155963303, 'EverydayOsakanaChan': 153.6453488372093, 'GakuenNoise': 79.68686868686869, 'GarakutayaManta': 64.06796116504854, 'GinNoChimera': 56.58252427184466, 'GOOD_KISS_Ver2': 104.79473684210527, 'Hamlet': 113.55945945945946, 'HanzaiKousyouninMinegishiEitarou': 122.895, 'HaruichibanNoFukukoro': 77.62371134020619, 'HarukaRefrain': 69.76262626262626, 'HealingPlanet': 84.60526315789474, 'HeiseiJimen': 91.27027027027027, 'HighschoolKimengumi_vol01': 114.73737373737374, 'HighschoolKimengumi_vol20': 152.79787234042553, 'HinagikuKenzan': 72.67415730337079, 'HisokaReturns': 96.78333333333333, 'JangiriPonpon': 96.24090909090908, 'JijiBabaFight': 129.23287671232876, 'Joouari': 69.17525773195877, 'Jyovolley': 67.24193548387096, 'KarappoHighschool': 64.14462809917356, 'KimiHaBokuNoTaiyouDa': 79.71171171171171, 'KoukouNoHitotachi': 216.06716417910448, 'KuroidoGanka': 88.52970297029702, 'KyokugenCyclone': 78.46551724137932, 'LancelotFullThrottle': 123.9639175257732, 'LoveHina_vol01': 119.05670103092784, 'LoveHina_vol14': 146.79381443298968, 'MadouTaiga': 49.25595238095238, 'MAD_STONE': 53.6875, 'MagicianLoad': 69.63068181818181, 'MagicStarGakuin': 133.1768292682927, 'MariaSamaNihaNaisyo': 91.35567010309278, 'MayaNoAkaiKutsu': 86.11111111111111, 'MemorySeijin': 77.90686274509804, 'MeteoSanStrikeDesu': 72.32456140350877, 'MiraiSan': 92.74299065420561, 'MisutenaideDaisy': 118.4054054054054, 'MoeruOnisan_vol01': 174.31521739130434, 'MoeruOnisan_vol19': 175.55050505050505, 'MomoyamaHaikagura': 116.43137254901961, 'MukoukizuNoChonbo': 136.45238095238096, 'MutekiBoukenSyakuma': 74.94086021505376, 'Nekodama': 73.01709401709402, 'NichijouSoup': 116.6078431372549, 'Ningyoushi': 55.357894736842105, 'OhWareraRettouSeitokai': 91.66666666666667, 'OL_Lunch': 155.7910447761194, 'ParaisoRoad': 79.17142857142858, 'PikaruGenkiDesu': 69.44623655913979, 'PLANET7': 95.38383838383838, 'PlatinumJungle': 77.06976744186046, 'PrayerHaNemurenai': 91.29081632653062, 'PrismHeart': 135.0, 'PsychoStaff': 80.42307692307692, 'Raphael': 137.45726495726495, 'ReveryEarth': 89.135, 'RinToSiteSippuNoNaka': 81.25657894736842, 'RisingGirl': 97.18181818181819, 'Saisoku': 86.49, 'SaladDays_vol01': 92.94505494505495, 'SaladDays_vol18': 92.0578947368421, 'SamayoeruSyonenNiJunaiWo': 82.57303370786516, 'SeisinkiVulnus': 64.575, 'ShimatteIkouze_vol01': 105.55092592592592, 'ShimatteIkouze_vol26': 67.42410714285714, 'SonokiDeABC': 87.77777777777777, 'SyabondamaKieta': 61.787234042553195, 'TaiyouNiSmash': 75.78571428571429, 'TapkunNoTanteisitsu': 96.58878504672897, 'TasogareTsushin': 78.0204081632653, 'TennenSenshiG': 111.34269662921348, 'TensiNoHaneToAkumaNoShippo': 77.23076923076923, 'TetsuSan': 193.825, \"That'sIzumiko\": 78.08661417322834, 'TotteokiNoABC': 93.88297872340425, 'ToutaMairimasu': 81.62844036697248, 'TouyouKidan': 78.4812030075188, 'TsubasaNoKioku': 63.38659793814433, \"UchiNoNyan'sDiary\": 104.0, 'UchuKigekiM774': 220.59638554216866, 'UltraEleven': 101.84513274336283, 'UnbalanceTokyo': 132.39772727272728, 'WarewareHaOniDearu': 102.19791666666667, 'YamatoNoHane': 40.74122807017544, 'YasasiiAkuma': 142.38297872340425, 'YouchienBoueigumi': 177.66666666666666, 'YoumaKourin': 78.50934579439253, 'YukiNoFuruMachi': 88.59473684210526, 'YumeiroCooking': 93.44791666666667, 'YumeNoKayoiji': 69.17525773195877}\n"
     ]
    }
   ],
   "source": [
    "stat_avg_page_jp_char_count = {}\n",
    "\n",
    "for title, count in stat_overall_jp_char_count.items():\n",
    "    stat_avg_page_jp_char_count[title] = count / stat_manga_page_count[title]\n",
    "\n",
    "print(stat_avg_page_jp_char_count)"
   ]
  },
  {
   "cell_type": "markdown",
   "metadata": {},
   "source": [
    "### 3. Number of UNIQUE characters in EVERY Manga"
   ]
  },
  {
   "cell_type": "code",
   "execution_count": 25,
   "metadata": {},
   "outputs": [],
   "source": [
    "import regex as re\n",
    "\n",
    "stat_manga_unique_chars_count = {}\n",
    "stat_manga_unique_chars = {}\n",
    "\n",
    "for manga_title in os.listdir(clean_dataset_path):\n",
    "  manga_title_path = os.path.join(clean_dataset_path, manga_title)\n",
    "\n",
    "  unique_vocab_count = set()\n",
    "\n",
    "  for manga_page in os.listdir(manga_title_path):\n",
    "    page = os.path.join (manga_title_path, manga_page)\n",
    "\n",
    "    df = pd.read_csv(page)\n",
    "\n",
    "    if 'text_content' in df.columns:\n",
    "      text_content_col = df['text_content']\n",
    "\n",
    "      for text in text_content_col[text_content_col.notna()]:\n",
    "        if text.strip():  # check if text is not just whitespace\n",
    "          no_punctuation_text = re.sub(r'\\p{P}+', '', text) # remove any punctuations. only read letters\n",
    "\n",
    "          for char in no_punctuation_text:\n",
    "            unique_vocab_count.add(char)\n",
    "\n",
    "  stat_manga_unique_chars_count[manga_title] = len(unique_vocab_count)\n",
    "  stat_manga_unique_chars[manga_title] = unique_vocab_count\n",
    "\n"
   ]
  },
  {
   "cell_type": "markdown",
   "metadata": {},
   "source": [
    "### 4. Average Face & Text Across Manga"
   ]
  },
  {
   "cell_type": "code",
   "execution_count": 26,
   "metadata": {},
   "outputs": [
    {
     "name": "stdout",
     "output_type": "stream",
     "text": [
      "Total Panels: {'AisazuNihaIrarenai': 1014, 'AkkeraKanjinchou': 975, 'Akuhamu': 873, 'AosugiruHaru': 964, 'AppareKappore': 772, 'Arisa': 910, 'ARMS': 575, 'BakuretsuKungFuGirl': 1010, 'Belmondo': 921, 'BEMADER_P': 1141, 'BokuHaSitatakaKun': 1065, 'BurariTessenTorimonocho': 1335, 'ByebyeC-BOY': 1125, 'Copy of AisazuNihaIrarenai': 1014, 'Copy of Arisa': 910, 'Count3DeKimeteAgeru': 947, 'DollGun': 865, 'Donburakokko': 605, 'DualJustice': 783, 'EienNoWith': 1385, 'EvaLady': 991, 'EverydayOsakanaChan': 911, 'GakuenNoise': 1076, 'GarakutayaManta': 1168, 'GinNoChimera': 751, 'GOOD_KISS_Ver2': 1104, 'Hamlet': 1626, 'HanzaiKousyouninMinegishiEitarou': 1207, 'HaruichibanNoFukukoro': 955, 'HarukaRefrain': 839, 'HealingPlanet': 791, 'HeiseiJimen': 1008, 'HighschoolKimengumi_vol01': 987, 'HighschoolKimengumi_vol20': 960, 'HinagikuKenzan': 817, 'HisokaReturns': 984, 'JangiriPonpon': 1445, 'JijiBabaFight': 862, 'Joouari': 952, 'Jyovolley': 781, 'KarappoHighschool': 1364, 'KimiHaBokuNoTaiyouDa': 1053, 'KoukouNoHitotachi': 938, 'KuroidoGanka': 1029, 'KyokugenCyclone': 489, 'LancelotFullThrottle': 942, 'LoveHina_vol01': 1077, 'LoveHina_vol14': 1015, 'MadouTaiga': 670, 'MAD_STONE': 619, 'MagicianLoad': 754, 'MagicStarGakuin': 659, 'MariaSamaNihaNaisyo': 975, 'MayaNoAkaiKutsu': 804, 'MemorySeijin': 932, 'MeteoSanStrikeDesu': 877, 'MiraiSan': 1017, 'MisutenaideDaisy': 1143, 'MoeruOnisan_vol01': 908, 'MoeruOnisan_vol19': 1112, 'MomoyamaHaikagura': 491, 'MukoukizuNoChonbo': 606, 'MutekiBoukenSyakuma': 875, 'Nekodama': 828, 'NichijouSoup': 845, 'Ningyoushi': 922, 'OhWareraRettouSeitokai': 1115, 'OL_Lunch': 831, 'ParaisoRoad': 904, 'PikaruGenkiDesu': 1040, 'PLANET7': 850, 'PlatinumJungle': 747, 'PrayerHaNemurenai': 752, 'PrismHeart': 823, 'PsychoStaff': 857, 'Raphael': 962, 'ReveryEarth': 983, 'RinToSiteSippuNoNaka': 985, 'RisingGirl': 1100, 'Saisoku': 920, 'SaladDays_vol01': 1024, 'SaladDays_vol18': 882, 'SamayoeruSyonenNiJunaiWo': 774, 'SeisinkiVulnus': 942, 'ShimatteIkouze_vol01': 1350, 'ShimatteIkouze_vol26': 1266, 'SonokiDeABC': 925, 'SyabondamaKieta': 894, 'TaiyouNiSmash': 767, 'TapkunNoTanteisitsu': 1204, 'TasogareTsushin': 912, 'TennenSenshiG': 975, 'TensiNoHaneToAkumaNoShippo': 845, 'TetsuSan': 715, \"That'sIzumiko\": 1127, 'TotteokiNoABC': 1110, 'ToutaMairimasu': 891, 'TouyouKidan': 1496, 'TsubasaNoKioku': 1179, \"UchiNoNyan'sDiary\": 985, 'UchuKigekiM774': 1145, 'UltraEleven': 1214, 'UnbalanceTokyo': 956, 'WarewareHaOniDearu': 965, 'YamatoNoHane': 1029, 'YasasiiAkuma': 836, 'YouchienBoueigumi': 368, 'YoumaKourin': 950, 'YukiNoFuruMachi': 949, 'YumeiroCooking': 1063, 'YumeNoKayoiji': 819}\n",
      "Total Faces: {'AisazuNihaIrarenai': 1139, 'AkkeraKanjinchou': 736, 'Akuhamu': 1207, 'AosugiruHaru': 632, 'AppareKappore': 930, 'Arisa': 1228, 'ARMS': 327, 'BakuretsuKungFuGirl': 1104, 'Belmondo': 1000, 'BEMADER_P': 1354, 'BokuHaSitatakaKun': 2526, 'BurariTessenTorimonocho': 1235, 'ByebyeC-BOY': 1035, 'Copy of AisazuNihaIrarenai': 1139, 'Copy of Arisa': 1228, 'Count3DeKimeteAgeru': 784, 'DollGun': 1155, 'Donburakokko': 582, 'DualJustice': 440, 'EienNoWith': 1160, 'EvaLady': 887, 'EverydayOsakanaChan': 544, 'GakuenNoise': 951, 'GarakutayaManta': 1287, 'GinNoChimera': 701, 'GOOD_KISS_Ver2': 1147, 'Hamlet': 2570, 'HanzaiKousyouninMinegishiEitarou': 1036, 'HaruichibanNoFukukoro': 675, 'HarukaRefrain': 1009, 'HealingPlanet': 573, 'HeiseiJimen': 1486, 'HighschoolKimengumi_vol01': 1856, 'HighschoolKimengumi_vol20': 1609, 'HinagikuKenzan': 655, 'HisokaReturns': 878, 'JangiriPonpon': 1820, 'JijiBabaFight': 1272, 'Joouari': 950, 'Jyovolley': 777, 'KarappoHighschool': 1288, 'KimiHaBokuNoTaiyouDa': 953, 'KoukouNoHitotachi': 2133, 'KuroidoGanka': 716, 'KyokugenCyclone': 789, 'LancelotFullThrottle': 1359, 'LoveHina_vol01': 1305, 'LoveHina_vol14': 1551, 'MadouTaiga': 468, 'MAD_STONE': 700, 'MagicianLoad': 668, 'MagicStarGakuin': 917, 'MariaSamaNihaNaisyo': 724, 'MayaNoAkaiKutsu': 627, 'MemorySeijin': 743, 'MeteoSanStrikeDesu': 1155, 'MiraiSan': 1428, 'MisutenaideDaisy': 1853, 'MoeruOnisan_vol01': 2114, 'MoeruOnisan_vol19': 2649, 'MomoyamaHaikagura': 572, 'MukoukizuNoChonbo': 977, 'MutekiBoukenSyakuma': 963, 'Nekodama': 1327, 'NichijouSoup': 1184, 'Ningyoushi': 822, 'OhWareraRettouSeitokai': 1035, 'OL_Lunch': 1481, 'ParaisoRoad': 1166, 'PikaruGenkiDesu': 1406, 'PLANET7': 1256, 'PlatinumJungle': 607, 'PrayerHaNemurenai': 864, 'PrismHeart': 1001, 'PsychoStaff': 754, 'Raphael': 1162, 'ReveryEarth': 921, 'RinToSiteSippuNoNaka': 1345, 'RisingGirl': 1193, 'Saisoku': 661, 'SaladDays_vol01': 846, 'SaladDays_vol18': 687, 'SamayoeruSyonenNiJunaiWo': 738, 'SeisinkiVulnus': 754, 'ShimatteIkouze_vol01': 2231, 'ShimatteIkouze_vol26': 2356, 'SonokiDeABC': 1079, 'SyabondamaKieta': 929, 'TaiyouNiSmash': 688, 'TapkunNoTanteisitsu': 1007, 'TasogareTsushin': 844, 'TennenSenshiG': 662, 'TensiNoHaneToAkumaNoShippo': 934, 'TetsuSan': 1021, \"That'sIzumiko\": 946, 'TotteokiNoABC': 1066, 'ToutaMairimasu': 1358, 'TouyouKidan': 1544, 'TsubasaNoKioku': 445, \"UchiNoNyan'sDiary\": 424, 'UchuKigekiM774': 1585, 'UltraEleven': 1648, 'UnbalanceTokyo': 1175, 'WarewareHaOniDearu': 990, 'YamatoNoHane': 1023, 'YasasiiAkuma': 957, 'YouchienBoueigumi': 737, 'YoumaKourin': 985, 'YukiNoFuruMachi': 1117, 'YumeiroCooking': 1208, 'YumeNoKayoiji': 515}\n",
      "Total Texts: {'AisazuNihaIrarenai': 1473, 'AkkeraKanjinchou': 1340, 'Akuhamu': 1461, 'AosugiruHaru': 1360, 'AppareKappore': 1246, 'Arisa': 1391, 'ARMS': 1062, 'BakuretsuKungFuGirl': 2189, 'Belmondo': 1347, 'BEMADER_P': 1449, 'BokuHaSitatakaKun': 2255, 'BurariTessenTorimonocho': 1653, 'ByebyeC-BOY': 1439, 'Copy of AisazuNihaIrarenai': 1473, 'Copy of Arisa': 1391, 'Count3DeKimeteAgeru': 1228, 'DollGun': 1289, 'Donburakokko': 935, 'DualJustice': 868, 'EienNoWith': 1752, 'EvaLady': 1506, 'EverydayOsakanaChan': 1904, 'GakuenNoise': 1350, 'GarakutayaManta': 1147, 'GinNoChimera': 824, 'GOOD_KISS_Ver2': 1548, 'Hamlet': 2748, 'HanzaiKousyouninMinegishiEitarou': 1715, 'HaruichibanNoFukukoro': 1468, 'HarukaRefrain': 1148, 'HealingPlanet': 997, 'HeiseiJimen': 1202, 'HighschoolKimengumi_vol01': 1863, 'HighschoolKimengumi_vol20': 1826, 'HinagikuKenzan': 940, 'HisokaReturns': 1163, 'JangiriPonpon': 1351, 'JijiBabaFight': 1541, 'Joouari': 1167, 'Jyovolley': 889, 'KarappoHighschool': 1274, 'KimiHaBokuNoTaiyouDa': 1396, 'KoukouNoHitotachi': 2423, 'KuroidoGanka': 1226, 'KyokugenCyclone': 768, 'LancelotFullThrottle': 1672, 'LoveHina_vol01': 1810, 'LoveHina_vol14': 1895, 'MadouTaiga': 716, 'MAD_STONE': 605, 'MagicianLoad': 907, 'MagicStarGakuin': 1376, 'MariaSamaNihaNaisyo': 1485, 'MayaNoAkaiKutsu': 1046, 'MemorySeijin': 1184, 'MeteoSanStrikeDesu': 1169, 'MiraiSan': 1380, 'MisutenaideDaisy': 2051, 'MoeruOnisan_vol01': 2167, 'MoeruOnisan_vol19': 2245, 'MomoyamaHaikagura': 710, 'MukoukizuNoChonbo': 1065, 'MutekiBoukenSyakuma': 1227, 'Nekodama': 1351, 'NichijouSoup': 1665, 'Ningyoushi': 963, 'OhWareraRettouSeitokai': 1330, 'OL_Lunch': 1808, 'ParaisoRoad': 1435, 'PikaruGenkiDesu': 1034, 'PLANET7': 1548, 'PlatinumJungle': 921, 'PrayerHaNemurenai': 1181, 'PrismHeart': 1407, 'PsychoStaff': 1115, 'Raphael': 1704, 'ReveryEarth': 1280, 'RinToSiteSippuNoNaka': 1547, 'RisingGirl': 1596, 'Saisoku': 1164, 'SaladDays_vol01': 1323, 'SaladDays_vol18': 1288, 'SamayoeruSyonenNiJunaiWo': 852, 'SeisinkiVulnus': 955, 'ShimatteIkouze_vol01': 1753, 'ShimatteIkouze_vol26': 1453, 'SonokiDeABC': 1164, 'SyabondamaKieta': 1079, 'TaiyouNiSmash': 920, 'TapkunNoTanteisitsu': 1337, 'TasogareTsushin': 1175, 'TennenSenshiG': 1541, 'TensiNoHaneToAkumaNoShippo': 1144, 'TetsuSan': 1179, \"That'sIzumiko\": 1364, 'TotteokiNoABC': 1534, 'ToutaMairimasu': 987, 'TouyouKidan': 1394, 'TsubasaNoKioku': 1000, \"UchiNoNyan'sDiary\": 1213, 'UchuKigekiM774': 1813, 'UltraEleven': 1458, 'UnbalanceTokyo': 1347, 'WarewareHaOniDearu': 1150, 'YamatoNoHane': 1016, 'YasasiiAkuma': 1590, 'YouchienBoueigumi': 851, 'YoumaKourin': 1196, 'YukiNoFuruMachi': 1665, 'YumeiroCooking': 1354, 'YumeNoKayoiji': 912}\n",
      "Average Faces per Panel: {'AisazuNihaIrarenai': 1.1232741617357003, 'AkkeraKanjinchou': 0.7548717948717949, 'Akuhamu': 1.3825887743413516, 'AosugiruHaru': 0.6556016597510373, 'AppareKappore': 1.2046632124352332, 'Arisa': 1.3494505494505495, 'ARMS': 0.568695652173913, 'BakuretsuKungFuGirl': 1.0930693069306932, 'Belmondo': 1.0857763300760044, 'BEMADER_P': 1.1866783523225242, 'BokuHaSitatakaKun': 2.371830985915493, 'BurariTessenTorimonocho': 0.9250936329588015, 'ByebyeC-BOY': 0.92, 'Copy of AisazuNihaIrarenai': 1.1232741617357003, 'Copy of Arisa': 1.3494505494505495, 'Count3DeKimeteAgeru': 0.8278775079197466, 'DollGun': 1.3352601156069364, 'Donburakokko': 0.9619834710743802, 'DualJustice': 0.561941251596424, 'EienNoWith': 0.8375451263537906, 'EvaLady': 0.8950554994954592, 'EverydayOsakanaChan': 0.5971459934138309, 'GakuenNoise': 0.8838289962825279, 'GarakutayaManta': 1.1018835616438356, 'GinNoChimera': 0.933422103861518, 'GOOD_KISS_Ver2': 1.0389492753623188, 'Hamlet': 1.5805658056580565, 'HanzaiKousyouninMinegishiEitarou': 0.8583264291632146, 'HaruichibanNoFukukoro': 0.7068062827225131, 'HarukaRefrain': 1.2026221692491061, 'HealingPlanet': 0.7243994943109987, 'HeiseiJimen': 1.4742063492063493, 'HighschoolKimengumi_vol01': 1.8804457953394123, 'HighschoolKimengumi_vol20': 1.6760416666666667, 'HinagikuKenzan': 0.8017135862913096, 'HisokaReturns': 0.8922764227642277, 'JangiriPonpon': 1.259515570934256, 'JijiBabaFight': 1.4756380510440836, 'Joouari': 0.9978991596638656, 'Jyovolley': 0.9948783610755442, 'KarappoHighschool': 0.9442815249266863, 'KimiHaBokuNoTaiyouDa': 0.9050332383665717, 'KoukouNoHitotachi': 2.2739872068230276, 'KuroidoGanka': 0.6958211856171039, 'KyokugenCyclone': 1.6134969325153374, 'LancelotFullThrottle': 1.4426751592356688, 'LoveHina_vol01': 1.2116991643454038, 'LoveHina_vol14': 1.5280788177339901, 'MadouTaiga': 0.6985074626865672, 'MAD_STONE': 1.1308562197092085, 'MagicianLoad': 0.8859416445623343, 'MagicStarGakuin': 1.3915022761760243, 'MariaSamaNihaNaisyo': 0.7425641025641025, 'MayaNoAkaiKutsu': 0.7798507462686567, 'MemorySeijin': 0.7972103004291845, 'MeteoSanStrikeDesu': 1.3169897377423032, 'MiraiSan': 1.4041297935103245, 'MisutenaideDaisy': 1.621172353455818, 'MoeruOnisan_vol01': 2.328193832599119, 'MoeruOnisan_vol19': 2.3821942446043165, 'MomoyamaHaikagura': 1.164969450101833, 'MukoukizuNoChonbo': 1.6122112211221122, 'MutekiBoukenSyakuma': 1.1005714285714285, 'Nekodama': 1.6026570048309179, 'NichijouSoup': 1.4011834319526628, 'Ningyoushi': 0.8915401301518439, 'OhWareraRettouSeitokai': 0.9282511210762332, 'OL_Lunch': 1.7821901323706377, 'ParaisoRoad': 1.2898230088495575, 'PikaruGenkiDesu': 1.351923076923077, 'PLANET7': 1.4776470588235293, 'PlatinumJungle': 0.8125836680053548, 'PrayerHaNemurenai': 1.148936170212766, 'PrismHeart': 1.2162818955042527, 'PsychoStaff': 0.8798133022170361, 'Raphael': 1.207900207900208, 'ReveryEarth': 0.9369277721261444, 'RinToSiteSippuNoNaka': 1.365482233502538, 'RisingGirl': 1.0845454545454545, 'Saisoku': 0.7184782608695652, 'SaladDays_vol01': 0.826171875, 'SaladDays_vol18': 0.7789115646258503, 'SamayoeruSyonenNiJunaiWo': 0.9534883720930233, 'SeisinkiVulnus': 0.8004246284501062, 'ShimatteIkouze_vol01': 1.6525925925925926, 'ShimatteIkouze_vol26': 1.8609794628751974, 'SonokiDeABC': 1.1664864864864866, 'SyabondamaKieta': 1.0391498881431767, 'TaiyouNiSmash': 0.8970013037809648, 'TapkunNoTanteisitsu': 0.8363787375415282, 'TasogareTsushin': 0.9254385964912281, 'TennenSenshiG': 0.678974358974359, 'TensiNoHaneToAkumaNoShippo': 1.1053254437869822, 'TetsuSan': 1.427972027972028, \"That'sIzumiko\": 0.839396628216504, 'TotteokiNoABC': 0.9603603603603603, 'ToutaMairimasu': 1.5241301907968574, 'TouyouKidan': 1.032085561497326, 'TsubasaNoKioku': 0.37743850720949956, \"UchiNoNyan'sDiary\": 0.4304568527918782, 'UchuKigekiM774': 1.3842794759825328, 'UltraEleven': 1.3574958813838551, 'UnbalanceTokyo': 1.2290794979079498, 'WarewareHaOniDearu': 1.0259067357512954, 'YamatoNoHane': 0.9941690962099126, 'YasasiiAkuma': 1.144736842105263, 'YouchienBoueigumi': 2.0027173913043477, 'YoumaKourin': 1.0368421052631578, 'YukiNoFuruMachi': 1.1770284510010538, 'YumeiroCooking': 1.1364063969896518, 'YumeNoKayoiji': 0.6288156288156288}\n",
      "Average Texts per Panel: {'AisazuNihaIrarenai': 1.452662721893491, 'AkkeraKanjinchou': 1.3743589743589744, 'Akuhamu': 1.6735395189003437, 'AosugiruHaru': 1.4107883817427387, 'AppareKappore': 1.6139896373056994, 'Arisa': 1.5285714285714285, 'ARMS': 1.8469565217391304, 'BakuretsuKungFuGirl': 2.1673267326732675, 'Belmondo': 1.4625407166123778, 'BEMADER_P': 1.2699386503067485, 'BokuHaSitatakaKun': 2.1173708920187795, 'BurariTessenTorimonocho': 1.2382022471910112, 'ByebyeC-BOY': 1.279111111111111, 'Copy of AisazuNihaIrarenai': 1.452662721893491, 'Copy of Arisa': 1.5285714285714285, 'Count3DeKimeteAgeru': 1.296726504751848, 'DollGun': 1.4901734104046243, 'Donburakokko': 1.5454545454545454, 'DualJustice': 1.1085568326947637, 'EienNoWith': 1.2649819494584837, 'EvaLady': 1.5196770938446014, 'EverydayOsakanaChan': 2.0900109769484083, 'GakuenNoise': 1.254646840148699, 'GarakutayaManta': 0.9820205479452054, 'GinNoChimera': 1.0972037283621838, 'GOOD_KISS_Ver2': 1.4021739130434783, 'Hamlet': 1.6900369003690037, 'HanzaiKousyouninMinegishiEitarou': 1.4208782104391051, 'HaruichibanNoFukukoro': 1.53717277486911, 'HarukaRefrain': 1.368295589988081, 'HealingPlanet': 1.2604298356510746, 'HeiseiJimen': 1.1924603174603174, 'HighschoolKimengumi_vol01': 1.8875379939209727, 'HighschoolKimengumi_vol20': 1.9020833333333333, 'HinagikuKenzan': 1.1505507955936352, 'HisokaReturns': 1.181910569105691, 'JangiriPonpon': 0.9349480968858132, 'JijiBabaFight': 1.7877030162412992, 'Joouari': 1.2258403361344539, 'Jyovolley': 1.1382842509603073, 'KarappoHighschool': 0.9340175953079178, 'KimiHaBokuNoTaiyouDa': 1.325735992402659, 'KoukouNoHitotachi': 2.5831556503198296, 'KuroidoGanka': 1.1914480077745384, 'KyokugenCyclone': 1.5705521472392638, 'LancelotFullThrottle': 1.7749469214437368, 'LoveHina_vol01': 1.680594243268338, 'LoveHina_vol14': 1.8669950738916257, 'MadouTaiga': 1.0686567164179104, 'MAD_STONE': 0.9773828756058158, 'MagicianLoad': 1.202917771883289, 'MagicStarGakuin': 2.0880121396054627, 'MariaSamaNihaNaisyo': 1.523076923076923, 'MayaNoAkaiKutsu': 1.300995024875622, 'MemorySeijin': 1.2703862660944205, 'MeteoSanStrikeDesu': 1.3329532497149372, 'MiraiSan': 1.3569321533923304, 'MisutenaideDaisy': 1.7944006999125108, 'MoeruOnisan_vol01': 2.3865638766519823, 'MoeruOnisan_vol19': 2.018884892086331, 'MomoyamaHaikagura': 1.4460285132382893, 'MukoukizuNoChonbo': 1.7574257425742574, 'MutekiBoukenSyakuma': 1.4022857142857144, 'Nekodama': 1.6316425120772946, 'NichijouSoup': 1.970414201183432, 'Ningyoushi': 1.0444685466377441, 'OhWareraRettouSeitokai': 1.1928251121076232, 'OL_Lunch': 2.1756919374247894, 'ParaisoRoad': 1.5873893805309736, 'PikaruGenkiDesu': 0.9942307692307693, 'PLANET7': 1.8211764705882354, 'PlatinumJungle': 1.2329317269076305, 'PrayerHaNemurenai': 1.5704787234042554, 'PrismHeart': 1.709599027946537, 'PsychoStaff': 1.3010501750291714, 'Raphael': 1.7713097713097714, 'ReveryEarth': 1.3021363173957274, 'RinToSiteSippuNoNaka': 1.5705583756345178, 'RisingGirl': 1.450909090909091, 'Saisoku': 1.2652173913043478, 'SaladDays_vol01': 1.2919921875, 'SaladDays_vol18': 1.4603174603174602, 'SamayoeruSyonenNiJunaiWo': 1.1007751937984496, 'SeisinkiVulnus': 1.0138004246284502, 'ShimatteIkouze_vol01': 1.2985185185185186, 'ShimatteIkouze_vol26': 1.1477093206951028, 'SonokiDeABC': 1.2583783783783784, 'SyabondamaKieta': 1.2069351230425056, 'TaiyouNiSmash': 1.199478487614081, 'TapkunNoTanteisitsu': 1.1104651162790697, 'TasogareTsushin': 1.2883771929824561, 'TennenSenshiG': 1.5805128205128205, 'TensiNoHaneToAkumaNoShippo': 1.353846153846154, 'TetsuSan': 1.648951048951049, \"That'sIzumiko\": 1.2102928127772847, 'TotteokiNoABC': 1.381981981981982, 'ToutaMairimasu': 1.1077441077441077, 'TouyouKidan': 0.9318181818181818, 'TsubasaNoKioku': 0.8481764206955047, \"UchiNoNyan'sDiary\": 1.231472081218274, 'UchuKigekiM774': 1.5834061135371178, 'UltraEleven': 1.200988467874794, 'UnbalanceTokyo': 1.4089958158995817, 'WarewareHaOniDearu': 1.1917098445595855, 'YamatoNoHane': 0.9873663751214772, 'YasasiiAkuma': 1.9019138755980862, 'YouchienBoueigumi': 2.3125, 'YoumaKourin': 1.2589473684210526, 'YukiNoFuruMachi': 1.7544783983140146, 'YumeiroCooking': 1.2737535277516463, 'YumeNoKayoiji': 1.1135531135531136}\n"
     ]
    }
   ],
   "source": [
    "import os\n",
    "import pandas as pd\n",
    "\n",
    "# Dictionaries to store the results for each statistic\n",
    "stat_total_panels = {}\n",
    "stat_total_faces = {}\n",
    "stat_total_texts = {}\n",
    "stat_avg_num_faces_per_panel = {}\n",
    "stat_avg_num_texts_per_panel = {}\n",
    "\n",
    "def calculate_avg_faces_and_texts_across_manga(base_dir):\n",
    "    # Iterate through each folder in the base directory\n",
    "    for manga_folder in os.listdir(base_dir):\n",
    "        manga_path = os.path.join(base_dir, manga_folder)\n",
    "\n",
    "        # Check if it's a directory\n",
    "        if os.path.isdir(manga_path):\n",
    "            total_panels = 0\n",
    "            total_faces = 0\n",
    "            total_texts = 0\n",
    "\n",
    "            # Iterate through each CSV file in the manga folder\n",
    "            for csv_file in os.listdir(manga_path):\n",
    "                if csv_file.endswith('.csv'):\n",
    "                    csv_file_path = os.path.join(manga_path, csv_file)\n",
    "\n",
    "                    # Load the DataFrame from the CSV file\n",
    "                    try:\n",
    "                        page_df = pd.read_csv(csv_file_path)\n",
    "                        \n",
    "                        # Check if 'type' column exists before proceeding\n",
    "                        if 'type' not in page_df.columns:\n",
    "                            continue\n",
    "\n",
    "                        # Count total panels (frames), faces, and texts\n",
    "                        total_panels += page_df[page_df[\"type\"] == \"frame\"].shape[0]\n",
    "                        total_faces += page_df[page_df[\"type\"] == \"face\"].shape[0]\n",
    "                        total_texts += page_df[page_df[\"type\"] == \"text\"].shape[0]\n",
    "\n",
    "                    except Exception as e:\n",
    "                        print(f\"Error processing file {csv_file_path}: {e}\")\n",
    "\n",
    "            # Calculate average number of faces and texts per panel for the current manga\n",
    "            avg_num_faces_per_panel = total_faces / total_panels if total_panels > 0 else 0\n",
    "            avg_num_texts_per_panel = total_texts / total_panels if total_panels > 0 else 0\n",
    "            \n",
    "            # Store results for the current manga in the provided dictionaries\n",
    "            stat_total_panels[manga_folder] = total_panels\n",
    "            stat_total_faces[manga_folder] = total_faces\n",
    "            stat_total_texts[manga_folder] = total_texts\n",
    "            stat_avg_num_faces_per_panel[manga_folder] = avg_num_faces_per_panel\n",
    "            stat_avg_num_texts_per_panel[manga_folder] = avg_num_texts_per_panel\n",
    "\n",
    "# Example usage\n",
    "clean_manga_dataset_path = '../CLEAN_Dataset/clean_manga109'\n",
    "calculate_avg_faces_and_texts_across_manga(clean_manga_dataset_path)\n",
    "\n",
    "# The results are now accessible in the provided dictionaries\n",
    "print(\"Total Panels:\", stat_total_panels)\n",
    "print(\"Total Faces:\", stat_total_faces)\n",
    "print(\"Total Texts:\", stat_total_texts)\n",
    "print(\"Average Faces per Panel:\", stat_avg_num_faces_per_panel)\n",
    "print(\"Average Texts per Panel:\", stat_avg_num_texts_per_panel)\n"
   ]
  },
  {
   "cell_type": "markdown",
   "metadata": {},
   "source": [
    "### Store Data in CSV"
   ]
  },
  {
   "cell_type": "code",
   "execution_count": 27,
   "metadata": {},
   "outputs": [
    {
     "name": "stdout",
     "output_type": "stream",
     "text": [
      "CSV file 'manga_statistics.csv' created successfully.\n"
     ]
    }
   ],
   "source": [
    "import pandas as pd\n",
    "\n",
    "data = {\n",
    "    'path_folder': list(stat_manga_page_count.keys()),\n",
    "    'page_count': list(stat_manga_page_count.values()),\n",
    "    'overall_jp_chars': list(stat_overall_jp_char_count.values()),\n",
    "    'avg_page_jp_char': list(stat_avg_page_jp_char_count.values()),\n",
    "    'total_unique_chars': list(stat_manga_unique_chars_count.values()),\n",
    "\n",
    "    # 'genre': list(stat_manga_genre.values()),\n",
    "    # 'target': list(stat_manga_demo_target.values()),\n",
    "    # 'year': list(stat_manga_year.values()),\n",
    "\n",
    "    \"total_panel_count\": list(stat_total_panels.values()),\n",
    "    \"total_face_count\": list(stat_total_faces.values()),\n",
    "    \"total_textbox_count\": list(stat_total_texts.values()),\n",
    "    \"avg_face_per_panel\": list(stat_avg_num_faces_per_panel.values()),\n",
    "    \"avg_textbox_per_panel\": list(stat_avg_num_texts_per_panel.values()),\n",
    "}\n",
    "\n",
    "# df = pd.DataFrame(data)\n",
    "df = pd.DataFrame(data)\n",
    "\n",
    "output_csv_file = 'manga_statistics.csv'\n",
    "\n",
    "df.to_csv(output_csv_file, index=False)\n",
    "\n",
    "print(f\"CSV file '{output_csv_file}' created successfully.\")\n"
   ]
  }
 ],
 "metadata": {
  "kernelspec": {
   "display_name": "base",
   "language": "python",
   "name": "python3"
  },
  "language_info": {
   "codemirror_mode": {
    "name": "ipython",
    "version": 3
   },
   "file_extension": ".py",
   "mimetype": "text/x-python",
   "name": "python",
   "nbconvert_exporter": "python",
   "pygments_lexer": "ipython3",
   "version": "3.12.4"
  }
 },
 "nbformat": 4,
 "nbformat_minor": 2
}
