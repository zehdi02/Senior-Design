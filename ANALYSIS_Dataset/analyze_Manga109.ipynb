{
 "cells": [
  {
   "cell_type": "code",
   "execution_count": 1,
   "metadata": {},
   "outputs": [],
   "source": [
    "import os\n",
    "import pandas as pd\n",
    "\n",
    "clean_dataset_path = f'../CLEAN_Dataset/clean_manga109'\n",
    "\n",
    "manga_titles = [f for f in os.listdir(clean_dataset_path)]\n"
   ]
  },
  {
   "cell_type": "markdown",
   "metadata": {},
   "source": [
    "### 1. Overall JP char count in EVERY Manga | Total JP char in each page"
   ]
  },
  {
   "cell_type": "code",
   "execution_count": 2,
   "metadata": {},
   "outputs": [],
   "source": [
    "stat_overall_jp_char_count = {}\n",
    "stat_total_jp_char_page = {}\n",
    "\n",
    "for manga_title in os.listdir(clean_dataset_path):\n",
    "  manga_title_path = os.path.join(clean_dataset_path, manga_title)\n",
    "\n",
    "  jp_char_count_manga = 0\n",
    "\n",
    "  for manga_page in os.listdir(manga_title_path):\n",
    "    page = os.path.join (manga_title_path, manga_page)\n",
    "    # print(page)\n",
    "\n",
    "    df = pd.read_csv(page)\n",
    "\n",
    "    if 'text_content' in df.columns:\n",
    "      text_content_col = df['text_content']\n",
    "      jp_char_count_page = 0\n",
    "\n",
    "      for text in text_content_col[text_content_col.notna()]:\n",
    "        if text.strip():  # check if text is not just whitespace\n",
    "          jp_char_count_page += len(text) # Total JP character count in a page\n",
    "          stat_total_jp_char_page[manga_page] = jp_char_count_page\n",
    "\n",
    "      jp_char_count_manga += jp_char_count_page # OVERALL JP character count in a manga title\n",
    "    \n",
    "  stat_overall_jp_char_count[manga_title] = jp_char_count_manga\n",
    "  # print(f'Overall JP character count on manga {manga_title}: {jp_char_count_manga}')\n"
   ]
  },
  {
   "cell_type": "markdown",
   "metadata": {},
   "source": [
    "### 2 Manga Page count"
   ]
  },
  {
   "cell_type": "code",
   "execution_count": 3,
   "metadata": {},
   "outputs": [],
   "source": [
    "stat_manga_page_count = {}\n",
    "\n",
    "for manga_title in os.listdir(clean_dataset_path):\n",
    "  manga_title_path = os.path.join(clean_dataset_path, manga_title)\n",
    "\n",
    "  stat_manga_page_count[manga_title] = len(os.listdir(manga_title_path)) * 2\n",
    "\n",
    "# print(stat_manga_page_count)\n"
   ]
  },
  {
   "cell_type": "markdown",
   "metadata": {},
   "source": [
    "### 3. Genre/Demographic Target/Year extract"
   ]
  },
  {
   "cell_type": "code",
   "execution_count": 4,
   "metadata": {},
   "outputs": [],
   "source": [
    "import requests\n",
    "from io import StringIO\n",
    "from bs4 import BeautifulSoup\n",
    "\n",
    "stat_manga_genre = {}\n",
    "stat_manga_demo_target = {}\n",
    "stat_manga_year = {}\n",
    "\n",
    "url = 'http://www.manga109.org/en/explore.html'\n",
    "response = requests.get(url)\n",
    "soup = BeautifulSoup(response.content, 'html.parser')\n",
    "\n",
    "table = soup.find('table', class_='tablesorter')\n",
    "\n",
    "df = pd.read_html(StringIO(str(soup)), attrs = {'class': 'tablesorter'})[0]\n",
    "\n",
    "for index, row in df.iterrows():\n",
    "  folder_name = row[\"Folder Name\"]\n",
    "\n",
    "  manga_genre = row[\"Genre\"]\n",
    "  manga_demo_target = row[\"Target\"]\n",
    "  manga_year = row[\"Age\"]\n",
    "\n",
    "  stat_manga_genre[folder_name] = manga_genre\n",
    "  stat_manga_demo_target[folder_name] = manga_demo_target\n",
    "  stat_manga_year[folder_name] = manga_year\n"
   ]
  },
  {
   "cell_type": "markdown",
   "metadata": {},
   "source": [
    "### 4. Average JP char count in each page of every manga"
   ]
  },
  {
   "cell_type": "code",
   "execution_count": 5,
   "metadata": {},
   "outputs": [],
   "source": [
    "stat_avg_page_jp_char_count = {}\n",
    "\n",
    "for title, count in stat_overall_jp_char_count.items():\n",
    "    stat_avg_page_jp_char_count[title] = count / stat_manga_page_count[title]\n",
    "\n",
    "# print(stat_avg_page_jp_char_count)"
   ]
  },
  {
   "cell_type": "markdown",
   "metadata": {},
   "source": [
    "### 5. Number of UNIQUE characters in EVERY Manga"
   ]
  },
  {
   "cell_type": "code",
   "execution_count": 6,
   "metadata": {},
   "outputs": [],
   "source": [
    "import regex as re\n",
    "\n",
    "stat_manga_unique_chars_count = {}\n",
    "stat_manga_unique_chars = {}\n",
    "\n",
    "for manga_title in os.listdir(clean_dataset_path):\n",
    "  manga_title_path = os.path.join(clean_dataset_path, manga_title)\n",
    "\n",
    "  unique_vocab_count = set()\n",
    "\n",
    "  for manga_page in os.listdir(manga_title_path):\n",
    "    page = os.path.join (manga_title_path, manga_page)\n",
    "\n",
    "    df = pd.read_csv(page)\n",
    "\n",
    "    if 'text_content' in df.columns:\n",
    "      text_content_col = df['text_content']\n",
    "\n",
    "      for text in text_content_col[text_content_col.notna()]:\n",
    "        if text.strip():  # check if text is not just whitespace\n",
    "          no_punctuation_text = re.sub(r'\\p{P}+', '', text) # remove any punctuations. only read letters\n",
    "\n",
    "          for char in no_punctuation_text:\n",
    "            unique_vocab_count.add(char)\n",
    "\n",
    "  stat_manga_unique_chars_count[manga_title] = len(unique_vocab_count)\n",
    "  stat_manga_unique_chars[manga_title] = unique_vocab_count\n",
    "\n"
   ]
  },
  {
   "cell_type": "markdown",
   "metadata": {},
   "source": [
    "### 6. Average Face & Text Across Manga"
   ]
  },
  {
   "cell_type": "code",
   "execution_count": 7,
   "metadata": {},
   "outputs": [
    {
     "name": "stdout",
     "output_type": "stream",
     "text": [
      "Total Panels: {'AisazuNihaIrarenai': 1014, 'AkkeraKanjinchou': 975, 'Akuhamu': 873, 'AosugiruHaru': 964, 'AppareKappore': 772, 'Arisa': 910, 'ARMS': 575, 'BakuretsuKungFuGirl': 1010, 'Belmondo': 921, 'BEMADER_P': 1141, 'BokuHaSitatakaKun': 1065, 'BurariTessenTorimonocho': 1335, 'ByebyeC-BOY': 1125, 'Copy of AisazuNihaIrarenai': 1014, 'Copy of Arisa': 910, 'Count3DeKimeteAgeru': 947, 'DollGun': 865, 'Donburakokko': 605, 'DualJustice': 783, 'EienNoWith': 1385, 'EvaLady': 991, 'EverydayOsakanaChan': 911, 'GakuenNoise': 1076, 'GarakutayaManta': 1168, 'GinNoChimera': 751, 'GOOD_KISS_Ver2': 1104, 'Hamlet': 1626, 'HanzaiKousyouninMinegishiEitarou': 1207, 'HaruichibanNoFukukoro': 955, 'HarukaRefrain': 839, 'HealingPlanet': 791, 'HeiseiJimen': 1008, 'HighschoolKimengumi_vol01': 987, 'HighschoolKimengumi_vol20': 960, 'HinagikuKenzan': 817, 'HisokaReturns': 984, 'JangiriPonpon': 1445, 'JijiBabaFight': 862, 'Joouari': 952, 'Jyovolley': 781, 'KarappoHighschool': 1364, 'KimiHaBokuNoTaiyouDa': 1053, 'KoukouNoHitotachi': 938, 'KuroidoGanka': 1029, 'KyokugenCyclone': 489, 'LancelotFullThrottle': 942, 'LoveHina_vol01': 1077, 'LoveHina_vol14': 1015, 'MadouTaiga': 670, 'MAD_STONE': 619, 'MagicianLoad': 754, 'MagicStarGakuin': 659, 'MariaSamaNihaNaisyo': 975, 'MayaNoAkaiKutsu': 804, 'MemorySeijin': 932, 'MeteoSanStrikeDesu': 877, 'MiraiSan': 1017, 'MisutenaideDaisy': 1143, 'MoeruOnisan_vol01': 908, 'MoeruOnisan_vol19': 1112, 'MomoyamaHaikagura': 491, 'MukoukizuNoChonbo': 606, 'MutekiBoukenSyakuma': 875, 'Nekodama': 828, 'NichijouSoup': 845, 'Ningyoushi': 922, 'OhWareraRettouSeitokai': 1115, 'OL_Lunch': 831, 'ParaisoRoad': 904, 'PikaruGenkiDesu': 1040, 'PLANET7': 850, 'PlatinumJungle': 747, 'PrayerHaNemurenai': 752, 'PrismHeart': 823, 'PsychoStaff': 857, 'Raphael': 962, 'ReveryEarth': 983, 'RinToSiteSippuNoNaka': 985, 'RisingGirl': 1100, 'Saisoku': 920, 'SaladDays_vol01': 1024, 'SaladDays_vol18': 882, 'SamayoeruSyonenNiJunaiWo': 774, 'SeisinkiVulnus': 942, 'ShimatteIkouze_vol01': 1350, 'ShimatteIkouze_vol26': 1266, 'SonokiDeABC': 925, 'SyabondamaKieta': 894, 'TaiyouNiSmash': 767, 'TapkunNoTanteisitsu': 1204, 'TasogareTsushin': 912, 'TennenSenshiG': 975, 'TensiNoHaneToAkumaNoShippo': 845, 'TetsuSan': 715, \"That'sIzumiko\": 1127, 'TotteokiNoABC': 1110, 'ToutaMairimasu': 891, 'TouyouKidan': 1496, 'TsubasaNoKioku': 1179, \"UchiNoNyan'sDiary\": 985, 'UchuKigekiM774': 1145, 'UltraEleven': 1214, 'UnbalanceTokyo': 956, 'WarewareHaOniDearu': 965, 'YamatoNoHane': 1029, 'YasasiiAkuma': 836, 'YouchienBoueigumi': 368, 'YoumaKourin': 950, 'YukiNoFuruMachi': 949, 'YumeiroCooking': 1063, 'YumeNoKayoiji': 819}\n",
      "Total Faces: {'AisazuNihaIrarenai': 1139, 'AkkeraKanjinchou': 736, 'Akuhamu': 1207, 'AosugiruHaru': 632, 'AppareKappore': 930, 'Arisa': 1228, 'ARMS': 327, 'BakuretsuKungFuGirl': 1104, 'Belmondo': 1000, 'BEMADER_P': 1354, 'BokuHaSitatakaKun': 2526, 'BurariTessenTorimonocho': 1235, 'ByebyeC-BOY': 1035, 'Copy of AisazuNihaIrarenai': 1139, 'Copy of Arisa': 1228, 'Count3DeKimeteAgeru': 784, 'DollGun': 1155, 'Donburakokko': 582, 'DualJustice': 440, 'EienNoWith': 1160, 'EvaLady': 887, 'EverydayOsakanaChan': 544, 'GakuenNoise': 951, 'GarakutayaManta': 1287, 'GinNoChimera': 701, 'GOOD_KISS_Ver2': 1147, 'Hamlet': 2570, 'HanzaiKousyouninMinegishiEitarou': 1036, 'HaruichibanNoFukukoro': 675, 'HarukaRefrain': 1009, 'HealingPlanet': 573, 'HeiseiJimen': 1486, 'HighschoolKimengumi_vol01': 1856, 'HighschoolKimengumi_vol20': 1609, 'HinagikuKenzan': 655, 'HisokaReturns': 878, 'JangiriPonpon': 1820, 'JijiBabaFight': 1272, 'Joouari': 950, 'Jyovolley': 777, 'KarappoHighschool': 1288, 'KimiHaBokuNoTaiyouDa': 953, 'KoukouNoHitotachi': 2133, 'KuroidoGanka': 716, 'KyokugenCyclone': 789, 'LancelotFullThrottle': 1359, 'LoveHina_vol01': 1305, 'LoveHina_vol14': 1551, 'MadouTaiga': 468, 'MAD_STONE': 700, 'MagicianLoad': 668, 'MagicStarGakuin': 917, 'MariaSamaNihaNaisyo': 724, 'MayaNoAkaiKutsu': 627, 'MemorySeijin': 743, 'MeteoSanStrikeDesu': 1155, 'MiraiSan': 1428, 'MisutenaideDaisy': 1853, 'MoeruOnisan_vol01': 2114, 'MoeruOnisan_vol19': 2649, 'MomoyamaHaikagura': 572, 'MukoukizuNoChonbo': 977, 'MutekiBoukenSyakuma': 963, 'Nekodama': 1327, 'NichijouSoup': 1184, 'Ningyoushi': 822, 'OhWareraRettouSeitokai': 1035, 'OL_Lunch': 1481, 'ParaisoRoad': 1166, 'PikaruGenkiDesu': 1406, 'PLANET7': 1256, 'PlatinumJungle': 607, 'PrayerHaNemurenai': 864, 'PrismHeart': 1001, 'PsychoStaff': 754, 'Raphael': 1162, 'ReveryEarth': 921, 'RinToSiteSippuNoNaka': 1345, 'RisingGirl': 1193, 'Saisoku': 661, 'SaladDays_vol01': 846, 'SaladDays_vol18': 687, 'SamayoeruSyonenNiJunaiWo': 738, 'SeisinkiVulnus': 754, 'ShimatteIkouze_vol01': 2231, 'ShimatteIkouze_vol26': 2356, 'SonokiDeABC': 1079, 'SyabondamaKieta': 929, 'TaiyouNiSmash': 688, 'TapkunNoTanteisitsu': 1007, 'TasogareTsushin': 844, 'TennenSenshiG': 662, 'TensiNoHaneToAkumaNoShippo': 934, 'TetsuSan': 1021, \"That'sIzumiko\": 946, 'TotteokiNoABC': 1066, 'ToutaMairimasu': 1358, 'TouyouKidan': 1544, 'TsubasaNoKioku': 445, \"UchiNoNyan'sDiary\": 424, 'UchuKigekiM774': 1585, 'UltraEleven': 1648, 'UnbalanceTokyo': 1175, 'WarewareHaOniDearu': 990, 'YamatoNoHane': 1023, 'YasasiiAkuma': 957, 'YouchienBoueigumi': 737, 'YoumaKourin': 985, 'YukiNoFuruMachi': 1117, 'YumeiroCooking': 1208, 'YumeNoKayoiji': 515}\n",
      "Total Textboxes: {'AisazuNihaIrarenai': 1473, 'AkkeraKanjinchou': 1340, 'Akuhamu': 1461, 'AosugiruHaru': 1360, 'AppareKappore': 1246, 'Arisa': 1391, 'ARMS': 1062, 'BakuretsuKungFuGirl': 2189, 'Belmondo': 1347, 'BEMADER_P': 1449, 'BokuHaSitatakaKun': 2255, 'BurariTessenTorimonocho': 1653, 'ByebyeC-BOY': 1439, 'Copy of AisazuNihaIrarenai': 1473, 'Copy of Arisa': 1391, 'Count3DeKimeteAgeru': 1228, 'DollGun': 1289, 'Donburakokko': 935, 'DualJustice': 868, 'EienNoWith': 1752, 'EvaLady': 1506, 'EverydayOsakanaChan': 1904, 'GakuenNoise': 1350, 'GarakutayaManta': 1147, 'GinNoChimera': 824, 'GOOD_KISS_Ver2': 1548, 'Hamlet': 2748, 'HanzaiKousyouninMinegishiEitarou': 1715, 'HaruichibanNoFukukoro': 1468, 'HarukaRefrain': 1148, 'HealingPlanet': 997, 'HeiseiJimen': 1202, 'HighschoolKimengumi_vol01': 1863, 'HighschoolKimengumi_vol20': 1826, 'HinagikuKenzan': 940, 'HisokaReturns': 1163, 'JangiriPonpon': 1351, 'JijiBabaFight': 1541, 'Joouari': 1167, 'Jyovolley': 889, 'KarappoHighschool': 1274, 'KimiHaBokuNoTaiyouDa': 1396, 'KoukouNoHitotachi': 2423, 'KuroidoGanka': 1226, 'KyokugenCyclone': 768, 'LancelotFullThrottle': 1672, 'LoveHina_vol01': 1810, 'LoveHina_vol14': 1895, 'MadouTaiga': 716, 'MAD_STONE': 605, 'MagicianLoad': 907, 'MagicStarGakuin': 1376, 'MariaSamaNihaNaisyo': 1485, 'MayaNoAkaiKutsu': 1046, 'MemorySeijin': 1184, 'MeteoSanStrikeDesu': 1169, 'MiraiSan': 1380, 'MisutenaideDaisy': 2051, 'MoeruOnisan_vol01': 2167, 'MoeruOnisan_vol19': 2245, 'MomoyamaHaikagura': 710, 'MukoukizuNoChonbo': 1065, 'MutekiBoukenSyakuma': 1227, 'Nekodama': 1351, 'NichijouSoup': 1665, 'Ningyoushi': 963, 'OhWareraRettouSeitokai': 1330, 'OL_Lunch': 1808, 'ParaisoRoad': 1435, 'PikaruGenkiDesu': 1034, 'PLANET7': 1548, 'PlatinumJungle': 921, 'PrayerHaNemurenai': 1181, 'PrismHeart': 1407, 'PsychoStaff': 1115, 'Raphael': 1704, 'ReveryEarth': 1280, 'RinToSiteSippuNoNaka': 1547, 'RisingGirl': 1596, 'Saisoku': 1164, 'SaladDays_vol01': 1323, 'SaladDays_vol18': 1288, 'SamayoeruSyonenNiJunaiWo': 852, 'SeisinkiVulnus': 955, 'ShimatteIkouze_vol01': 1753, 'ShimatteIkouze_vol26': 1453, 'SonokiDeABC': 1164, 'SyabondamaKieta': 1079, 'TaiyouNiSmash': 920, 'TapkunNoTanteisitsu': 1337, 'TasogareTsushin': 1175, 'TennenSenshiG': 1541, 'TensiNoHaneToAkumaNoShippo': 1144, 'TetsuSan': 1179, \"That'sIzumiko\": 1364, 'TotteokiNoABC': 1534, 'ToutaMairimasu': 987, 'TouyouKidan': 1394, 'TsubasaNoKioku': 1000, \"UchiNoNyan'sDiary\": 1213, 'UchuKigekiM774': 1813, 'UltraEleven': 1458, 'UnbalanceTokyo': 1347, 'WarewareHaOniDearu': 1150, 'YamatoNoHane': 1016, 'YasasiiAkuma': 1590, 'YouchienBoueigumi': 851, 'YoumaKourin': 1196, 'YukiNoFuruMachi': 1665, 'YumeiroCooking': 1354, 'YumeNoKayoiji': 912}\n",
      "Average Faces per Panel: {'AisazuNihaIrarenai': 1.1232741617357003, 'AkkeraKanjinchou': 0.7548717948717949, 'Akuhamu': 1.3825887743413516, 'AosugiruHaru': 0.6556016597510373, 'AppareKappore': 1.2046632124352332, 'Arisa': 1.3494505494505495, 'ARMS': 0.568695652173913, 'BakuretsuKungFuGirl': 1.0930693069306932, 'Belmondo': 1.0857763300760044, 'BEMADER_P': 1.1866783523225242, 'BokuHaSitatakaKun': 2.371830985915493, 'BurariTessenTorimonocho': 0.9250936329588015, 'ByebyeC-BOY': 0.92, 'Copy of AisazuNihaIrarenai': 1.1232741617357003, 'Copy of Arisa': 1.3494505494505495, 'Count3DeKimeteAgeru': 0.8278775079197466, 'DollGun': 1.3352601156069364, 'Donburakokko': 0.9619834710743802, 'DualJustice': 0.561941251596424, 'EienNoWith': 0.8375451263537906, 'EvaLady': 0.8950554994954592, 'EverydayOsakanaChan': 0.5971459934138309, 'GakuenNoise': 0.8838289962825279, 'GarakutayaManta': 1.1018835616438356, 'GinNoChimera': 0.933422103861518, 'GOOD_KISS_Ver2': 1.0389492753623188, 'Hamlet': 1.5805658056580565, 'HanzaiKousyouninMinegishiEitarou': 0.8583264291632146, 'HaruichibanNoFukukoro': 0.7068062827225131, 'HarukaRefrain': 1.2026221692491061, 'HealingPlanet': 0.7243994943109987, 'HeiseiJimen': 1.4742063492063493, 'HighschoolKimengumi_vol01': 1.8804457953394123, 'HighschoolKimengumi_vol20': 1.6760416666666667, 'HinagikuKenzan': 0.8017135862913096, 'HisokaReturns': 0.8922764227642277, 'JangiriPonpon': 1.259515570934256, 'JijiBabaFight': 1.4756380510440836, 'Joouari': 0.9978991596638656, 'Jyovolley': 0.9948783610755442, 'KarappoHighschool': 0.9442815249266863, 'KimiHaBokuNoTaiyouDa': 0.9050332383665717, 'KoukouNoHitotachi': 2.2739872068230276, 'KuroidoGanka': 0.6958211856171039, 'KyokugenCyclone': 1.6134969325153374, 'LancelotFullThrottle': 1.4426751592356688, 'LoveHina_vol01': 1.2116991643454038, 'LoveHina_vol14': 1.5280788177339901, 'MadouTaiga': 0.6985074626865672, 'MAD_STONE': 1.1308562197092085, 'MagicianLoad': 0.8859416445623343, 'MagicStarGakuin': 1.3915022761760243, 'MariaSamaNihaNaisyo': 0.7425641025641025, 'MayaNoAkaiKutsu': 0.7798507462686567, 'MemorySeijin': 0.7972103004291845, 'MeteoSanStrikeDesu': 1.3169897377423032, 'MiraiSan': 1.4041297935103245, 'MisutenaideDaisy': 1.621172353455818, 'MoeruOnisan_vol01': 2.328193832599119, 'MoeruOnisan_vol19': 2.3821942446043165, 'MomoyamaHaikagura': 1.164969450101833, 'MukoukizuNoChonbo': 1.6122112211221122, 'MutekiBoukenSyakuma': 1.1005714285714285, 'Nekodama': 1.6026570048309179, 'NichijouSoup': 1.4011834319526628, 'Ningyoushi': 0.8915401301518439, 'OhWareraRettouSeitokai': 0.9282511210762332, 'OL_Lunch': 1.7821901323706377, 'ParaisoRoad': 1.2898230088495575, 'PikaruGenkiDesu': 1.351923076923077, 'PLANET7': 1.4776470588235293, 'PlatinumJungle': 0.8125836680053548, 'PrayerHaNemurenai': 1.148936170212766, 'PrismHeart': 1.2162818955042527, 'PsychoStaff': 0.8798133022170361, 'Raphael': 1.207900207900208, 'ReveryEarth': 0.9369277721261444, 'RinToSiteSippuNoNaka': 1.365482233502538, 'RisingGirl': 1.0845454545454545, 'Saisoku': 0.7184782608695652, 'SaladDays_vol01': 0.826171875, 'SaladDays_vol18': 0.7789115646258503, 'SamayoeruSyonenNiJunaiWo': 0.9534883720930233, 'SeisinkiVulnus': 0.8004246284501062, 'ShimatteIkouze_vol01': 1.6525925925925926, 'ShimatteIkouze_vol26': 1.8609794628751974, 'SonokiDeABC': 1.1664864864864866, 'SyabondamaKieta': 1.0391498881431767, 'TaiyouNiSmash': 0.8970013037809648, 'TapkunNoTanteisitsu': 0.8363787375415282, 'TasogareTsushin': 0.9254385964912281, 'TennenSenshiG': 0.678974358974359, 'TensiNoHaneToAkumaNoShippo': 1.1053254437869822, 'TetsuSan': 1.427972027972028, \"That'sIzumiko\": 0.839396628216504, 'TotteokiNoABC': 0.9603603603603603, 'ToutaMairimasu': 1.5241301907968574, 'TouyouKidan': 1.032085561497326, 'TsubasaNoKioku': 0.37743850720949956, \"UchiNoNyan'sDiary\": 0.4304568527918782, 'UchuKigekiM774': 1.3842794759825328, 'UltraEleven': 1.3574958813838551, 'UnbalanceTokyo': 1.2290794979079498, 'WarewareHaOniDearu': 1.0259067357512954, 'YamatoNoHane': 0.9941690962099126, 'YasasiiAkuma': 1.144736842105263, 'YouchienBoueigumi': 2.0027173913043477, 'YoumaKourin': 1.0368421052631578, 'YukiNoFuruMachi': 1.1770284510010538, 'YumeiroCooking': 1.1364063969896518, 'YumeNoKayoiji': 0.6288156288156288}\n",
      "Average Texts per Panel: {'AisazuNihaIrarenai': 1.452662721893491, 'AkkeraKanjinchou': 1.3743589743589744, 'Akuhamu': 1.6735395189003437, 'AosugiruHaru': 1.4107883817427387, 'AppareKappore': 1.6139896373056994, 'Arisa': 1.5285714285714285, 'ARMS': 1.8469565217391304, 'BakuretsuKungFuGirl': 2.1673267326732675, 'Belmondo': 1.4625407166123778, 'BEMADER_P': 1.2699386503067485, 'BokuHaSitatakaKun': 2.1173708920187795, 'BurariTessenTorimonocho': 1.2382022471910112, 'ByebyeC-BOY': 1.279111111111111, 'Copy of AisazuNihaIrarenai': 1.452662721893491, 'Copy of Arisa': 1.5285714285714285, 'Count3DeKimeteAgeru': 1.296726504751848, 'DollGun': 1.4901734104046243, 'Donburakokko': 1.5454545454545454, 'DualJustice': 1.1085568326947637, 'EienNoWith': 1.2649819494584837, 'EvaLady': 1.5196770938446014, 'EverydayOsakanaChan': 2.0900109769484083, 'GakuenNoise': 1.254646840148699, 'GarakutayaManta': 0.9820205479452054, 'GinNoChimera': 1.0972037283621838, 'GOOD_KISS_Ver2': 1.4021739130434783, 'Hamlet': 1.6900369003690037, 'HanzaiKousyouninMinegishiEitarou': 1.4208782104391051, 'HaruichibanNoFukukoro': 1.53717277486911, 'HarukaRefrain': 1.368295589988081, 'HealingPlanet': 1.2604298356510746, 'HeiseiJimen': 1.1924603174603174, 'HighschoolKimengumi_vol01': 1.8875379939209727, 'HighschoolKimengumi_vol20': 1.9020833333333333, 'HinagikuKenzan': 1.1505507955936352, 'HisokaReturns': 1.181910569105691, 'JangiriPonpon': 0.9349480968858132, 'JijiBabaFight': 1.7877030162412992, 'Joouari': 1.2258403361344539, 'Jyovolley': 1.1382842509603073, 'KarappoHighschool': 0.9340175953079178, 'KimiHaBokuNoTaiyouDa': 1.325735992402659, 'KoukouNoHitotachi': 2.5831556503198296, 'KuroidoGanka': 1.1914480077745384, 'KyokugenCyclone': 1.5705521472392638, 'LancelotFullThrottle': 1.7749469214437368, 'LoveHina_vol01': 1.680594243268338, 'LoveHina_vol14': 1.8669950738916257, 'MadouTaiga': 1.0686567164179104, 'MAD_STONE': 0.9773828756058158, 'MagicianLoad': 1.202917771883289, 'MagicStarGakuin': 2.0880121396054627, 'MariaSamaNihaNaisyo': 1.523076923076923, 'MayaNoAkaiKutsu': 1.300995024875622, 'MemorySeijin': 1.2703862660944205, 'MeteoSanStrikeDesu': 1.3329532497149372, 'MiraiSan': 1.3569321533923304, 'MisutenaideDaisy': 1.7944006999125108, 'MoeruOnisan_vol01': 2.3865638766519823, 'MoeruOnisan_vol19': 2.018884892086331, 'MomoyamaHaikagura': 1.4460285132382893, 'MukoukizuNoChonbo': 1.7574257425742574, 'MutekiBoukenSyakuma': 1.4022857142857144, 'Nekodama': 1.6316425120772946, 'NichijouSoup': 1.970414201183432, 'Ningyoushi': 1.0444685466377441, 'OhWareraRettouSeitokai': 1.1928251121076232, 'OL_Lunch': 2.1756919374247894, 'ParaisoRoad': 1.5873893805309736, 'PikaruGenkiDesu': 0.9942307692307693, 'PLANET7': 1.8211764705882354, 'PlatinumJungle': 1.2329317269076305, 'PrayerHaNemurenai': 1.5704787234042554, 'PrismHeart': 1.709599027946537, 'PsychoStaff': 1.3010501750291714, 'Raphael': 1.7713097713097714, 'ReveryEarth': 1.3021363173957274, 'RinToSiteSippuNoNaka': 1.5705583756345178, 'RisingGirl': 1.450909090909091, 'Saisoku': 1.2652173913043478, 'SaladDays_vol01': 1.2919921875, 'SaladDays_vol18': 1.4603174603174602, 'SamayoeruSyonenNiJunaiWo': 1.1007751937984496, 'SeisinkiVulnus': 1.0138004246284502, 'ShimatteIkouze_vol01': 1.2985185185185186, 'ShimatteIkouze_vol26': 1.1477093206951028, 'SonokiDeABC': 1.2583783783783784, 'SyabondamaKieta': 1.2069351230425056, 'TaiyouNiSmash': 1.199478487614081, 'TapkunNoTanteisitsu': 1.1104651162790697, 'TasogareTsushin': 1.2883771929824561, 'TennenSenshiG': 1.5805128205128205, 'TensiNoHaneToAkumaNoShippo': 1.353846153846154, 'TetsuSan': 1.648951048951049, \"That'sIzumiko\": 1.2102928127772847, 'TotteokiNoABC': 1.381981981981982, 'ToutaMairimasu': 1.1077441077441077, 'TouyouKidan': 0.9318181818181818, 'TsubasaNoKioku': 0.8481764206955047, \"UchiNoNyan'sDiary\": 1.231472081218274, 'UchuKigekiM774': 1.5834061135371178, 'UltraEleven': 1.200988467874794, 'UnbalanceTokyo': 1.4089958158995817, 'WarewareHaOniDearu': 1.1917098445595855, 'YamatoNoHane': 0.9873663751214772, 'YasasiiAkuma': 1.9019138755980862, 'YouchienBoueigumi': 2.3125, 'YoumaKourin': 1.2589473684210526, 'YukiNoFuruMachi': 1.7544783983140146, 'YumeiroCooking': 1.2737535277516463, 'YumeNoKayoiji': 1.1135531135531136}\n"
     ]
    }
   ],
   "source": [
    "import os\n",
    "import pandas as pd\n",
    "\n",
    "# Dictionaries to store the results for each statistic\n",
    "stat_total_panel_count = {}\n",
    "stat_total_face_count = {}\n",
    "stat_total_textbox_count = {}\n",
    "stat_avg_face_count_per_panel = {}\n",
    "stat_avg_textbox_count_per_panel = {}\n",
    "\n",
    "def calculate_avg_faces_and_texts_across_manga(base_dir):\n",
    "    # Iterate through each folder in the base directory\n",
    "    for manga_folder in os.listdir(base_dir):\n",
    "        manga_path = os.path.join(base_dir, manga_folder)\n",
    "\n",
    "        # Check if it's a directory\n",
    "        if os.path.isdir(manga_path):\n",
    "            total_panels = 0\n",
    "            total_faces = 0\n",
    "            total_textboxes = 0\n",
    "\n",
    "            # Iterate through each CSV file in the manga folder\n",
    "            for csv_file in os.listdir(manga_path):\n",
    "                if csv_file.endswith('.csv'):\n",
    "                    csv_file_path = os.path.join(manga_path, csv_file)\n",
    "\n",
    "                    # Load the DataFrame from the CSV file\n",
    "                    try:\n",
    "                        page_df = pd.read_csv(csv_file_path)\n",
    "                        \n",
    "                        # Check if 'type' column exists before proceeding\n",
    "                        if 'type' not in page_df.columns:\n",
    "                            continue\n",
    "\n",
    "                        # Count total panels (frames), faces, and texts\n",
    "                        total_panels += page_df[page_df[\"type\"] == \"frame\"].shape[0]\n",
    "                        total_faces += page_df[page_df[\"type\"] == \"face\"].shape[0]\n",
    "                        total_textboxes += page_df[page_df[\"type\"] == \"text\"].shape[0]\n",
    "\n",
    "                    except Exception as e:\n",
    "                        print(f\"Error processing file {csv_file_path}: {e}\")\n",
    "\n",
    "            # Calculate average number of faces and texts per panel for the current manga\n",
    "            avg_num_faces_per_panel = total_faces / total_panels if total_panels > 0 else 0\n",
    "            avg_num_texts_per_panel = total_textboxes / total_panels if total_panels > 0 else 0\n",
    "            \n",
    "            # Store results for the current manga in the provided dictionaries\n",
    "            stat_total_panel_count[manga_folder] = total_panels\n",
    "            stat_total_face_count[manga_folder] = total_faces\n",
    "            stat_total_textbox_count[manga_folder] = total_textboxes\n",
    "            stat_avg_face_count_per_panel[manga_folder] = avg_num_faces_per_panel\n",
    "            stat_avg_textbox_count_per_panel[manga_folder] = avg_num_texts_per_panel\n",
    "\n",
    "# Example usage\n",
    "calculate_avg_faces_and_texts_across_manga('../CLEAN_Dataset/clean_manga109')\n",
    "\n",
    "# The results are now accessible in the provided dictionaries\n",
    "print(\"Total Panels:\", stat_total_panel_count)\n",
    "print(\"Total Faces:\", stat_total_face_count)\n",
    "print(\"Total Textboxes:\", stat_total_textbox_count)\n",
    "print(\"Average Faces per Panel:\", stat_avg_face_count_per_panel)\n",
    "print(\"Average Texts per Panel:\", stat_avg_textbox_count_per_panel)\n"
   ]
  },
  {
   "cell_type": "markdown",
   "metadata": {},
   "source": [
    "### 7. Average text length per textbox"
   ]
  },
  {
   "cell_type": "code",
   "execution_count": 8,
   "metadata": {},
   "outputs": [
    {
     "name": "stdout",
     "output_type": "stream",
     "text": [
      "{'AisazuNihaIrarenai': 16.501316944688323, 'AkkeraKanjinchou': 21.394021739130434, 'Akuhamu': 14.942833471416735, 'AosugiruHaru': 20.15981012658228, 'AppareKappore': 14.606451612903227, 'Arisa': 13.439739413680782, 'ARMS': 34.43730886850153, 'BakuretsuKungFuGirl': 22.035326086956523, 'Belmondo': 24.469, 'BEMADER_P': 14.368537666174298, 'BokuHaSitatakaKun': 12.600158353127474, 'BurariTessenTorimonocho': 28.711740890688258, 'ByebyeC-BOY': 16.327536231884057, 'Copy of AisazuNihaIrarenai': 16.501316944688323, 'Copy of Arisa': 13.439739413680782, 'Count3DeKimeteAgeru': 17.238520408163264, 'DollGun': 14.251948051948052, 'Donburakokko': 24.575601374570446, 'DualJustice': 24.506818181818183, 'EienNoWith': 20.20948275862069, 'EvaLady': 24.834272829763247, 'EverydayOsakanaChan': 48.57904411764706, 'GakuenNoise': 16.590956887486858, 'GarakutayaManta': 10.254856254856255, 'GinNoChimera': 16.627674750356633, 'GOOD_KISS_Ver2': 17.359197907585003, 'Hamlet': 16.349027237354086, 'HanzaiKousyouninMinegishiEitarou': 23.724903474903474, 'HaruichibanNoFukukoro': 22.30962962962963, 'HarukaRefrain': 13.689791873141724, 'HealingPlanet': 28.05410122164049, 'HeiseiJimen': 13.635262449528938, 'HighschoolKimengumi_vol01': 12.24030172413793, 'HighschoolKimengumi_vol20': 17.853325046612802, 'HinagikuKenzan': 19.749618320610686, 'HisokaReturns': 19.841685649202734, 'JangiriPonpon': 11.633516483516484, 'JijiBabaFight': 14.833333333333334, 'Joouari': 14.126315789473685, 'Jyovolley': 16.096525096525095, 'KarappoHighschool': 12.052018633540373, 'KimiHaBokuNoTaiyouDa': 18.568730325288563, 'KoukouNoHitotachi': 13.573839662447257, 'KuroidoGanka': 24.976256983240223, 'KyokugenCyclone': 11.536121673003802, 'LancelotFullThrottle': 17.696100073583516, 'LoveHina_vol01': 17.698850574712644, 'LoveHina_vol14': 18.36105738233398, 'MadouTaiga': 17.681623931623932, 'MAD_STONE': 14.725714285714286, 'MagicianLoad': 18.345808383233532, 'MagicStarGakuin': 23.817884405670664, 'MariaSamaNihaNaisyo': 24.4792817679558, 'MayaNoAkaiKutsu': 24.720893141945773, 'MemorySeijin': 21.390309555854643, 'MeteoSanStrikeDesu': 14.277056277056277, 'MiraiSan': 13.8984593837535, 'MisutenaideDaisy': 14.1856449001619, 'MoeruOnisan_vol01': 15.172185430463577, 'MoeruOnisan_vol19': 13.12155530388826, 'MomoyamaHaikagura': 20.762237762237763, 'MukoukizuNoChonbo': 17.597748208802457, 'MutekiBoukenSyakuma': 14.474558670820352, 'Nekodama': 12.875659382064807, 'NichijouSoup': 20.091216216216218, 'Ningyoushi': 12.795620437956204, 'OhWareraRettouSeitokai': 17.004830917874397, 'OL_Lunch': 14.095881161377447, 'ParaisoRoad': 14.259005145797598, 'PikaruGenkiDesu': 9.18705547652916, 'PLANET7': 15.036624203821656, 'PlatinumJungle': 21.83855024711697, 'PrayerHaNemurenai': 20.70949074074074, 'PrismHeart': 24.815184815184814, 'PsychoStaff': 19.412466843501328, 'Raphael': 27.680722891566266, 'ReveryEarth': 19.35613463626493, 'RinToSiteSippuNoNaka': 18.365799256505575, 'RisingGirl': 19.71332774518022, 'Saisoku': 26.16944024205749, 'SaladDays_vol01': 19.995271867612292, 'SaladDays_vol18': 25.459970887918487, 'SamayoeruSyonenNiJunaiWo': 19.9159891598916, 'SeisinkiVulnus': 17.128647214854112, 'ShimatteIkouze_vol01': 10.219184222321829, 'ShimatteIkouze_vol26': 6.4104414261460105, 'SonokiDeABC': 16.107506950880445, 'SyabondamaKieta': 12.503767491926803, 'TaiyouNiSmash': 20.04796511627907, 'TapkunNoTanteisitsu': 20.526315789473685, 'TasogareTsushin': 18.118483412322274, 'TennenSenshiG': 29.938066465256796, 'TensiNoHaneToAkumaNoShippo': 15.049250535331906, 'TetsuSan': 15.187071498530852, \"That'sIzumiko\": 20.9661733615222, 'TotteokiNoABC': 16.557223264540337, 'ToutaMairimasu': 13.103829160530191, 'TouyouKidan': 13.520725388601036, 'TsubasaNoKioku': 27.63370786516854, \"UchiNoNyan'sDiary\": 40.22641509433962, 'UchuKigekiM774': 23.10347003154574, 'UltraEleven': 13.966626213592233, 'UnbalanceTokyo': 19.83148936170213, 'WarewareHaOniDearu': 19.82020202020202, 'YamatoNoHane': 9.080156402737048, 'YasasiiAkuma': 27.970741901776385, 'YouchienBoueigumi': 13.01763907734057, 'YoumaKourin': 17.05685279187817, 'YukiNoFuruMachi': 15.069829901521933, 'YumeiroCooking': 14.852649006622517, 'YumeNoKayoiji': 26.058252427184467}\n"
     ]
    }
   ],
   "source": [
    "stat_avg_text_length_in_textbox = {}\n",
    "\n",
    "for key, value in stat_overall_jp_char_count.items():\n",
    "  stat_avg_text_length_in_textbox[key] = (value) / (stat_total_face_count[key])\n",
    "\n",
    "print(stat_avg_text_length_in_textbox)"
   ]
  },
  {
   "cell_type": "markdown",
   "metadata": {},
   "source": [
    "### 8. Average Textboxes per page"
   ]
  },
  {
   "cell_type": "code",
   "execution_count": 9,
   "metadata": {},
   "outputs": [
    {
     "name": "stdout",
     "output_type": "stream",
     "text": [
      "{'AisazuNihaIrarenai': 6.058510638297872, 'AkkeraKanjinchou': 4.0, 'Akuhamu': 7.450617283950617, 'AosugiruHaru': 3.0095238095238095, 'AppareKappore': 4.793814432989691, 'Arisa': 6.329896907216495, 'ARMS': 2.0185185185185186, 'BakuretsuKungFuGirl': 5.690721649484536, 'Belmondo': 5.05050505050505, 'BEMADER_P': 5.93859649122807, 'BokuHaSitatakaKun': 12.757575757575758, 'BurariTessenTorimonocho': 5.513392857142857, 'ByebyeC-BOY': 5.50531914893617, 'Copy of AisazuNihaIrarenai': 6.058510638297872, 'Copy of Arisa': 6.329896907216495, 'Count3DeKimeteAgeru': 3.95959595959596, 'DollGun': 6.015625, 'Donburakokko': 3.269662921348315, 'DualJustice': 2.2222222222222223, 'EienNoWith': 4.64, 'EvaLady': 4.068807339449541, 'EverydayOsakanaChan': 3.1627906976744184, 'GakuenNoise': 4.803030303030303, 'GarakutayaManta': 6.247572815533981, 'GinNoChimera': 3.4029126213592233, 'GOOD_KISS_Ver2': 6.036842105263158, 'Hamlet': 6.945945945945946, 'HanzaiKousyouninMinegishiEitarou': 5.18, 'HaruichibanNoFukukoro': 3.479381443298969, 'HarukaRefrain': 5.095959595959596, 'HealingPlanet': 3.0157894736842104, 'HeiseiJimen': 6.693693693693693, 'HighschoolKimengumi_vol01': 9.373737373737374, 'HighschoolKimengumi_vol20': 8.558510638297872, 'HinagikuKenzan': 3.6797752808988764, 'HisokaReturns': 4.877777777777778, 'JangiriPonpon': 8.272727272727273, 'JijiBabaFight': 8.712328767123287, 'Joouari': 4.896907216494846, 'Jyovolley': 4.17741935483871, 'KarappoHighschool': 5.322314049586777, 'KimiHaBokuNoTaiyouDa': 4.292792792792793, 'KoukouNoHitotachi': 15.917910447761194, 'KuroidoGanka': 3.5445544554455446, 'KyokugenCyclone': 6.801724137931035, 'LancelotFullThrottle': 7.005154639175258, 'LoveHina_vol01': 6.72680412371134, 'LoveHina_vol14': 7.994845360824742, 'MadouTaiga': 2.7857142857142856, 'MAD_STONE': 3.6458333333333335, 'MagicianLoad': 3.7954545454545454, 'MagicStarGakuin': 5.591463414634147, 'MariaSamaNihaNaisyo': 3.731958762886598, 'MayaNoAkaiKutsu': 3.4833333333333334, 'MemorySeijin': 3.642156862745098, 'MeteoSanStrikeDesu': 5.065789473684211, 'MiraiSan': 6.672897196261682, 'MisutenaideDaisy': 8.346846846846846, 'MoeruOnisan_vol01': 11.48913043478261, 'MoeruOnisan_vol19': 13.378787878787879, 'MomoyamaHaikagura': 5.607843137254902, 'MukoukizuNoChonbo': 7.753968253968254, 'MutekiBoukenSyakuma': 5.17741935483871, 'Nekodama': 5.670940170940171, 'NichijouSoup': 5.803921568627451, 'Ningyoushi': 4.326315789473684, 'OhWareraRettouSeitokai': 5.390625, 'OL_Lunch': 11.052238805970148, 'ParaisoRoad': 5.552380952380952, 'PikaruGenkiDesu': 7.559139784946237, 'PLANET7': 6.343434343434343, 'PlatinumJungle': 3.5290697674418605, 'PrayerHaNemurenai': 4.408163265306122, 'PrismHeart': 5.440217391304348, 'PsychoStaff': 4.142857142857143, 'Raphael': 4.965811965811966, 'ReveryEarth': 4.605, 'RinToSiteSippuNoNaka': 4.4243421052631575, 'RisingGirl': 4.929752066115703, 'Saisoku': 3.305, 'SaladDays_vol01': 4.648351648351649, 'SaladDays_vol18': 3.6157894736842104, 'SamayoeruSyonenNiJunaiWo': 4.146067415730337, 'SeisinkiVulnus': 3.77, 'ShimatteIkouze_vol01': 10.328703703703704, 'ShimatteIkouze_vol26': 10.517857142857142, 'SonokiDeABC': 5.44949494949495, 'SyabondamaKieta': 4.941489361702128, 'TaiyouNiSmash': 3.78021978021978, 'TapkunNoTanteisitsu': 4.705607476635514, 'TasogareTsushin': 4.3061224489795915, 'TennenSenshiG': 3.7191011235955056, 'TensiNoHaneToAkumaNoShippo': 5.131868131868132, 'TetsuSan': 12.7625, \"That'sIzumiko\": 3.7244094488188977, 'TotteokiNoABC': 5.670212765957447, 'ToutaMairimasu': 6.229357798165138, 'TouyouKidan': 5.804511278195489, 'TsubasaNoKioku': 2.2938144329896906, \"UchiNoNyan'sDiary\": 2.5853658536585367, 'UchuKigekiM774': 9.548192771084338, 'UltraEleven': 7.292035398230088, 'UnbalanceTokyo': 6.676136363636363, 'WarewareHaOniDearu': 5.15625, 'YamatoNoHane': 4.4868421052631575, 'YasasiiAkuma': 5.090425531914893, 'YouchienBoueigumi': 13.648148148148149, 'YoumaKourin': 4.602803738317757, 'YukiNoFuruMachi': 5.878947368421053, 'YumeiroCooking': 6.291666666666667, 'YumeNoKayoiji': 2.654639175257732}\n"
     ]
    }
   ],
   "source": [
    "stat_avg_textbox_count_per_page = {}\n",
    "\n",
    "for key, value in stat_total_face_count.items():\n",
    "  stat_avg_textbox_count_per_page[key] = (value) / (stat_manga_page_count[key])\n",
    "\n",
    "print(stat_avg_textbox_count_per_page)"
   ]
  },
  {
   "cell_type": "markdown",
   "metadata": {},
   "source": [
    "### 9. Panel-to-Text Ratio:\n"
   ]
  },
  {
   "cell_type": "code",
   "execution_count": 10,
   "metadata": {},
   "outputs": [
    {
     "name": "stdout",
     "output_type": "stream",
     "text": [
      "{'AisazuNihaIrarenai': 0.6883910386965377, 'AkkeraKanjinchou': 0.7276119402985075, 'Akuhamu': 0.5975359342915811, 'AosugiruHaru': 0.7088235294117647, 'AppareKappore': 0.6195826645264848, 'Arisa': 0.6542056074766355, 'ARMS': 0.5414312617702448, 'BakuretsuKungFuGirl': 0.46139789858382824, 'Belmondo': 0.6837416481069042, 'BEMADER_P': 0.7874396135265701, 'BokuHaSitatakaKun': 0.4722838137472284, 'BurariTessenTorimonocho': 0.8076225045372051, 'ByebyeC-BOY': 0.7817929117442669, 'Copy of AisazuNihaIrarenai': 0.6883910386965377, 'Copy of Arisa': 0.6542056074766355, 'Count3DeKimeteAgeru': 0.7711726384364821, 'DollGun': 0.6710628394103957, 'Donburakokko': 0.6470588235294118, 'DualJustice': 0.902073732718894, 'EienNoWith': 0.7905251141552512, 'EvaLady': 0.6580345285524568, 'EverydayOsakanaChan': 0.47846638655462187, 'GakuenNoise': 0.797037037037037, 'GarakutayaManta': 1.018308631211857, 'GinNoChimera': 0.9114077669902912, 'GOOD_KISS_Ver2': 0.7131782945736435, 'Hamlet': 0.5917030567685589, 'HanzaiKousyouninMinegishiEitarou': 0.7037900874635569, 'HaruichibanNoFukukoro': 0.6505449591280654, 'HarukaRefrain': 0.730836236933798, 'HealingPlanet': 0.7933801404212638, 'HeiseiJimen': 0.8386023294509152, 'HighschoolKimengumi_vol01': 0.5297906602254429, 'HighschoolKimengumi_vol20': 0.5257393209200438, 'HinagikuKenzan': 0.8691489361702127, 'HisokaReturns': 0.8460877042132416, 'JangiriPonpon': 1.0695780903034788, 'JijiBabaFight': 0.5593770279039585, 'Joouari': 0.8157669237360754, 'Jyovolley': 0.8785151856017998, 'KarappoHighschool': 1.0706436420722134, 'KimiHaBokuNoTaiyouDa': 0.754297994269341, 'KoukouNoHitotachi': 0.3871234007428807, 'KuroidoGanka': 0.8393148450244698, 'KyokugenCyclone': 0.63671875, 'LancelotFullThrottle': 0.5633971291866029, 'LoveHina_vol01': 0.5950276243093923, 'LoveHina_vol14': 0.5356200527704486, 'MadouTaiga': 0.9357541899441341, 'MAD_STONE': 1.0231404958677686, 'MagicianLoad': 0.8313120176405733, 'MagicStarGakuin': 0.4789244186046512, 'MariaSamaNihaNaisyo': 0.6565656565656566, 'MayaNoAkaiKutsu': 0.768642447418738, 'MemorySeijin': 0.7871621621621622, 'MeteoSanStrikeDesu': 0.7502138579982891, 'MiraiSan': 0.7369565217391304, 'MisutenaideDaisy': 0.5572891272549976, 'MoeruOnisan_vol01': 0.41901245962159667, 'MoeruOnisan_vol19': 0.4953229398663697, 'MomoyamaHaikagura': 0.6915492957746479, 'MukoukizuNoChonbo': 0.5690140845070423, 'MutekiBoukenSyakuma': 0.713121434392828, 'Nekodama': 0.612879348630644, 'NichijouSoup': 0.5075075075075075, 'Ningyoushi': 0.9574247144340602, 'OhWareraRettouSeitokai': 0.8383458646616542, 'OL_Lunch': 0.4596238938053097, 'ParaisoRoad': 0.6299651567944251, 'PikaruGenkiDesu': 1.0058027079303675, 'PLANET7': 0.5490956072351422, 'PlatinumJungle': 0.8110749185667753, 'PrayerHaNemurenai': 0.6367485182049111, 'PrismHeart': 0.5849324804548686, 'PsychoStaff': 0.768609865470852, 'Raphael': 0.5645539906103286, 'ReveryEarth': 0.76796875, 'RinToSiteSippuNoNaka': 0.636716224951519, 'RisingGirl': 0.6892230576441103, 'Saisoku': 0.7903780068728522, 'SaladDays_vol01': 0.7739984882842026, 'SaladDays_vol18': 0.6847826086956522, 'SamayoeruSyonenNiJunaiWo': 0.9084507042253521, 'SeisinkiVulnus': 0.9863874345549738, 'ShimatteIkouze_vol01': 0.7701083856246435, 'ShimatteIkouze_vol26': 0.8713007570543703, 'SonokiDeABC': 0.7946735395189003, 'SyabondamaKieta': 0.8285449490268767, 'TaiyouNiSmash': 0.8336956521739131, 'TapkunNoTanteisitsu': 0.900523560209424, 'TasogareTsushin': 0.7761702127659574, 'TennenSenshiG': 0.6327060350421804, 'TensiNoHaneToAkumaNoShippo': 0.7386363636363636, 'TetsuSan': 0.6064461407972859, \"That'sIzumiko\": 0.8262463343108505, 'TotteokiNoABC': 0.7235984354628422, 'ToutaMairimasu': 0.9027355623100304, 'TouyouKidan': 1.0731707317073171, 'TsubasaNoKioku': 1.179, \"UchiNoNyan'sDiary\": 0.8120362737015664, 'UchuKigekiM774': 0.631549917264203, 'UltraEleven': 0.8326474622770919, 'UnbalanceTokyo': 0.7097253155159614, 'WarewareHaOniDearu': 0.8391304347826087, 'YamatoNoHane': 1.0127952755905512, 'YasasiiAkuma': 0.5257861635220126, 'YouchienBoueigumi': 0.43243243243243246, 'YoumaKourin': 0.794314381270903, 'YukiNoFuruMachi': 0.56996996996997, 'YumeiroCooking': 0.7850812407680945, 'YumeNoKayoiji': 0.8980263157894737}\n"
     ]
    }
   ],
   "source": [
    "# stat_ratio_panel_to_text = {}\n",
    "\n",
    "# for key, value in stat_total_panel_count.items():\n",
    "#   stat_ratio_panel_to_text[key] = (value) / (stat_total_textbox_count[key])\n",
    "\n",
    "# print(stat_ratio_panel_to_text)"
   ]
  },
  {
   "cell_type": "markdown",
   "metadata": {},
   "source": [
    "### 10. Story Unique Character per manga count"
   ]
  },
  {
   "cell_type": "code",
   "execution_count": 49,
   "metadata": {},
   "outputs": [],
   "source": [
    "import xml.etree.ElementTree as ET\n",
    "\n",
    "data_path = \"../Manga109/annotations\"\n",
    "\n",
    "def get_characters(xml_file):\n",
    "    tree = ET.parse(xml_file)\n",
    "    root = tree.getroot()\n",
    "\n",
    "    manga_data = []\n",
    "\n",
    "    for character in root.find(\"characters\"):\n",
    "        character_id = character.get(\"id\")\n",
    "        character_name = character.get('name')\n",
    "        manga_data.append(character_name)\n",
    "      \n",
    "    return manga_data\n",
    "\n",
    "xml_files = [f for f in os.listdir(data_path) if f.endswith('.xml')]\n",
    "\n",
    "stat_unique_faces = {}\n",
    "for title in xml_files:\n",
    "  manga_title = title[:-4]\n",
    "\n",
    "  xml_file = os.path.join(data_path, f'{manga_title}.xml')\n",
    "\n",
    "  stat_unique_faces[manga_title] = len(get_characters(xml_file))\n"
   ]
  },
  {
   "cell_type": "markdown",
   "metadata": {},
   "source": [
    "### Store Data in CSV"
   ]
  },
  {
   "cell_type": "code",
   "execution_count": 51,
   "metadata": {},
   "outputs": [
    {
     "name": "stdout",
     "output_type": "stream",
     "text": [
      "CSV file 'manga_statistics.csv' created successfully.\n"
     ]
    }
   ],
   "source": [
    "import pandas as pd\n",
    "\n",
    "data = {\n",
    "    'path_folder': list(stat_manga_page_count.keys()),\n",
    "    'page_count': list(stat_manga_page_count.values()),\n",
    "\n",
    "    'total_jp_chars': list(stat_overall_jp_char_count.values()),\n",
    "    'total_unique_jp_chars': list(stat_manga_unique_chars_count.values()),\n",
    "    \"total_panel_count\": list(stat_total_panel_count.values()),\n",
    "    \"total_textbox_count\": list(stat_total_textbox_count.values()),\n",
    "    \"total_face_count\": list(stat_total_face_count.values()),\n",
    "    'total_unique_faces': list(stat_unique_faces.values()),\n",
    "\n",
    "    # 'genre': list(stat_manga_genre.values()),\n",
    "    # 'target': list(stat_manga_demo_target.values()),\n",
    "    # 'year': list(stat_manga_year.values()),\n",
    "\n",
    "    \"ratio_jpChars_to_textbox\": list(stat_avg_text_length_in_textbox.values()),\n",
    "    'ratio_jpChars_to_page': list(stat_avg_page_jp_char_count.values()),\n",
    "    \"ratio_textboxes_to_page\": list(stat_avg_textbox_count_per_page.values()),\n",
    "    \"ratio_textboxes_to_panel\": list(stat_avg_textbox_count_per_panel.values()),\n",
    "    \"ratio_faces_to_panel\": list(stat_avg_face_count_per_panel.values()),\n",
    "    \n",
    "    # \"ratio_panel_to_text\": list(stat_ratio_panel_to_text.values()),\n",
    "}\n",
    "\n",
    "# df = pd.DataFrame(data)\n",
    "df = pd.DataFrame(data)\n",
    "\n",
    "output_csv_file = 'manga_statistics.csv'\n",
    "\n",
    "df.to_csv(output_csv_file, index=False)\n",
    "\n",
    "print(f\"CSV file '{output_csv_file}' created successfully.\")\n"
   ]
  }
 ],
 "metadata": {
  "kernelspec": {
   "display_name": "base",
   "language": "python",
   "name": "python3"
  },
  "language_info": {
   "codemirror_mode": {
    "name": "ipython",
    "version": 3
   },
   "file_extension": ".py",
   "mimetype": "text/x-python",
   "name": "python",
   "nbconvert_exporter": "python",
   "pygments_lexer": "ipython3",
   "version": "3.12.4"
  }
 },
 "nbformat": 4,
 "nbformat_minor": 2
}
