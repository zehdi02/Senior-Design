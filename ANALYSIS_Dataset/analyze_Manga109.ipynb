{
 "cells": [
  {
   "cell_type": "code",
   "execution_count": 1,
   "metadata": {},
   "outputs": [],
   "source": [
    "import os\n",
    "import pandas as pd\n",
    "\n",
    "clean_dataset_path = f'../CLEAN_Dataset/clean_manga109'\n",
    "\n",
    "manga_titles = [f for f in os.listdir(clean_dataset_path)]\n"
   ]
  },
  {
   "cell_type": "code",
   "execution_count": 27,
   "metadata": {},
   "outputs": [
    {
     "name": "stdout",
     "output_type": "stream",
     "text": [
      "['AisazuNihaIrarenai', 'AkkeraKanjinchou', 'Akuhamu', 'AosugiruHaru', 'AppareKappore', 'Arisa', 'ARMS', 'BakuretsuKungFuGirl', 'Belmondo', 'BEMADER_P', 'BokuHaSitatakaKun', 'BurariTessenTorimonocho', 'ByebyeC-BOY', 'Copy of AisazuNihaIrarenai', 'Copy of Arisa', 'Count3DeKimeteAgeru', 'DollGun', 'Donburakokko', 'DualJustice', 'EienNoWith', 'EvaLady', 'EverydayOsakanaChan', 'GakuenNoise', 'GarakutayaManta', 'GinNoChimera', 'GOOD_KISS_Ver2', 'Hamlet', 'HanzaiKousyouninMinegishiEitarou', 'HaruichibanNoFukukoro', 'HarukaRefrain', 'HealingPlanet', 'HeiseiJimen', 'HighschoolKimengumi_vol01', 'HighschoolKimengumi_vol20', 'HinagikuKenzan', 'HisokaReturns', 'JangiriPonpon', 'JijiBabaFight', 'Joouari', 'Jyovolley', 'KarappoHighschool', 'KimiHaBokuNoTaiyouDa', 'KoukouNoHitotachi', 'KuroidoGanka', 'KyokugenCyclone', 'LancelotFullThrottle', 'LoveHina_vol01', 'LoveHina_vol14', 'MadouTaiga', 'MAD_STONE', 'MagicianLoad', 'MagicStarGakuin', 'MariaSamaNihaNaisyo', 'MayaNoAkaiKutsu', 'MemorySeijin', 'MeteoSanStrikeDesu', 'MiraiSan', 'MisutenaideDaisy', 'MoeruOnisan_vol01', 'MoeruOnisan_vol19', 'MomoyamaHaikagura', 'MukoukizuNoChonbo', 'MutekiBoukenSyakuma', 'Nekodama', 'NichijouSoup', 'Ningyoushi', 'OhWareraRettouSeitokai', 'OL_Lunch', 'ParaisoRoad', 'PikaruGenkiDesu', 'PLANET7', 'PlatinumJungle', 'PrayerHaNemurenai', 'PrismHeart', 'PsychoStaff', 'Raphael', 'ReveryEarth', 'RinToSiteSippuNoNaka', 'RisingGirl', 'Saisoku', 'SaladDays_vol01', 'SaladDays_vol18', 'SamayoeruSyonenNiJunaiWo', 'SeisinkiVulnus', 'ShimatteIkouze_vol01', 'ShimatteIkouze_vol26', 'SonokiDeABC', 'SyabondamaKieta', 'TaiyouNiSmash', 'TapkunNoTanteisitsu', 'TasogareTsushin', 'TennenSenshiG', 'TensiNoHaneToAkumaNoShippo', 'TetsuSan', \"That'sIzumiko\", 'TotteokiNoABC', 'ToutaMairimasu', 'TouyouKidan', 'TsubasaNoKioku', \"UchiNoNyan'sDiary\", 'UchuKigekiM774', 'UltraEleven', 'UnbalanceTokyo', 'WarewareHaOniDearu', 'YamatoNoHane', 'YasasiiAkuma', 'YouchienBoueigumi', 'YoumaKourin', 'YukiNoFuruMachi', 'YumeiroCooking', 'YumeNoKayoiji']\n"
     ]
    }
   ],
   "source": [
    "print(manga_titles)"
   ]
  },
  {
   "cell_type": "markdown",
   "metadata": {},
   "source": [
    "### 1. TOTAL Japanese Characters in EVERY Manga"
   ]
  },
  {
   "cell_type": "code",
   "execution_count": 29,
   "metadata": {},
   "outputs": [],
   "source": [
    "manga_total_jp_chars = {}\n",
    "\n",
    "for manga_title in os.listdir(clean_dataset_path):\n",
    "  manga_title_path = os.path.join(clean_dataset_path, manga_title)\n",
    "\n",
    "  jp_char_count_manga = 0\n",
    "\n",
    "  for manga_page in os.listdir(manga_title_path):\n",
    "    page = os.path.join (manga_title_path, manga_page)\n",
    "    # print(page)\n",
    "\n",
    "    df = pd.read_csv(page)\n",
    "\n",
    "    if 'text_content' in df.columns:\n",
    "      text_content_col = df['text_content']\n",
    "      jp_char_count_page = 0\n",
    "\n",
    "      for text in text_content_col[text_content_col.notna()]:\n",
    "        if text.strip():  # check if text is not just whitespace\n",
    "          jp_char_count_page += len(text)\n",
    "          # print(f\"Text: {text}, Number of characters: {len(text)}\")\n",
    "\n",
    "      # print(f'Total JP character count on page {manga_page} : {jp_char_count_page}')\n",
    "      jp_char_count_manga += jp_char_count_page\n",
    "      # print(jp_char_count_manga)\n",
    "    \n",
    "  manga_total_jp_chars[manga_title] = jp_char_count_manga\n",
    "  # print(f'Overall JP character count on manga {manga_title}: {jp_char_count_manga}')\n"
   ]
  },
  {
   "cell_type": "code",
   "execution_count": 33,
   "metadata": {},
   "outputs": [
    {
     "name": "stdout",
     "output_type": "stream",
     "text": [
      "AisazuNihaIrarenai: 18795\n",
      "AkkeraKanjinchou: 15746\n",
      "Akuhamu: 18036\n",
      "AosugiruHaru: 12741\n",
      "AppareKappore: 13584\n",
      "Arisa: 16504\n",
      "ARMS: 11261\n",
      "BakuretsuKungFuGirl: 24327\n",
      "Belmondo: 24469\n",
      "BEMADER_P: 19455\n",
      "BokuHaSitatakaKun: 31828\n",
      "BurariTessenTorimonocho: 35459\n",
      "ByebyeC-BOY: 16899\n",
      "Copy of AisazuNihaIrarenai: 18795\n",
      "Copy of Arisa: 16504\n",
      "Count3DeKimeteAgeru: 13515\n",
      "DollGun: 16461\n",
      "Donburakokko: 14303\n",
      "DualJustice: 10783\n",
      "EienNoWith: 23443\n",
      "EvaLady: 22028\n",
      "EverydayOsakanaChan: 26427\n",
      "GakuenNoise: 15778\n",
      "GarakutayaManta: 13198\n",
      "GinNoChimera: 11656\n",
      "GOOD_KISS_Ver2: 19911\n",
      "Hamlet: 42017\n",
      "HanzaiKousyouninMinegishiEitarou: 24579\n",
      "HaruichibanNoFukukoro: 15059\n",
      "HarukaRefrain: 13813\n",
      "HealingPlanet: 16075\n",
      "HeiseiJimen: 20262\n",
      "HighschoolKimengumi_vol01: 22718\n",
      "HighschoolKimengumi_vol20: 28726\n",
      "HinagikuKenzan: 12936\n",
      "HisokaReturns: 17421\n",
      "JangiriPonpon: 21173\n",
      "JijiBabaFight: 18868\n",
      "Joouari: 13420\n",
      "Jyovolley: 12507\n",
      "KarappoHighschool: 15523\n",
      "KimiHaBokuNoTaiyouDa: 17696\n",
      "KoukouNoHitotachi: 28953\n",
      "KuroidoGanka: 17883\n",
      "KyokugenCyclone: 9102\n",
      "LancelotFullThrottle: 24049\n",
      "LoveHina_vol01: 23097\n",
      "LoveHina_vol14: 28478\n",
      "MadouTaiga: 8275\n",
      "MAD_STONE: 10308\n",
      "MagicianLoad: 12255\n",
      "MagicStarGakuin: 21841\n",
      "MariaSamaNihaNaisyo: 17723\n",
      "MayaNoAkaiKutsu: 15500\n",
      "MemorySeijin: 15893\n",
      "MeteoSanStrikeDesu: 16490\n",
      "MiraiSan: 19847\n",
      "MisutenaideDaisy: 26286\n",
      "MoeruOnisan_vol01: 32074\n",
      "MoeruOnisan_vol19: 34759\n",
      "MomoyamaHaikagura: 11876\n",
      "MukoukizuNoChonbo: 17193\n",
      "MutekiBoukenSyakuma: 13939\n",
      "Nekodama: 17086\n",
      "NichijouSoup: 23788\n",
      "Ningyoushi: 10518\n",
      "OhWareraRettouSeitokai: 17600\n",
      "OL_Lunch: 20876\n",
      "ParaisoRoad: 16626\n",
      "PikaruGenkiDesu: 12917\n",
      "PLANET7: 18886\n",
      "PlatinumJungle: 13256\n",
      "PrayerHaNemurenai: 17893\n",
      "PrismHeart: 24840\n",
      "PsychoStaff: 14637\n",
      "Raphael: 32165\n",
      "ReveryEarth: 17827\n",
      "RinToSiteSippuNoNaka: 24702\n",
      "RisingGirl: 23518\n",
      "Saisoku: 17298\n",
      "SaladDays_vol01: 16916\n",
      "SaladDays_vol18: 17491\n",
      "SamayoeruSyonenNiJunaiWo: 14698\n",
      "SeisinkiVulnus: 12915\n",
      "ShimatteIkouze_vol01: 22799\n",
      "ShimatteIkouze_vol26: 15103\n",
      "SonokiDeABC: 17380\n",
      "SyabondamaKieta: 11616\n",
      "TaiyouNiSmash: 13793\n",
      "TapkunNoTanteisitsu: 20670\n",
      "TasogareTsushin: 15292\n",
      "TennenSenshiG: 19819\n",
      "TensiNoHaneToAkumaNoShippo: 14056\n",
      "TetsuSan: 15506\n",
      "That'sIzumiko: 19834\n",
      "TotteokiNoABC: 17650\n",
      "ToutaMairimasu: 17795\n",
      "TouyouKidan: 20876\n",
      "TsubasaNoKioku: 12297\n",
      "UchiNoNyan'sDiary: 17056\n",
      "UchuKigekiM774: 36619\n",
      "UltraEleven: 23017\n",
      "UnbalanceTokyo: 23302\n",
      "WarewareHaOniDearu: 19622\n",
      "YamatoNoHane: 9289\n",
      "YasasiiAkuma: 26768\n",
      "YouchienBoueigumi: 9594\n",
      "YoumaKourin: 16801\n",
      "YukiNoFuruMachi: 16833\n",
      "YumeiroCooking: 17942\n",
      "YumeNoKayoiji: 13420\n"
     ]
    }
   ],
   "source": [
    "for title, count in manga_total_jp_chars.items():\n",
    "    print(f'{title}: {count}')"
   ]
  }
 ],
 "metadata": {
  "kernelspec": {
   "display_name": "base",
   "language": "python",
   "name": "python3"
  },
  "language_info": {
   "codemirror_mode": {
    "name": "ipython",
    "version": 3
   },
   "file_extension": ".py",
   "mimetype": "text/x-python",
   "name": "python",
   "nbconvert_exporter": "python",
   "pygments_lexer": "ipython3",
   "version": "3.12.4"
  }
 },
 "nbformat": 4,
 "nbformat_minor": 2
}
