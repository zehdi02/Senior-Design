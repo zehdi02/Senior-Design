{
 "cells": [
  {
   "cell_type": "code",
   "execution_count": 1,
   "metadata": {},
   "outputs": [],
   "source": [
    "import os\n",
    "import pandas as pd\n",
    "\n",
    "clean_dataset_path = f'../CLEAN_Dataset/clean_manga109'\n",
    "\n",
    "manga_titles = [f for f in os.listdir(clean_dataset_path)]\n"
   ]
  },
  {
   "cell_type": "markdown",
   "metadata": {},
   "source": [
    "### 1. Overall JP char count in EVERY Manga | Total JP char in each page"
   ]
  },
  {
   "cell_type": "code",
   "execution_count": 2,
   "metadata": {},
   "outputs": [],
   "source": [
    "stat_overall_jp_char_count = {}\n",
    "stat_total_jp_char_page = {}\n",
    "\n",
    "for manga_title in os.listdir(clean_dataset_path):\n",
    "  manga_title_path = os.path.join(clean_dataset_path, manga_title)\n",
    "\n",
    "  jp_char_count_manga = 0\n",
    "\n",
    "  for manga_page in os.listdir(manga_title_path):\n",
    "    page = os.path.join (manga_title_path, manga_page)\n",
    "    # print(page)\n",
    "\n",
    "    df = pd.read_csv(page)\n",
    "\n",
    "    if 'text_content' in df.columns:\n",
    "      text_content_col = df['text_content']\n",
    "      jp_char_count_page = 0\n",
    "\n",
    "      for text in text_content_col[text_content_col.notna()]:\n",
    "        if text.strip():  # check if text is not just whitespace\n",
    "          jp_char_count_page += len(text) # Total JP character count in a page\n",
    "          stat_total_jp_char_page[manga_page] = jp_char_count_page\n",
    "\n",
    "      jp_char_count_manga += jp_char_count_page # OVERALL JP character count in a manga title\n",
    "    \n",
    "  stat_overall_jp_char_count[manga_title] = jp_char_count_manga\n",
    "  # print(f'Overall JP character count on manga {manga_title}: {jp_char_count_manga}')\n"
   ]
  },
  {
   "cell_type": "markdown",
   "metadata": {},
   "source": [
    "### 2 Manga Page count"
   ]
  },
  {
   "cell_type": "code",
   "execution_count": 3,
   "metadata": {},
   "outputs": [],
   "source": [
    "stat_manga_page_count = {}\n",
    "\n",
    "for manga_title in os.listdir(clean_dataset_path):\n",
    "  manga_title_path = os.path.join(clean_dataset_path, manga_title)\n",
    "\n",
    "  stat_manga_page_count[manga_title] = len(os.listdir(manga_title_path)) * 2\n",
    "\n",
    "# print(stat_manga_page_count)\n"
   ]
  },
  {
   "cell_type": "markdown",
   "metadata": {},
   "source": [
    "### 4. Average JP char count in each page of every manga"
   ]
  },
  {
   "cell_type": "code",
   "execution_count": 4,
   "metadata": {},
   "outputs": [],
   "source": [
    "stat_avg_jp_char_count_per_page = {}\n",
    "\n",
    "for title, count in stat_overall_jp_char_count.items():\n",
    "    stat_avg_jp_char_count_per_page[title] = count / stat_manga_page_count[title]\n",
    "\n",
    "# print(stat_avg_jp_char_count_per_page)"
   ]
  },
  {
   "cell_type": "markdown",
   "metadata": {},
   "source": [
    "### 5. Number of UNIQUE characters in EVERY Manga"
   ]
  },
  {
   "cell_type": "code",
   "execution_count": 5,
   "metadata": {},
   "outputs": [],
   "source": [
    "import regex as re\n",
    "\n",
    "stat_manga_unique_chars_count = {}\n",
    "stat_manga_unique_chars = {}\n",
    "\n",
    "for manga_title in os.listdir(clean_dataset_path):\n",
    "  manga_title_path = os.path.join(clean_dataset_path, manga_title)\n",
    "\n",
    "  unique_vocab_count = set()\n",
    "\n",
    "  for manga_page in os.listdir(manga_title_path):\n",
    "    page = os.path.join (manga_title_path, manga_page)\n",
    "\n",
    "    df = pd.read_csv(page)\n",
    "\n",
    "    if 'text_content' in df.columns:\n",
    "      text_content_col = df['text_content']\n",
    "\n",
    "      for text in text_content_col[text_content_col.notna()]:\n",
    "        if text.strip():  # check if text is not just whitespace\n",
    "          no_punctuation_text = re.sub(r'\\p{P}+', '', text) # remove any punctuations. only read letters\n",
    "\n",
    "          for char in no_punctuation_text:\n",
    "            unique_vocab_count.add(char)\n",
    "\n",
    "  stat_manga_unique_chars_count[manga_title] = len(unique_vocab_count)\n",
    "  stat_manga_unique_chars[manga_title] = unique_vocab_count\n",
    "\n"
   ]
  },
  {
   "cell_type": "markdown",
   "metadata": {},
   "source": [
    "### 6. Average Face & Text Across Manga"
   ]
  },
  {
   "cell_type": "code",
   "execution_count": 22,
   "metadata": {},
   "outputs": [
    {
     "name": "stdout",
     "output_type": "stream",
     "text": [
      "Total Panels: {'AisazuNihaIrarenai': 1014, 'AkkeraKanjinchou': 975, 'Akuhamu': 873, 'AosugiruHaru': 964, 'AppareKappore': 772, 'Arisa': 910, 'ARMS': 575, 'BakuretsuKungFuGirl': 1010, 'Belmondo': 921, 'BEMADER_P': 1141, 'BokuHaSitatakaKun': 1065, 'BurariTessenTorimonocho': 1335, 'ByebyeC-BOY': 1125, 'Count3DeKimeteAgeru': 947, 'DollGun': 865, 'Donburakokko': 605, 'DualJustice': 783, 'EienNoWith': 1385, 'EvaLady': 991, 'EverydayOsakanaChan': 911, 'GakuenNoise': 1076, 'GarakutayaManta': 1168, 'GinNoChimera': 751, 'GOOD_KISS_Ver2': 1104, 'Hamlet': 1626, 'HanzaiKousyouninMinegishiEitarou': 1207, 'HaruichibanNoFukukoro': 955, 'HarukaRefrain': 839, 'HealingPlanet': 791, 'HeiseiJimen': 1008, 'HighschoolKimengumi_vol01': 987, 'HighschoolKimengumi_vol20': 960, 'HinagikuKenzan': 817, 'HisokaReturns': 984, 'JangiriPonpon': 1445, 'JijiBabaFight': 862, 'Joouari': 952, 'Jyovolley': 781, 'KarappoHighschool': 1364, 'KimiHaBokuNoTaiyouDa': 1053, 'KoukouNoHitotachi': 938, 'KuroidoGanka': 1029, 'KyokugenCyclone': 489, 'LancelotFullThrottle': 942, 'LoveHina_vol01': 1077, 'LoveHina_vol14': 1015, 'MadouTaiga': 670, 'MAD_STONE': 619, 'MagicianLoad': 754, 'MagicStarGakuin': 659, 'MariaSamaNihaNaisyo': 975, 'MayaNoAkaiKutsu': 804, 'MemorySeijin': 932, 'MeteoSanStrikeDesu': 877, 'MiraiSan': 1017, 'MisutenaideDaisy': 1143, 'MoeruOnisan_vol01': 908, 'MoeruOnisan_vol19': 1112, 'MomoyamaHaikagura': 491, 'MukoukizuNoChonbo': 606, 'MutekiBoukenSyakuma': 875, 'Nekodama': 828, 'NichijouSoup': 845, 'Ningyoushi': 922, 'OhWareraRettouSeitokai': 1115, 'OL_Lunch': 831, 'ParaisoRoad': 904, 'PikaruGenkiDesu': 1040, 'PLANET7': 850, 'PlatinumJungle': 747, 'PrayerHaNemurenai': 752, 'PrismHeart': 823, 'PsychoStaff': 857, 'Raphael': 962, 'ReveryEarth': 983, 'RinToSiteSippuNoNaka': 985, 'RisingGirl': 1100, 'Saisoku': 920, 'SaladDays_vol01': 1024, 'SaladDays_vol18': 882, 'SamayoeruSyonenNiJunaiWo': 774, 'SeisinkiVulnus': 942, 'ShimatteIkouze_vol01': 1350, 'ShimatteIkouze_vol26': 1266, 'SonokiDeABC': 925, 'SyabondamaKieta': 894, 'TaiyouNiSmash': 767, 'TapkunNoTanteisitsu': 1204, 'TasogareTsushin': 912, 'TennenSenshiG': 975, 'TensiNoHaneToAkumaNoShippo': 845, 'TetsuSan': 715, \"That'sIzumiko\": 1127, 'TotteokiNoABC': 1110, 'ToutaMairimasu': 891, 'TouyouKidan': 1496, 'TsubasaNoKioku': 1179, \"UchiNoNyan'sDiary\": 985, 'UchuKigekiM774': 1145, 'UltraEleven': 1214, 'UnbalanceTokyo': 956, 'WarewareHaOniDearu': 965, 'YamatoNoHane': 1029, 'YasasiiAkuma': 836, 'YouchienBoueigumi': 368, 'YoumaKourin': 950, 'YukiNoFuruMachi': 949, 'YumeiroCooking': 1063, 'YumeNoKayoiji': 819}\n",
      "Total Faces: {'AisazuNihaIrarenai': 1139, 'AkkeraKanjinchou': 736, 'Akuhamu': 1207, 'AosugiruHaru': 632, 'AppareKappore': 930, 'Arisa': 1228, 'ARMS': 327, 'BakuretsuKungFuGirl': 1104, 'Belmondo': 1000, 'BEMADER_P': 1354, 'BokuHaSitatakaKun': 2526, 'BurariTessenTorimonocho': 1235, 'ByebyeC-BOY': 1035, 'Count3DeKimeteAgeru': 784, 'DollGun': 1155, 'Donburakokko': 582, 'DualJustice': 440, 'EienNoWith': 1160, 'EvaLady': 887, 'EverydayOsakanaChan': 544, 'GakuenNoise': 951, 'GarakutayaManta': 1287, 'GinNoChimera': 701, 'GOOD_KISS_Ver2': 1147, 'Hamlet': 2570, 'HanzaiKousyouninMinegishiEitarou': 1036, 'HaruichibanNoFukukoro': 675, 'HarukaRefrain': 1009, 'HealingPlanet': 573, 'HeiseiJimen': 1486, 'HighschoolKimengumi_vol01': 1856, 'HighschoolKimengumi_vol20': 1609, 'HinagikuKenzan': 655, 'HisokaReturns': 878, 'JangiriPonpon': 1820, 'JijiBabaFight': 1272, 'Joouari': 950, 'Jyovolley': 777, 'KarappoHighschool': 1288, 'KimiHaBokuNoTaiyouDa': 953, 'KoukouNoHitotachi': 2133, 'KuroidoGanka': 716, 'KyokugenCyclone': 789, 'LancelotFullThrottle': 1359, 'LoveHina_vol01': 1305, 'LoveHina_vol14': 1551, 'MadouTaiga': 468, 'MAD_STONE': 700, 'MagicianLoad': 668, 'MagicStarGakuin': 917, 'MariaSamaNihaNaisyo': 724, 'MayaNoAkaiKutsu': 627, 'MemorySeijin': 743, 'MeteoSanStrikeDesu': 1155, 'MiraiSan': 1428, 'MisutenaideDaisy': 1853, 'MoeruOnisan_vol01': 2114, 'MoeruOnisan_vol19': 2649, 'MomoyamaHaikagura': 572, 'MukoukizuNoChonbo': 977, 'MutekiBoukenSyakuma': 963, 'Nekodama': 1327, 'NichijouSoup': 1184, 'Ningyoushi': 822, 'OhWareraRettouSeitokai': 1035, 'OL_Lunch': 1481, 'ParaisoRoad': 1166, 'PikaruGenkiDesu': 1406, 'PLANET7': 1256, 'PlatinumJungle': 607, 'PrayerHaNemurenai': 864, 'PrismHeart': 1001, 'PsychoStaff': 754, 'Raphael': 1162, 'ReveryEarth': 921, 'RinToSiteSippuNoNaka': 1345, 'RisingGirl': 1193, 'Saisoku': 661, 'SaladDays_vol01': 846, 'SaladDays_vol18': 687, 'SamayoeruSyonenNiJunaiWo': 738, 'SeisinkiVulnus': 754, 'ShimatteIkouze_vol01': 2231, 'ShimatteIkouze_vol26': 2356, 'SonokiDeABC': 1079, 'SyabondamaKieta': 929, 'TaiyouNiSmash': 688, 'TapkunNoTanteisitsu': 1007, 'TasogareTsushin': 844, 'TennenSenshiG': 662, 'TensiNoHaneToAkumaNoShippo': 934, 'TetsuSan': 1021, \"That'sIzumiko\": 946, 'TotteokiNoABC': 1066, 'ToutaMairimasu': 1358, 'TouyouKidan': 1544, 'TsubasaNoKioku': 445, \"UchiNoNyan'sDiary\": 424, 'UchuKigekiM774': 1585, 'UltraEleven': 1648, 'UnbalanceTokyo': 1175, 'WarewareHaOniDearu': 990, 'YamatoNoHane': 1023, 'YasasiiAkuma': 957, 'YouchienBoueigumi': 737, 'YoumaKourin': 985, 'YukiNoFuruMachi': 1117, 'YumeiroCooking': 1208, 'YumeNoKayoiji': 515}\n",
      "Total Textboxes: {'AisazuNihaIrarenai': 1473, 'AkkeraKanjinchou': 1340, 'Akuhamu': 1461, 'AosugiruHaru': 1360, 'AppareKappore': 1246, 'Arisa': 1391, 'ARMS': 1062, 'BakuretsuKungFuGirl': 2189, 'Belmondo': 1347, 'BEMADER_P': 1449, 'BokuHaSitatakaKun': 2255, 'BurariTessenTorimonocho': 1653, 'ByebyeC-BOY': 1439, 'Count3DeKimeteAgeru': 1228, 'DollGun': 1289, 'Donburakokko': 935, 'DualJustice': 868, 'EienNoWith': 1752, 'EvaLady': 1506, 'EverydayOsakanaChan': 1904, 'GakuenNoise': 1350, 'GarakutayaManta': 1147, 'GinNoChimera': 824, 'GOOD_KISS_Ver2': 1548, 'Hamlet': 2748, 'HanzaiKousyouninMinegishiEitarou': 1715, 'HaruichibanNoFukukoro': 1468, 'HarukaRefrain': 1148, 'HealingPlanet': 997, 'HeiseiJimen': 1202, 'HighschoolKimengumi_vol01': 1863, 'HighschoolKimengumi_vol20': 1826, 'HinagikuKenzan': 940, 'HisokaReturns': 1163, 'JangiriPonpon': 1351, 'JijiBabaFight': 1541, 'Joouari': 1167, 'Jyovolley': 889, 'KarappoHighschool': 1274, 'KimiHaBokuNoTaiyouDa': 1396, 'KoukouNoHitotachi': 2423, 'KuroidoGanka': 1226, 'KyokugenCyclone': 768, 'LancelotFullThrottle': 1672, 'LoveHina_vol01': 1810, 'LoveHina_vol14': 1895, 'MadouTaiga': 716, 'MAD_STONE': 605, 'MagicianLoad': 907, 'MagicStarGakuin': 1376, 'MariaSamaNihaNaisyo': 1485, 'MayaNoAkaiKutsu': 1046, 'MemorySeijin': 1184, 'MeteoSanStrikeDesu': 1169, 'MiraiSan': 1380, 'MisutenaideDaisy': 2051, 'MoeruOnisan_vol01': 2167, 'MoeruOnisan_vol19': 2245, 'MomoyamaHaikagura': 710, 'MukoukizuNoChonbo': 1065, 'MutekiBoukenSyakuma': 1227, 'Nekodama': 1351, 'NichijouSoup': 1665, 'Ningyoushi': 963, 'OhWareraRettouSeitokai': 1330, 'OL_Lunch': 1808, 'ParaisoRoad': 1435, 'PikaruGenkiDesu': 1034, 'PLANET7': 1548, 'PlatinumJungle': 921, 'PrayerHaNemurenai': 1181, 'PrismHeart': 1407, 'PsychoStaff': 1115, 'Raphael': 1704, 'ReveryEarth': 1280, 'RinToSiteSippuNoNaka': 1547, 'RisingGirl': 1596, 'Saisoku': 1164, 'SaladDays_vol01': 1323, 'SaladDays_vol18': 1288, 'SamayoeruSyonenNiJunaiWo': 852, 'SeisinkiVulnus': 955, 'ShimatteIkouze_vol01': 1753, 'ShimatteIkouze_vol26': 1453, 'SonokiDeABC': 1164, 'SyabondamaKieta': 1079, 'TaiyouNiSmash': 920, 'TapkunNoTanteisitsu': 1337, 'TasogareTsushin': 1175, 'TennenSenshiG': 1541, 'TensiNoHaneToAkumaNoShippo': 1144, 'TetsuSan': 1179, \"That'sIzumiko\": 1364, 'TotteokiNoABC': 1534, 'ToutaMairimasu': 987, 'TouyouKidan': 1394, 'TsubasaNoKioku': 1000, \"UchiNoNyan'sDiary\": 1213, 'UchuKigekiM774': 1813, 'UltraEleven': 1458, 'UnbalanceTokyo': 1347, 'WarewareHaOniDearu': 1150, 'YamatoNoHane': 1016, 'YasasiiAkuma': 1590, 'YouchienBoueigumi': 851, 'YoumaKourin': 1196, 'YukiNoFuruMachi': 1665, 'YumeiroCooking': 1354, 'YumeNoKayoiji': 912}\n",
      "Average Faces per Panel: {'AisazuNihaIrarenai': 1.1232741617357003, 'AkkeraKanjinchou': 0.7548717948717949, 'Akuhamu': 1.3825887743413516, 'AosugiruHaru': 0.6556016597510373, 'AppareKappore': 1.2046632124352332, 'Arisa': 1.3494505494505495, 'ARMS': 0.568695652173913, 'BakuretsuKungFuGirl': 1.0930693069306932, 'Belmondo': 1.0857763300760044, 'BEMADER_P': 1.1866783523225242, 'BokuHaSitatakaKun': 2.371830985915493, 'BurariTessenTorimonocho': 0.9250936329588015, 'ByebyeC-BOY': 0.92, 'Count3DeKimeteAgeru': 0.8278775079197466, 'DollGun': 1.3352601156069364, 'Donburakokko': 0.9619834710743802, 'DualJustice': 0.561941251596424, 'EienNoWith': 0.8375451263537906, 'EvaLady': 0.8950554994954592, 'EverydayOsakanaChan': 0.5971459934138309, 'GakuenNoise': 0.8838289962825279, 'GarakutayaManta': 1.1018835616438356, 'GinNoChimera': 0.933422103861518, 'GOOD_KISS_Ver2': 1.0389492753623188, 'Hamlet': 1.5805658056580565, 'HanzaiKousyouninMinegishiEitarou': 0.8583264291632146, 'HaruichibanNoFukukoro': 0.7068062827225131, 'HarukaRefrain': 1.2026221692491061, 'HealingPlanet': 0.7243994943109987, 'HeiseiJimen': 1.4742063492063493, 'HighschoolKimengumi_vol01': 1.8804457953394123, 'HighschoolKimengumi_vol20': 1.6760416666666667, 'HinagikuKenzan': 0.8017135862913096, 'HisokaReturns': 0.8922764227642277, 'JangiriPonpon': 1.259515570934256, 'JijiBabaFight': 1.4756380510440836, 'Joouari': 0.9978991596638656, 'Jyovolley': 0.9948783610755442, 'KarappoHighschool': 0.9442815249266863, 'KimiHaBokuNoTaiyouDa': 0.9050332383665717, 'KoukouNoHitotachi': 2.2739872068230276, 'KuroidoGanka': 0.6958211856171039, 'KyokugenCyclone': 1.6134969325153374, 'LancelotFullThrottle': 1.4426751592356688, 'LoveHina_vol01': 1.2116991643454038, 'LoveHina_vol14': 1.5280788177339901, 'MadouTaiga': 0.6985074626865672, 'MAD_STONE': 1.1308562197092085, 'MagicianLoad': 0.8859416445623343, 'MagicStarGakuin': 1.3915022761760243, 'MariaSamaNihaNaisyo': 0.7425641025641025, 'MayaNoAkaiKutsu': 0.7798507462686567, 'MemorySeijin': 0.7972103004291845, 'MeteoSanStrikeDesu': 1.3169897377423032, 'MiraiSan': 1.4041297935103245, 'MisutenaideDaisy': 1.621172353455818, 'MoeruOnisan_vol01': 2.328193832599119, 'MoeruOnisan_vol19': 2.3821942446043165, 'MomoyamaHaikagura': 1.164969450101833, 'MukoukizuNoChonbo': 1.6122112211221122, 'MutekiBoukenSyakuma': 1.1005714285714285, 'Nekodama': 1.6026570048309179, 'NichijouSoup': 1.4011834319526628, 'Ningyoushi': 0.8915401301518439, 'OhWareraRettouSeitokai': 0.9282511210762332, 'OL_Lunch': 1.7821901323706377, 'ParaisoRoad': 1.2898230088495575, 'PikaruGenkiDesu': 1.351923076923077, 'PLANET7': 1.4776470588235293, 'PlatinumJungle': 0.8125836680053548, 'PrayerHaNemurenai': 1.148936170212766, 'PrismHeart': 1.2162818955042527, 'PsychoStaff': 0.8798133022170361, 'Raphael': 1.207900207900208, 'ReveryEarth': 0.9369277721261444, 'RinToSiteSippuNoNaka': 1.365482233502538, 'RisingGirl': 1.0845454545454545, 'Saisoku': 0.7184782608695652, 'SaladDays_vol01': 0.826171875, 'SaladDays_vol18': 0.7789115646258503, 'SamayoeruSyonenNiJunaiWo': 0.9534883720930233, 'SeisinkiVulnus': 0.8004246284501062, 'ShimatteIkouze_vol01': 1.6525925925925926, 'ShimatteIkouze_vol26': 1.8609794628751974, 'SonokiDeABC': 1.1664864864864866, 'SyabondamaKieta': 1.0391498881431767, 'TaiyouNiSmash': 0.8970013037809648, 'TapkunNoTanteisitsu': 0.8363787375415282, 'TasogareTsushin': 0.9254385964912281, 'TennenSenshiG': 0.678974358974359, 'TensiNoHaneToAkumaNoShippo': 1.1053254437869822, 'TetsuSan': 1.427972027972028, \"That'sIzumiko\": 0.839396628216504, 'TotteokiNoABC': 0.9603603603603603, 'ToutaMairimasu': 1.5241301907968574, 'TouyouKidan': 1.032085561497326, 'TsubasaNoKioku': 0.37743850720949956, \"UchiNoNyan'sDiary\": 0.4304568527918782, 'UchuKigekiM774': 1.3842794759825328, 'UltraEleven': 1.3574958813838551, 'UnbalanceTokyo': 1.2290794979079498, 'WarewareHaOniDearu': 1.0259067357512954, 'YamatoNoHane': 0.9941690962099126, 'YasasiiAkuma': 1.144736842105263, 'YouchienBoueigumi': 2.0027173913043477, 'YoumaKourin': 1.0368421052631578, 'YukiNoFuruMachi': 1.1770284510010538, 'YumeiroCooking': 1.1364063969896518, 'YumeNoKayoiji': 0.6288156288156288}\n",
      "Average Texts per Panel: {'AisazuNihaIrarenai': 1.452662721893491, 'AkkeraKanjinchou': 1.3743589743589744, 'Akuhamu': 1.6735395189003437, 'AosugiruHaru': 1.4107883817427387, 'AppareKappore': 1.6139896373056994, 'Arisa': 1.5285714285714285, 'ARMS': 1.8469565217391304, 'BakuretsuKungFuGirl': 2.1673267326732675, 'Belmondo': 1.4625407166123778, 'BEMADER_P': 1.2699386503067485, 'BokuHaSitatakaKun': 2.1173708920187795, 'BurariTessenTorimonocho': 1.2382022471910112, 'ByebyeC-BOY': 1.279111111111111, 'Count3DeKimeteAgeru': 1.296726504751848, 'DollGun': 1.4901734104046243, 'Donburakokko': 1.5454545454545454, 'DualJustice': 1.1085568326947637, 'EienNoWith': 1.2649819494584837, 'EvaLady': 1.5196770938446014, 'EverydayOsakanaChan': 2.0900109769484083, 'GakuenNoise': 1.254646840148699, 'GarakutayaManta': 0.9820205479452054, 'GinNoChimera': 1.0972037283621838, 'GOOD_KISS_Ver2': 1.4021739130434783, 'Hamlet': 1.6900369003690037, 'HanzaiKousyouninMinegishiEitarou': 1.4208782104391051, 'HaruichibanNoFukukoro': 1.53717277486911, 'HarukaRefrain': 1.368295589988081, 'HealingPlanet': 1.2604298356510746, 'HeiseiJimen': 1.1924603174603174, 'HighschoolKimengumi_vol01': 1.8875379939209727, 'HighschoolKimengumi_vol20': 1.9020833333333333, 'HinagikuKenzan': 1.1505507955936352, 'HisokaReturns': 1.181910569105691, 'JangiriPonpon': 0.9349480968858132, 'JijiBabaFight': 1.7877030162412992, 'Joouari': 1.2258403361344539, 'Jyovolley': 1.1382842509603073, 'KarappoHighschool': 0.9340175953079178, 'KimiHaBokuNoTaiyouDa': 1.325735992402659, 'KoukouNoHitotachi': 2.5831556503198296, 'KuroidoGanka': 1.1914480077745384, 'KyokugenCyclone': 1.5705521472392638, 'LancelotFullThrottle': 1.7749469214437368, 'LoveHina_vol01': 1.680594243268338, 'LoveHina_vol14': 1.8669950738916257, 'MadouTaiga': 1.0686567164179104, 'MAD_STONE': 0.9773828756058158, 'MagicianLoad': 1.202917771883289, 'MagicStarGakuin': 2.0880121396054627, 'MariaSamaNihaNaisyo': 1.523076923076923, 'MayaNoAkaiKutsu': 1.300995024875622, 'MemorySeijin': 1.2703862660944205, 'MeteoSanStrikeDesu': 1.3329532497149372, 'MiraiSan': 1.3569321533923304, 'MisutenaideDaisy': 1.7944006999125108, 'MoeruOnisan_vol01': 2.3865638766519823, 'MoeruOnisan_vol19': 2.018884892086331, 'MomoyamaHaikagura': 1.4460285132382893, 'MukoukizuNoChonbo': 1.7574257425742574, 'MutekiBoukenSyakuma': 1.4022857142857144, 'Nekodama': 1.6316425120772946, 'NichijouSoup': 1.970414201183432, 'Ningyoushi': 1.0444685466377441, 'OhWareraRettouSeitokai': 1.1928251121076232, 'OL_Lunch': 2.1756919374247894, 'ParaisoRoad': 1.5873893805309736, 'PikaruGenkiDesu': 0.9942307692307693, 'PLANET7': 1.8211764705882354, 'PlatinumJungle': 1.2329317269076305, 'PrayerHaNemurenai': 1.5704787234042554, 'PrismHeart': 1.709599027946537, 'PsychoStaff': 1.3010501750291714, 'Raphael': 1.7713097713097714, 'ReveryEarth': 1.3021363173957274, 'RinToSiteSippuNoNaka': 1.5705583756345178, 'RisingGirl': 1.450909090909091, 'Saisoku': 1.2652173913043478, 'SaladDays_vol01': 1.2919921875, 'SaladDays_vol18': 1.4603174603174602, 'SamayoeruSyonenNiJunaiWo': 1.1007751937984496, 'SeisinkiVulnus': 1.0138004246284502, 'ShimatteIkouze_vol01': 1.2985185185185186, 'ShimatteIkouze_vol26': 1.1477093206951028, 'SonokiDeABC': 1.2583783783783784, 'SyabondamaKieta': 1.2069351230425056, 'TaiyouNiSmash': 1.199478487614081, 'TapkunNoTanteisitsu': 1.1104651162790697, 'TasogareTsushin': 1.2883771929824561, 'TennenSenshiG': 1.5805128205128205, 'TensiNoHaneToAkumaNoShippo': 1.353846153846154, 'TetsuSan': 1.648951048951049, \"That'sIzumiko\": 1.2102928127772847, 'TotteokiNoABC': 1.381981981981982, 'ToutaMairimasu': 1.1077441077441077, 'TouyouKidan': 0.9318181818181818, 'TsubasaNoKioku': 0.8481764206955047, \"UchiNoNyan'sDiary\": 1.231472081218274, 'UchuKigekiM774': 1.5834061135371178, 'UltraEleven': 1.200988467874794, 'UnbalanceTokyo': 1.4089958158995817, 'WarewareHaOniDearu': 1.1917098445595855, 'YamatoNoHane': 0.9873663751214772, 'YasasiiAkuma': 1.9019138755980862, 'YouchienBoueigumi': 2.3125, 'YoumaKourin': 1.2589473684210526, 'YukiNoFuruMachi': 1.7544783983140146, 'YumeiroCooking': 1.2737535277516463, 'YumeNoKayoiji': 1.1135531135531136}\n"
     ]
    }
   ],
   "source": [
    "import os\n",
    "import pandas as pd\n",
    "\n",
    "# Dictionaries to store the results for each statistic\n",
    "stat_total_panel_count = {}\n",
    "stat_total_face_count = {}\n",
    "stat_total_textbox_count = {}\n",
    "stat_avg_face_count_per_panel = {}\n",
    "stat_avg_textbox_count_per_panel = {}\n",
    "\n",
    "def calculate_avg_faces_and_texts_across_manga(base_dir):\n",
    "    # Iterate through each folder in the base directory\n",
    "    for manga_folder in os.listdir(base_dir):\n",
    "        manga_path = os.path.join(base_dir, manga_folder)\n",
    "\n",
    "        # Check if it's a directory\n",
    "        if os.path.isdir(manga_path):\n",
    "            total_panels = 0\n",
    "            total_faces = 0\n",
    "            total_textboxes = 0\n",
    "\n",
    "            # Iterate through each CSV file in the manga folder\n",
    "            for csv_file in os.listdir(manga_path):\n",
    "                if csv_file.endswith('.csv'):\n",
    "                    csv_file_path = os.path.join(manga_path, csv_file)\n",
    "\n",
    "                    # Load the DataFrame from the CSV file\n",
    "                    try:\n",
    "                        page_df = pd.read_csv(csv_file_path)\n",
    "                        \n",
    "                        # Check if 'type' column exists before proceeding\n",
    "                        if 'type' not in page_df.columns:\n",
    "                            continue\n",
    "\n",
    "                        # Count total panels (frames), faces, and texts\n",
    "                        total_panels += page_df[page_df[\"type\"] == \"frame\"].shape[0]\n",
    "                        total_faces += page_df[page_df[\"type\"] == \"face\"].shape[0]\n",
    "                        total_textboxes += page_df[page_df[\"type\"] == \"text\"].shape[0]\n",
    "\n",
    "                    except Exception as e:\n",
    "                        print(f\"Error processing file {csv_file_path}: {e}\")\n",
    "\n",
    "            # Calculate average number of faces and texts per panel for the current manga\n",
    "            avg_num_faces_per_panel = total_faces / total_panels if total_panels > 0 else 0\n",
    "            avg_num_texts_per_panel = total_textboxes / total_panels if total_panels > 0 else 0\n",
    "            \n",
    "            # Store results for the current manga in the provided dictionaries\n",
    "            stat_total_panel_count[manga_folder] = total_panels\n",
    "            stat_total_face_count[manga_folder] = total_faces\n",
    "            stat_total_textbox_count[manga_folder] = total_textboxes\n",
    "            stat_avg_face_count_per_panel[manga_folder] = avg_num_faces_per_panel\n",
    "            stat_avg_textbox_count_per_panel[manga_folder] = avg_num_texts_per_panel\n",
    "\n",
    "# Example usage\n",
    "calculate_avg_faces_and_texts_across_manga('../CLEAN_Dataset/clean_manga109')\n",
    "\n",
    "# The results are now accessible in the provided dictionaries\n",
    "print(\"Total Panels:\", stat_total_panel_count)\n",
    "print(\"Total Faces:\", stat_total_face_count)\n",
    "print(\"Total Textboxes:\", stat_total_textbox_count)\n",
    "print(\"Average Faces per Panel:\", stat_avg_face_count_per_panel)\n",
    "print(\"Average Texts per Panel:\", stat_avg_textbox_count_per_panel)\n"
   ]
  },
  {
   "cell_type": "markdown",
   "metadata": {},
   "source": [
    "### 7. Average text length per textbox"
   ]
  },
  {
   "cell_type": "code",
   "execution_count": 7,
   "metadata": {},
   "outputs": [
    {
     "name": "stdout",
     "output_type": "stream",
     "text": [
      "{'AisazuNihaIrarenai': 12.759674134419551, 'AkkeraKanjinchou': 11.750746268656716, 'Akuhamu': 12.344969199178644, 'AosugiruHaru': 9.368382352941177, 'AppareKappore': 10.902086677367576, 'Arisa': 11.864845434938893, 'ARMS': 10.603578154425612, 'BakuretsuKungFuGirl': 11.113293741434445, 'Belmondo': 18.165553080920564, 'BEMADER_P': 13.426501035196688, 'BokuHaSitatakaKun': 14.114412416851442, 'BurariTessenTorimonocho': 21.451300665456746, 'ByebyeC-BOY': 11.743571924947881, 'Count3DeKimeteAgeru': 11.0057003257329, 'DollGun': 12.770364623739333, 'Donburakokko': 15.297326203208556, 'DualJustice': 12.422811059907835, 'EienNoWith': 13.380707762557078, 'EvaLady': 14.626826029216467, 'EverydayOsakanaChan': 13.879726890756302, 'GakuenNoise': 11.687407407407408, 'GarakutayaManta': 11.506538796861378, 'GinNoChimera': 14.145631067961165, 'GOOD_KISS_Ver2': 12.862403100775193, 'Hamlet': 15.290029112081514, 'HanzaiKousyouninMinegishiEitarou': 14.331778425655976, 'HaruichibanNoFukukoro': 10.258174386920981, 'HarukaRefrain': 12.032229965156795, 'HealingPlanet': 16.123370110330992, 'HeiseiJimen': 16.856905158069882, 'HighschoolKimengumi_vol01': 12.194310252281268, 'HighschoolKimengumi_vol20': 15.731653888280395, 'HinagikuKenzan': 13.761702127659575, 'HisokaReturns': 14.979363714531384, 'JangiriPonpon': 15.672094744633604, 'JijiBabaFight': 12.243997404282933, 'Joouari': 11.499571550985433, 'Jyovolley': 14.068616422947132, 'KarappoHighschool': 12.184458398744113, 'KimiHaBokuNoTaiyouDa': 12.67621776504298, 'KoukouNoHitotachi': 11.949236483697895, 'KuroidoGanka': 14.586460032626427, 'KyokugenCyclone': 11.8515625, 'LancelotFullThrottle': 14.383373205741627, 'LoveHina_vol01': 12.760773480662984, 'LoveHina_vol14': 15.02796833773087, 'MadouTaiga': 11.557262569832401, 'MAD_STONE': 17.03801652892562, 'MagicianLoad': 13.511576626240354, 'MagicStarGakuin': 15.872819767441861, 'MariaSamaNihaNaisyo': 11.934680134680134, 'MayaNoAkaiKutsu': 14.818355640535373, 'MemorySeijin': 13.423141891891891, 'MeteoSanStrikeDesu': 14.10607356715141, 'MiraiSan': 14.381884057971014, 'MisutenaideDaisy': 12.81618722574354, 'MoeruOnisan_vol01': 14.801107521919704, 'MoeruOnisan_vol19': 15.482850779510022, 'MomoyamaHaikagura': 16.72676056338028, 'MukoukizuNoChonbo': 16.143661971830987, 'MutekiBoukenSyakuma': 11.360228198859005, 'Nekodama': 12.646928201332347, 'NichijouSoup': 14.287087087087087, 'Ningyoushi': 10.922118380062305, 'OhWareraRettouSeitokai': 13.233082706766917, 'OL_Lunch': 11.54646017699115, 'ParaisoRoad': 11.586062717770035, 'PikaruGenkiDesu': 12.492263056092844, 'PLANET7': 12.200258397932817, 'PlatinumJungle': 14.393051031487513, 'PrayerHaNemurenai': 15.150719729043184, 'PrismHeart': 17.6545842217484, 'PsychoStaff': 13.127354260089685, 'Raphael': 18.876173708920188, 'ReveryEarth': 13.92734375, 'RinToSiteSippuNoNaka': 15.967679379444085, 'RisingGirl': 14.735588972431078, 'Saisoku': 14.860824742268042, 'SaladDays_vol01': 12.786092214663643, 'SaladDays_vol18': 13.57996894409938, 'SamayoeruSyonenNiJunaiWo': 17.251173708920188, 'SeisinkiVulnus': 13.523560209424083, 'ShimatteIkouze_vol01': 13.005704506560182, 'ShimatteIkouze_vol26': 10.394356503785271, 'SonokiDeABC': 14.93127147766323, 'SyabondamaKieta': 10.765523632993512, 'TaiyouNiSmash': 14.992391304347827, 'TapkunNoTanteisitsu': 15.459985041136873, 'TasogareTsushin': 13.014468085106383, 'TennenSenshiG': 12.861129136924076, 'TensiNoHaneToAkumaNoShippo': 12.286713286713287, 'TetsuSan': 13.151823579304496, \"That'sIzumiko\": 14.541055718475073, 'TotteokiNoABC': 11.505867014341591, 'ToutaMairimasu': 18.02938196555218, 'TouyouKidan': 14.975609756097562, 'TsubasaNoKioku': 12.297, \"UchiNoNyan'sDiary\": 14.061005770816159, 'UchuKigekiM774': 20.198014340871485, 'UltraEleven': 15.786694101508916, 'UnbalanceTokyo': 17.29918337045286, 'WarewareHaOniDearu': 17.062608695652173, 'YamatoNoHane': 9.14271653543307, 'YasasiiAkuma': 16.835220125786165, 'YouchienBoueigumi': 11.2737955346651, 'YoumaKourin': 14.047658862876254, 'YukiNoFuruMachi': 10.10990990990991, 'YumeiroCooking': 13.251107828655835, 'YumeNoKayoiji': 14.714912280701755}\n"
     ]
    }
   ],
   "source": [
    "stat_avg_text_length_in_textbox = {}\n",
    "\n",
    "for key, value in stat_overall_jp_char_count.items():\n",
    "  stat_avg_text_length_in_textbox[key] = (value) / (stat_total_textbox_count[key])\n",
    "\n",
    "print(stat_avg_text_length_in_textbox)"
   ]
  },
  {
   "cell_type": "markdown",
   "metadata": {},
   "source": [
    "### 8. Average Textboxes per page"
   ]
  },
  {
   "cell_type": "code",
   "execution_count": 8,
   "metadata": {},
   "outputs": [
    {
     "name": "stdout",
     "output_type": "stream",
     "text": [
      "{'AisazuNihaIrarenai': 7.835106382978723, 'AkkeraKanjinchou': 7.282608695652174, 'Akuhamu': 9.018518518518519, 'AosugiruHaru': 6.476190476190476, 'AppareKappore': 6.422680412371134, 'Arisa': 7.170103092783505, 'ARMS': 6.555555555555555, 'BakuretsuKungFuGirl': 11.283505154639176, 'Belmondo': 6.803030303030303, 'BEMADER_P': 6.355263157894737, 'BokuHaSitatakaKun': 11.38888888888889, 'BurariTessenTorimonocho': 7.379464285714286, 'ByebyeC-BOY': 7.654255319148936, 'Count3DeKimeteAgeru': 6.202020202020202, 'DollGun': 6.713541666666667, 'Donburakokko': 5.252808988764045, 'DualJustice': 4.383838383838384, 'EienNoWith': 7.008, 'EvaLady': 6.908256880733945, 'EverydayOsakanaChan': 11.069767441860465, 'GakuenNoise': 6.818181818181818, 'GarakutayaManta': 5.567961165048544, 'GinNoChimera': 4.0, 'GOOD_KISS_Ver2': 8.147368421052631, 'Hamlet': 7.427027027027027, 'HanzaiKousyouninMinegishiEitarou': 8.575, 'HaruichibanNoFukukoro': 7.56701030927835, 'HarukaRefrain': 5.797979797979798, 'HealingPlanet': 5.247368421052632, 'HeiseiJimen': 5.414414414414415, 'HighschoolKimengumi_vol01': 9.409090909090908, 'HighschoolKimengumi_vol20': 9.712765957446809, 'HinagikuKenzan': 5.280898876404494, 'HisokaReturns': 6.461111111111111, 'JangiriPonpon': 6.140909090909091, 'JijiBabaFight': 10.554794520547945, 'Joouari': 6.015463917525773, 'Jyovolley': 4.779569892473118, 'KarappoHighschool': 5.264462809917355, 'KimiHaBokuNoTaiyouDa': 6.288288288288288, 'KoukouNoHitotachi': 18.082089552238806, 'KuroidoGanka': 6.069306930693069, 'KyokugenCyclone': 6.620689655172414, 'LancelotFullThrottle': 8.618556701030927, 'LoveHina_vol01': 9.329896907216495, 'LoveHina_vol14': 9.768041237113403, 'MadouTaiga': 4.261904761904762, 'MAD_STONE': 3.1510416666666665, 'MagicianLoad': 5.153409090909091, 'MagicStarGakuin': 8.390243902439025, 'MariaSamaNihaNaisyo': 7.654639175257732, 'MayaNoAkaiKutsu': 5.811111111111111, 'MemorySeijin': 5.803921568627451, 'MeteoSanStrikeDesu': 5.12719298245614, 'MiraiSan': 6.4485981308411215, 'MisutenaideDaisy': 9.23873873873874, 'MoeruOnisan_vol01': 11.777173913043478, 'MoeruOnisan_vol19': 11.33838383838384, 'MomoyamaHaikagura': 6.96078431372549, 'MukoukizuNoChonbo': 8.452380952380953, 'MutekiBoukenSyakuma': 6.596774193548387, 'Nekodama': 5.773504273504273, 'NichijouSoup': 8.161764705882353, 'Ningyoushi': 5.068421052631579, 'OhWareraRettouSeitokai': 6.927083333333333, 'OL_Lunch': 13.492537313432836, 'ParaisoRoad': 6.833333333333333, 'PikaruGenkiDesu': 5.559139784946237, 'PLANET7': 7.818181818181818, 'PlatinumJungle': 5.354651162790698, 'PrayerHaNemurenai': 6.025510204081633, 'PrismHeart': 7.646739130434782, 'PsychoStaff': 6.126373626373627, 'Raphael': 7.282051282051282, 'ReveryEarth': 6.4, 'RinToSiteSippuNoNaka': 5.088815789473684, 'RisingGirl': 6.595041322314049, 'Saisoku': 5.82, 'SaladDays_vol01': 7.269230769230769, 'SaladDays_vol18': 6.778947368421052, 'SamayoeruSyonenNiJunaiWo': 4.786516853932584, 'SeisinkiVulnus': 4.775, 'ShimatteIkouze_vol01': 8.11574074074074, 'ShimatteIkouze_vol26': 6.486607142857143, 'SonokiDeABC': 5.878787878787879, 'SyabondamaKieta': 5.73936170212766, 'TaiyouNiSmash': 5.054945054945055, 'TapkunNoTanteisitsu': 6.247663551401869, 'TasogareTsushin': 5.994897959183674, 'TennenSenshiG': 8.657303370786517, 'TensiNoHaneToAkumaNoShippo': 6.285714285714286, 'TetsuSan': 14.7375, \"That'sIzumiko\": 5.3700787401574805, 'TotteokiNoABC': 8.159574468085106, 'ToutaMairimasu': 4.527522935779817, 'TouyouKidan': 5.2406015037593985, 'TsubasaNoKioku': 5.154639175257732, \"UchiNoNyan'sDiary\": 7.396341463414634, 'UchuKigekiM774': 10.921686746987952, 'UltraEleven': 6.451327433628318, 'UnbalanceTokyo': 7.653409090909091, 'WarewareHaOniDearu': 5.989583333333333, 'YamatoNoHane': 4.456140350877193, 'YasasiiAkuma': 8.457446808510639, 'YouchienBoueigumi': 15.75925925925926, 'YoumaKourin': 5.588785046728972, 'YukiNoFuruMachi': 8.763157894736842, 'YumeiroCooking': 7.052083333333333, 'YumeNoKayoiji': 4.701030927835052}\n"
     ]
    }
   ],
   "source": [
    "stat_avg_textbox_count_per_page = {}\n",
    "\n",
    "for key, value in stat_total_textbox_count.items():\n",
    "  stat_avg_textbox_count_per_page[key] = (value) / (stat_manga_page_count[key])\n",
    "\n",
    "print(stat_avg_textbox_count_per_page)"
   ]
  },
  {
   "cell_type": "markdown",
   "metadata": {},
   "source": [
    "### 9. Panel-to-Text Ratio:\n"
   ]
  },
  {
   "cell_type": "code",
   "execution_count": 9,
   "metadata": {},
   "outputs": [],
   "source": [
    "# stat_ratio_panel_to_text = {}\n",
    "\n",
    "# for key, value in stat_total_panel_count.items():\n",
    "#   stat_ratio_panel_to_text[key] = (value) / (stat_total_textbox_count[key])\n",
    "\n",
    "# print(stat_ratio_panel_to_text)"
   ]
  },
  {
   "cell_type": "markdown",
   "metadata": {},
   "source": [
    "### 10. Story Unique Character per manga count"
   ]
  },
  {
   "cell_type": "code",
   "execution_count": 10,
   "metadata": {},
   "outputs": [],
   "source": [
    "import xml.etree.ElementTree as ET\n",
    "\n",
    "data_path = \"../Manga109/annotations\"\n",
    "\n",
    "def get_characters(xml_file):\n",
    "    tree = ET.parse(xml_file)\n",
    "    root = tree.getroot()\n",
    "\n",
    "    manga_data = []\n",
    "\n",
    "    for character in root.find(\"characters\"):\n",
    "        character_id = character.get(\"id\")\n",
    "        character_name = character.get('name')\n",
    "        manga_data.append(character_name)\n",
    "      \n",
    "    return manga_data\n",
    "\n",
    "xml_files = [f for f in os.listdir(data_path) if f.endswith('.xml')]\n",
    "\n",
    "stat_unique_faces = {}\n",
    "for title in xml_files:\n",
    "  manga_title = title[:-4]\n",
    "\n",
    "  xml_file = os.path.join(data_path, f'{manga_title}.xml')\n",
    "\n",
    "  stat_unique_faces[manga_title] = len(get_characters(xml_file))\n"
   ]
  },
  {
   "cell_type": "markdown",
   "metadata": {},
   "source": [
    "### 11. Extract Genre from Manga109.org"
   ]
  },
  {
   "cell_type": "code",
   "execution_count": 25,
   "metadata": {},
   "outputs": [
    {
     "name": "stdout",
     "output_type": "stream",
     "text": [
      "Genre: {'AisazuNihaIrarenai': 'love romance', 'AkkeraKanjinchou': 'battle', 'Akuhamu': 'four-frame cartoons', 'AosugiruHaru': 'love romance', 'AppareKappore': 'science fiction', 'Arisa': 'romantic comedy', 'ARMS': 'science fiction', 'BakuretsuKungFuGirl': 'romantic comedy', 'Belmondo': 'fantasy', 'BEMADER_P': 'science fiction', 'BokuHaSitatakaKun': 'humor', 'BurariTessenTorimonocho': 'historical drama', 'ByebyeC-BOY': 'science fiction', 'Count3DeKimeteAgeru': 'sports', 'DollGun': 'battle', 'Donburakokko': 'romantic comedy', 'DualJustice': 'battle', 'EienNoWith': 'animal', 'EvaLady': 'science fiction', 'EverydayOsakanaChan': 'animal', 'GakuenNoise': 'battle', 'GarakutayaManta': 'humor', 'GinNoChimera': 'fantasy', 'GOOD_KISS_Ver2': 'love romance', 'Hamlet': 'historical drama', 'HanzaiKousyouninMinegishiEitarou': 'suspense', 'HaruichibanNoFukukoro': 'love romance', 'HarukaRefrain': 'science fiction', 'HealingPlanet': 'science fiction', 'HeiseiJimen': 'humor', 'HighschoolKimengumi_vol01': 'humor', 'HighschoolKimengumi_vol20': 'humor', 'HinagikuKenzan': 'love romance', 'HisokaReturns': 'love romance', 'JangiriPonpon': 'historical drama', 'JijiBabaFight': 'humor', 'Joouari': 'battle', 'Jyovolley': 'sports', 'KarappoHighschool': 'humor', 'KimiHaBokuNoTaiyouDa': 'love romance', 'KoukouNoHitotachi': 'four-frame cartoons', 'KuroidoGanka': 'suspense', 'KyokugenCyclone': 'sports', 'LancelotFullThrottle': 'humor', 'LoveHina_vol01': 'romantic comedy', 'LoveHina_vol14': 'romantic comedy', 'MadouTaiga': 'battle', 'MAD_STONE': 'battle', 'MagicianLoad': 'fantasy', 'MagicStarGakuin': 'fantasy', 'MariaSamaNihaNaisyo': 'love romance', 'MayaNoAkaiKutsu': 'horror', 'MemorySeijin': 'science fiction', 'MeteoSanStrikeDesu': 'humor', 'MiraiSan': 'science fiction', 'MisutenaideDaisy': 'romantic comedy', 'MoeruOnisan_vol01': 'humor', 'MoeruOnisan_vol19': 'humor', 'MomoyamaHaikagura': 'historical drama', 'MukoukizuNoChonbo': 'humor', 'MutekiBoukenSyakuma': 'battle', 'Nekodama': 'humor', 'NichijouSoup': 'humor', 'Ningyoushi': 'suspense', 'OhWareraRettouSeitokai': 'love romance', 'OL_Lunch': 'four-frame cartoons', 'ParaisoRoad': 'fantasy', 'PikaruGenkiDesu': 'romantic comedy', 'PLANET7': 'science fiction', 'PlatinumJungle': 'suspense', 'PrayerHaNemurenai': 'science fiction', 'PrismHeart': 'romantic comedy', 'PsychoStaff': 'science fiction', 'Raphael': 'historical drama', 'ReveryEarth': 'fantasy', 'RinToSiteSippuNoNaka': 'historical drama', 'RisingGirl': 'sports', 'Saisoku': 'sports', 'SaladDays_vol01': 'love romance', 'SaladDays_vol18': 'love romance', 'SamayoeruSyonenNiJunaiWo': 'romantic comedy', 'SeisinkiVulnus': 'battle', 'ShimatteIkouze_vol01': 'sports', 'ShimatteIkouze_vol26': 'sports', 'SonokiDeABC': 'romantic comedy', 'SyabondamaKieta': 'suspense', 'TaiyouNiSmash': 'sports', 'TapkunNoTanteisitsu': 'animal', 'TasogareTsushin': 'horror', 'TennenSenshiG': 'humor', 'TensiNoHaneToAkumaNoShippo': 'fantasy', 'TetsuSan': 'four-frame cartoons', \"That'sIzumiko\": 'fantasy', 'TotteokiNoABC': 'romantic comedy', 'ToutaMairimasu': 'romantic comedy', 'TouyouKidan': 'fantasy', 'TsubasaNoKioku': 'animal', \"UchiNoNyan'sDiary\": 'animal', 'UchuKigekiM774': 'science fiction', 'UltraEleven': 'sports', 'UnbalanceTokyo': 'science fiction', 'WarewareHaOniDearu': 'romantic comedy', 'YamatoNoHane': 'sports', 'YasasiiAkuma': 'fantasy', 'YouchienBoueigumi': 'four-frame cartoons', 'YoumaKourin': 'fantasy', 'YukiNoFuruMachi': 'love romance', 'YumeiroCooking': 'love romance', 'YumeNoKayoiji': 'fantasy'}\n",
      "Demographics: {'AisazuNihaIrarenai': 'girl', 'AkkeraKanjinchou': 'boy', 'Akuhamu': 'boy', 'AosugiruHaru': 'lady', 'AppareKappore': 'boy', 'Arisa': 'boy', 'ARMS': 'young men', 'BakuretsuKungFuGirl': 'girl', 'Belmondo': 'boy', 'BEMADER_P': 'boy', 'BokuHaSitatakaKun': 'boy', 'BurariTessenTorimonocho': 'young men', 'ByebyeC-BOY': 'girl', 'Count3DeKimeteAgeru': 'boy', 'DollGun': 'boy', 'Donburakokko': 'girl', 'DualJustice': 'young men', 'EienNoWith': 'girl', 'EvaLady': 'boy', 'EverydayOsakanaChan': 'young men', 'GakuenNoise': 'lady', 'GarakutayaManta': 'young men', 'GinNoChimera': 'girl', 'GOOD_KISS_Ver2': 'boy', 'Hamlet': 'boy', 'HanzaiKousyouninMinegishiEitarou': 'young men', 'HaruichibanNoFukukoro': 'girl', 'HarukaRefrain': 'girl', 'HealingPlanet': 'boy', 'HeiseiJimen': 'young men', 'HighschoolKimengumi_vol01': 'boy', 'HighschoolKimengumi_vol20': 'boy', 'HinagikuKenzan': 'boy', 'HisokaReturns': 'boy', 'JangiriPonpon': 'young men', 'JijiBabaFight': 'boy', 'Joouari': 'young men', 'Jyovolley': 'young men', 'KarappoHighschool': 'girl', 'KimiHaBokuNoTaiyouDa': 'young men', 'KoukouNoHitotachi': 'young men', 'KuroidoGanka': 'boy', 'KyokugenCyclone': 'young men', 'LancelotFullThrottle': 'boy', 'LoveHina_vol01': 'boy', 'LoveHina_vol14': 'boy', 'MadouTaiga': 'boy', 'MAD_STONE': 'boy', 'MagicianLoad': 'lady', 'MagicStarGakuin': 'lady', 'MariaSamaNihaNaisyo': 'lady', 'MayaNoAkaiKutsu': 'girl', 'MemorySeijin': 'young men', 'MeteoSanStrikeDesu': 'boy', 'MiraiSan': 'young men', 'MisutenaideDaisy': 'boy', 'MoeruOnisan_vol01': 'boy', 'MoeruOnisan_vol19': 'boy', 'MomoyamaHaikagura': 'girl', 'MukoukizuNoChonbo': 'boy', 'MutekiBoukenSyakuma': 'boy', 'Nekodama': 'lady', 'NichijouSoup': 'lady', 'Ningyoushi': 'girl', 'OhWareraRettouSeitokai': 'girl', 'OL_Lunch': 'lady', 'ParaisoRoad': 'boy', 'PikaruGenkiDesu': 'girl', 'PLANET7': 'young men', 'PlatinumJungle': 'lady', 'PrayerHaNemurenai': 'young men', 'PrismHeart': 'girl', 'PsychoStaff': 'young men', 'Raphael': 'lady', 'ReveryEarth': 'boy', 'RinToSiteSippuNoNaka': 'lady', 'RisingGirl': 'lady', 'Saisoku': 'boy', 'SaladDays_vol01': 'boy', 'SaladDays_vol18': 'boy', 'SamayoeruSyonenNiJunaiWo': 'girl', 'SeisinkiVulnus': 'young men', 'ShimatteIkouze_vol01': 'boy', 'ShimatteIkouze_vol26': 'boy', 'SonokiDeABC': 'girl', 'SyabondamaKieta': 'girl', 'TaiyouNiSmash': 'girl', 'TapkunNoTanteisitsu': 'boy', 'TasogareTsushin': 'girl', 'TennenSenshiG': 'boy', 'TensiNoHaneToAkumaNoShippo': 'girl', 'TetsuSan': 'young men', \"That'sIzumiko\": 'young men', 'TotteokiNoABC': 'girl', 'ToutaMairimasu': 'boy', 'TouyouKidan': 'young men', 'TsubasaNoKioku': 'boy', \"UchiNoNyan'sDiary\": 'lady', 'UchuKigekiM774': 'young men', 'UltraEleven': 'boy', 'UnbalanceTokyo': 'young men', 'WarewareHaOniDearu': 'lady', 'YamatoNoHane': 'young men', 'YasasiiAkuma': 'girl', 'YouchienBoueigumi': 'lady', 'YoumaKourin': 'boy', 'YukiNoFuruMachi': 'girl', 'YumeiroCooking': 'girl', 'YumeNoKayoiji': 'young men'}\n",
      "Year: {'AisazuNihaIrarenai': \"1980's\", 'AkkeraKanjinchou': \"2000's\", 'Akuhamu': \"2000's\", 'AosugiruHaru': \"2000's\", 'AppareKappore': \"1990's\", 'Arisa': \"2000's\", 'ARMS': \"1980's\", 'BakuretsuKungFuGirl': \"2000's\", 'Belmondo': \"2000's\", 'BEMADER_P': \"1980's\", 'BokuHaSitatakaKun': \"1980's\", 'BurariTessenTorimonocho': \"1990's\", 'ByebyeC-BOY': \"1980's\", 'Count3DeKimeteAgeru': \"1980's\", 'DollGun': \"2000's\", 'Donburakokko': \"1990's\", 'DualJustice': \"2000's\", 'EienNoWith': \"1990's\", 'EvaLady': \"1990's\", 'EverydayOsakanaChan': \"1990's\", 'GakuenNoise': \"2000's\", 'GarakutayaManta': \"1990's\", 'GinNoChimera': \"1980's\", 'GOOD_KISS_Ver2': \"1990's\", 'Hamlet': \"1970's\", 'HanzaiKousyouninMinegishiEitarou': \"2000's\", 'HaruichibanNoFukukoro': \"2000's\", 'HarukaRefrain': \"1990's\", 'HealingPlanet': \"2000's\", 'HeiseiJimen': \"1990's\", 'HighschoolKimengumi_vol01': \"1980's\", 'HighschoolKimengumi_vol20': \"1980's\", 'HinagikuKenzan': \"2000's\", 'HisokaReturns': \"1990's\", 'JangiriPonpon': \"1980's\", 'JijiBabaFight': \"1990's\", 'Joouari': \"2000's\", 'Jyovolley': \"2000's\", 'KarappoHighschool': \"1980's\", 'KimiHaBokuNoTaiyouDa': \"1990's\", 'KoukouNoHitotachi': \"1990's\", 'KuroidoGanka': \"1990's\", 'KyokugenCyclone': \"2000's\", 'LancelotFullThrottle': \"2000's\", 'LoveHina_vol01': \"1990's\", 'LoveHina_vol14': \"1990's\", 'MadouTaiga': \"1990's\", 'MAD_STONE': \"1990's\", 'MagicianLoad': \"1980's\", 'MagicStarGakuin': \"2000's\", 'MariaSamaNihaNaisyo': \"1990's\", 'MayaNoAkaiKutsu': \"1990's\", 'MemorySeijin': \"1990's\", 'MeteoSanStrikeDesu': \"2000's\", 'MiraiSan': \"1990's\", 'MisutenaideDaisy': \"1980's\", 'MoeruOnisan_vol01': \"1980's\", 'MoeruOnisan_vol19': \"1980's\", 'MomoyamaHaikagura': \"2000's\", 'MukoukizuNoChonbo': \"1970's\", 'MutekiBoukenSyakuma': \"1990's\", 'Nekodama': \"2010's\", 'NichijouSoup': \"1990's\", 'Ningyoushi': \"1980's\", 'OhWareraRettouSeitokai': \"1970's\", 'OL_Lunch': \"1990's\", 'ParaisoRoad': \"1990's\", 'PikaruGenkiDesu': \"1990's\", 'PLANET7': \"1990's\", 'PlatinumJungle': \"1990's\", 'PrayerHaNemurenai': \"1990's\", 'PrismHeart': \"2000's\", 'PsychoStaff': \"2000's\", 'Raphael': \"1990's\", 'ReveryEarth': \"1990's\", 'RinToSiteSippuNoNaka': \"2000's\", 'RisingGirl': \"2000's\", 'Saisoku': \"2000's\", 'SaladDays_vol01': \"1990's\", 'SaladDays_vol18': \"1990's\", 'SamayoeruSyonenNiJunaiWo': \"1990's\", 'SeisinkiVulnus': \"1990's\", 'ShimatteIkouze_vol01': \"1970's\", 'ShimatteIkouze_vol26': \"1970's\", 'SonokiDeABC': \"1980's\", 'SyabondamaKieta': \"1980's\", 'TaiyouNiSmash': \"1990's\", 'TapkunNoTanteisitsu': \"1980's\", 'TasogareTsushin': \"1980's\", 'TennenSenshiG': \"1990's\", 'TensiNoHaneToAkumaNoShippo': \"2000's\", 'TetsuSan': \"2000's\", \"That'sIzumiko\": \"1980's\", 'TotteokiNoABC': \"1970's\", 'ToutaMairimasu': \"2000's\", 'TouyouKidan': \"1990's\", 'TsubasaNoKioku': \"1970's\", \"UchiNoNyan'sDiary\": \"2000's\", 'UchuKigekiM774': \"1990's\", 'UltraEleven': \"1990's\", 'UnbalanceTokyo': \"1980's\", 'WarewareHaOniDearu': \"2000's\", 'YamatoNoHane': \"2000's\", 'YasasiiAkuma': \"1990's\", 'YouchienBoueigumi': \"2000's\", 'YoumaKourin': \"1990's\", 'YukiNoFuruMachi': \"1990's\", 'YumeiroCooking': \"1980's\", 'YumeNoKayoiji': \"1980's\"}\n"
     ]
    }
   ],
   "source": [
    "import requests\n",
    "from bs4 import BeautifulSoup\n",
    "import pandas as pd\n",
    "from io import StringIO\n",
    "\n",
    "stat_manga_genre = {}\n",
    "stat_manga_demographics = {}\n",
    "stat_manga_year = {}\n",
    "\n",
    "url = 'http://www.manga109.org/en/explore.html'\n",
    "response = requests.get(url)\n",
    "soup = BeautifulSoup(response.content, 'html.parser')\n",
    "\n",
    "df = pd.read_html(StringIO(str(soup)), attrs={'class': 'tablesorter'})[0]\n",
    "\n",
    "# Map base titles to the rows containing metadata for easy lookup later\n",
    "metadata_mapping = {}\n",
    "\n",
    "for index, row in df.iterrows():\n",
    "    base_title = row['Folder Name']\n",
    "    genre = row['Genre']\n",
    "    demographics = row['Target']\n",
    "    year = row['Age']\n",
    "    metadata_mapping[base_title] = {'genre': genre, 'demographics': demographics, 'year': year}\n",
    "\n",
    "# Assign the metadata to the correct titles in the total text box count dictionary\n",
    "for manga_title in stat_total_textbox_count.keys():\n",
    "    # Extract base title (before \"_vol\") from the manga title if it has volume info\n",
    "    if '_vol' in manga_title:\n",
    "        base_title = manga_title.split('_vol')[0]\n",
    "    else:\n",
    "        base_title = manga_title\n",
    "\n",
    "    # Check if the base title exists in the metadata mapping\n",
    "    if base_title in metadata_mapping:\n",
    "        # Retrieve the corresponding genre, demographics, and year\n",
    "        genre = metadata_mapping[base_title]['genre']\n",
    "        demographics = metadata_mapping[base_title]['demographics']\n",
    "        year = metadata_mapping[base_title]['year']\n",
    "\n",
    "        # Assign values to the correct manga titles in dictionaries\n",
    "        stat_manga_genre[manga_title] = genre\n",
    "        stat_manga_demographics[manga_title] = demographics\n",
    "        stat_manga_year[manga_title] = year\n",
    "\n",
    "print(\"Genre:\", stat_manga_genre)\n",
    "print(\"Demographics:\", stat_manga_demographics)\n",
    "print(\"Year:\", stat_manga_year)\n"
   ]
  },
  {
   "cell_type": "code",
   "execution_count": 26,
   "metadata": {},
   "outputs": [
    {
     "name": "stdout",
     "output_type": "stream",
     "text": [
      "Genre Dictionary: 109\n",
      "Demographics Dictionary: 109\n",
      "Year Dictionary: 109\n"
     ]
    }
   ],
   "source": [
    "# def filter_lone_vol_with_dupes(data):\n",
    "#   for base_title in list(data.keys()):\n",
    "#       # Check if base title has a volume-specific counterpart in stat_total_textbox_count\n",
    "#       volume_titles = [title for title in stat_total_textbox_count if title.startswith(base_title + \"_vol\")]\n",
    "      \n",
    "#       # If volume-specific entries exist, remove the lone base title from stat_manga_genre\n",
    "#       if volume_titles:\n",
    "#           data.pop(base_title)\n",
    "\n",
    "# # Now `stat_manga_genre` should have the same keys as `stat_total_textbox_count`\n",
    "# filter_lone_vol_with_dupes(stat_manga_genre)\n",
    "# filter_lone_vol_with_dupes(stat_manga_demographics)\n",
    "# filter_lone_vol_with_dupes(stat_manga_year)\n",
    "\n",
    "print(\"Genre Dictionary:\", len(stat_manga_genre))\n",
    "print(\"Demographics Dictionary:\", len(stat_manga_demographics))\n",
    "print(\"Year Dictionary:\", len(stat_manga_year))\n"
   ]
  },
  {
   "cell_type": "markdown",
   "metadata": {},
   "source": [
    "### Store Data in CSV"
   ]
  },
  {
   "cell_type": "code",
   "execution_count": 29,
   "metadata": {},
   "outputs": [
    {
     "name": "stdout",
     "output_type": "stream",
     "text": [
      "CSV file 'manga_statistics.csv' created successfully.\n"
     ]
    }
   ],
   "source": [
    "import pandas as pd\n",
    "\n",
    "data = {\n",
    "    'path_folder': list(stat_manga_page_count.keys()),\n",
    "    'page_count': list(stat_manga_page_count.values()),\n",
    "\n",
    "    'genre': list(stat_manga_genre.values()),\n",
    "    'target': list(stat_manga_demographics.values()),\n",
    "    'year': list(stat_manga_year.values()),\n",
    "\n",
    "    'total_jp_chars': list(stat_overall_jp_char_count.values()),\n",
    "    'total_unique_jp_chars': list(stat_manga_unique_chars_count.values()),\n",
    "    \"total_panel_count\": list(stat_total_panel_count.values()),\n",
    "    \"total_textbox_count\": list(stat_total_textbox_count.values()),\n",
    "    \"total_face_count\": list(stat_total_face_count.values()),\n",
    "    'total_unique_faces': list(stat_unique_faces.values()),\n",
    "\n",
    "    \"avg_text_length_in_textbox\": list(stat_avg_text_length_in_textbox.values()),\n",
    "    'avg_jp_char_count_per_page': list(stat_avg_jp_char_count_per_page.values()),\n",
    "    \"avg_textbox_count_per_page\": list(stat_avg_textbox_count_per_page.values()),\n",
    "    \"avg_textbox_count_per_panel\": list(stat_avg_textbox_count_per_panel.values()),\n",
    "    \"avg_face_count_per_panel\": list(stat_avg_face_count_per_panel.values()),\n",
    "    \n",
    "    # \"ratio_panel_to_text\": list(stat_ratio_panel_to_text.values()),\n",
    "}\n",
    "\n",
    "# df = pd.DataFrame(data)\n",
    "df = pd.DataFrame(data)\n",
    "\n",
    "output_csv_file = 'manga_statistics.csv'\n",
    "\n",
    "df.to_csv(output_csv_file, index=False)\n",
    "\n",
    "print(f\"CSV file '{output_csv_file}' created successfully.\")\n"
   ]
  },
  {
   "cell_type": "code",
   "execution_count": 30,
   "metadata": {},
   "outputs": [
    {
     "name": "stdout",
     "output_type": "stream",
     "text": [
      "genre\n",
      "humor                  15\n",
      "science fiction        14\n",
      "love romance           13\n",
      "romantic comedy        13\n",
      "fantasy                12\n",
      "sports                 10\n",
      "battle                  9\n",
      "historical drama        6\n",
      "four-frame cartoons     5\n",
      "animal                  5\n",
      "suspense                5\n",
      "horror                  2\n",
      "Name: count, dtype: int64\n",
      "\n"
     ]
    }
   ],
   "source": [
    "print(df['genre'].value_counts())\n",
    "print()"
   ]
  }
 ],
 "metadata": {
  "kernelspec": {
   "display_name": "base",
   "language": "python",
   "name": "python3"
  },
  "language_info": {
   "codemirror_mode": {
    "name": "ipython",
    "version": 3
   },
   "file_extension": ".py",
   "mimetype": "text/x-python",
   "name": "python",
   "nbconvert_exporter": "python",
   "pygments_lexer": "ipython3",
   "version": "3.12.4"
  }
 },
 "nbformat": 4,
 "nbformat_minor": 2
}
