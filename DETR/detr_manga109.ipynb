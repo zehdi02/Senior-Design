{
 "cells": [
  {
   "cell_type": "markdown",
   "metadata": {},
   "source": [
    "### 1. Set Up the Environment"
   ]
  },
  {
   "cell_type": "code",
   "execution_count": null,
   "metadata": {},
   "outputs": [],
   "source": [
    "!pip install torch torchvision transformers"
   ]
  },
  {
   "cell_type": "markdown",
   "metadata": {},
   "source": [
    "### 2. Convert Manga109 annotations to COCO format for DETR usage"
   ]
  },
  {
   "cell_type": "code",
   "execution_count": 4,
   "metadata": {},
   "outputs": [],
   "source": [
    "import xml.etree.ElementTree as ET\n",
    "import os\n",
    "\n",
    "def convert_bbox_to_coco_format(x1, y1, x2, y2):\n",
    "    x = x1\n",
    "    y = y1\n",
    "    width = x2 - x1\n",
    "    height = y2 - y1\n",
    "    return [x, y, width, height]\n",
    "\n",
    "\n",
    "import xml.etree.ElementTree as ET\n",
    "\n",
    "def convert_bbox_to_coco_format(xmin, ymin, xmax, ymax):\n",
    "    \"\"\"\n",
    "    Converts bounding box coordinates from (xmin, ymin, xmax, ymax) to COCO format (x, y, width, height).\n",
    "    \"\"\"\n",
    "    x = xmin\n",
    "    y = ymin\n",
    "    width = xmax - xmin\n",
    "    height = ymax - ymin\n",
    "    return [x, y, width, height]\n",
    "\n",
    "def convert_manga109_annotations_to_coco_format(xml_path):\n",
    "    tree = ET.parse(xml_path)\n",
    "    root = tree.getroot()\n",
    "\n",
    "    # Define object categories\n",
    "    objects = ['face', 'body', 'text', 'frame']\n",
    "    \n",
    "    annotations = []\n",
    "    for page in root.findall(\".//page\"):\n",
    "        page_index = page.get('index')\n",
    "        for textbox in page:\n",
    "            bbox = textbox.attrib\n",
    "            annotations.append({\n",
    "                \"page_index\": page_index,\n",
    "                \"object_id\": bbox['id'],\n",
    "                \"category\": textbox.tag,\n",
    "                \"category_id\": objects.index(textbox.tag),\n",
    "                \"bbox\": convert_bbox_to_coco_format(int(bbox['xmin']), int(bbox['ymin']), int(bbox['xmax']), int(bbox['ymax']))\n",
    "            })\n",
    "    \n",
    "    # Create categories\n",
    "    categories_data = {\n",
    "        \"categories\": [\n",
    "            {\"name\": 'face', \"id\": 0},\n",
    "            {\"name\": 'body', \"id\": 1},\n",
    "            {\"name\": 'text', \"id\": 2},\n",
    "            {\"name\": 'frame', \"id\": 3},\n",
    "        ]\n",
    "    }\n",
    "\n",
    "    # Return combined data\n",
    "    return {\n",
    "        \"annotations\": annotations,\n",
    "        **categories_data  # This merges categories_data into the returned dictionary\n",
    "    }\n",
    "\n",
    "\n",
    "manga109_annotation_file = '../Manga109/annotations/AisazuNihaIrarenai.xml'\n",
    "\n",
    "parsed_xml_coco_annotation = convert_manga109_annotations_to_coco_format(manga109_annotation_file)\n"
   ]
  },
  {
   "cell_type": "code",
   "execution_count": 5,
   "metadata": {},
   "outputs": [],
   "source": [
    "import json\n",
    "\n",
    "json_string = json.dumps(parsed_xml_coco_annotation, indent=4)\n",
    "\n",
    "# print(json_string)"
   ]
  }
 ],
 "metadata": {
  "kernelspec": {
   "display_name": "base",
   "language": "python",
   "name": "python3"
  },
  "language_info": {
   "codemirror_mode": {
    "name": "ipython",
    "version": 3
   },
   "file_extension": ".py",
   "mimetype": "text/x-python",
   "name": "python",
   "nbconvert_exporter": "python",
   "pygments_lexer": "ipython3",
   "version": "3.12.4"
  }
 },
 "nbformat": 4,
 "nbformat_minor": 2
}
