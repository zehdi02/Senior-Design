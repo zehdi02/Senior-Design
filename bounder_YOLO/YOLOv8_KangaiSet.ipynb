{
 "cells": [
  {
   "cell_type": "code",
   "execution_count": null,
   "metadata": {},
   "outputs": [],
   "source": [
    "!pip install ultralytics"
   ]
  },
  {
   "cell_type": "code",
   "execution_count": null,
   "metadata": {},
   "outputs": [],
   "source": [
    "!pip3 install torch torchvision torchaudio --index-url https://download.pytorch.org/whl/cu118"
   ]
  },
  {
   "cell_type": "code",
   "execution_count": 1,
   "metadata": {},
   "outputs": [
    {
     "name": "stdout",
     "output_type": "stream",
     "text": [
      "\u001b[2K\n",
      "\u001b[2K\n",
      "Ultralytics YOLOv8.2.95 🚀 Python-3.12.4 torch-2.4.1+cu118 CUDA:0 (NVIDIA GeForce GTX 1660 Ti, 6144MiB)\n",
      "Setup complete ✅ (12 CPUs, 31.9 GB RAM, 357.5/475.6 GB disk)\n",
      "\n",
      "OS                  Windows-11-10.0.22631-SP0\n",
      "Environment         Windows\n",
      "Python              3.12.4\n",
      "Install             pip\n",
      "RAM                 31.91 GB\n",
      "CPU                 Intel Core(TM) i7-10750H 2.60GHz\n",
      "CUDA                11.8\n",
      "\n",
      "numpy               ✅ 1.26.4<2.0.0,>=1.23.0\n",
      "matplotlib          ✅ 3.8.4>=3.3.0\n",
      "opencv-python       ✅ 4.10.0.84>=4.6.0\n",
      "pillow              ✅ 10.2.0>=7.1.2\n",
      "pyyaml              ✅ 6.0.1>=5.3.1\n",
      "requests            ✅ 2.32.2>=2.23.0\n",
      "scipy               ✅ 1.13.1>=1.4.1\n",
      "torch               ✅ 2.4.1+cu118>=1.8.0\n",
      "torchvision         ✅ 0.19.1+cu118>=0.9.0\n",
      "tqdm                ✅ 4.66.4>=4.64.0\n",
      "psutil              ✅ 5.9.0\n",
      "py-cpuinfo          ✅ 9.0.0\n",
      "pandas              ✅ 2.2.2>=1.1.4\n",
      "seaborn             ✅ 0.13.2>=0.11.0\n",
      "ultralytics-thop    ✅ 2.0.6>=2.0.0\n",
      "torch               ✅ 2.4.1+cu118!=2.4.0,>=1.8.0; sys_platform == \"win32\"\n"
     ]
    }
   ],
   "source": [
    "from ultralytics import YOLO\n",
    "import os\n",
    "from IPython.display import display, Image\n",
    "from IPython import display\n",
    "display.clear_output()\n",
    "!yolo checks"
   ]
  },
  {
   "cell_type": "markdown",
   "metadata": {},
   "source": [
    "### Process KangaiSet+Manga109"
   ]
  },
  {
   "cell_type": "code",
   "execution_count": 2,
   "metadata": {},
   "outputs": [],
   "source": [
    "import os\n",
    "import shutil\n",
    "import random\n",
    "import pandas as pd\n",
    "\n",
    "emotion_map = {\n",
    "    'anger': 0,\n",
    "    'disgust': 1,\n",
    "    'fear': 2,\n",
    "    'happiness': 3,\n",
    "    'neutral': 4,\n",
    "    'sadness': 5,\n",
    "    'surprise': 6\n",
    "}\n",
    "width = 1654\n",
    "height = 1170\n",
    "\n",
    "def create_yolo_dataset_from_csv(csv_file_path, output_dir='../KangaiSet_YOLO'):\n",
    "    # read csv \n",
    "    df = pd.read_csv(csv_file_path)\n",
    "\n",
    "    # create dirs\n",
    "    for dataset_type in ['train', 'val', 'test']:\n",
    "        os.makedirs(f'{output_dir}/{dataset_type}/images', exist_ok=True)\n",
    "        os.makedirs(f'{output_dir}/{dataset_type}/labels', exist_ok=True)\n",
    "\n",
    "    for index, row in df.iterrows():\n",
    "        manga_name = row['manga_name']\n",
    "\n",
    "        page_path = row['page_path']\n",
    "        last_part = page_path.split('/')[-1]\n",
    "        pg = last_part.split('.')[0]\n",
    "        \n",
    "        emotion_str = row['emotion_str']\n",
    "\n",
    "        # if page_path == 'images/AisazuNihaIrarenai/004.jpg':\n",
    "        #     print(emotion_str)\n",
    "\n",
    "        # extract bounding box for face\n",
    "        face_xmin = row['face_xmin']\n",
    "        face_ymin = row['face_ymin']\n",
    "        face_xmax = row['face_xmax']\n",
    "        face_ymax = row['face_ymax']\n",
    "\n",
    "        dataset_type = random.choices(['train', 'val', 'test'], weights=[0.85, 0.1, 0.05])[0]\n",
    "\n",
    "        # copy image to corresponding manga\n",
    "        image_source_path = f'../Manga109/{page_path}'\n",
    "        image_dest_path = f'{output_dir}/{dataset_type}/images/{manga_name}_{pg}.jpg'\n",
    "        shutil.copyfile(image_source_path, image_dest_path)\n",
    "\n",
    "        label_file_path = f'{output_dir}/{dataset_type}/labels/{manga_name}_{pg}.txt'\n",
    "        # write face bounding box\n",
    "        with open(label_file_path, 'a+') as label_file:\n",
    "            label_file.seek(0, 2)\n",
    "            face_bbox = (\n",
    "                (face_xmin + face_xmax) / (2 * width),\n",
    "                (face_ymin + face_ymax) / (2 * height),\n",
    "                (face_xmax - face_xmin) / width,\n",
    "                (face_ymax - face_ymin) / height\n",
    "            )\n",
    "            label_file.write(f\"{emotion_map[emotion_str]} {' '.join(map(str, face_bbox))}\\n\")\n",
    "\n",
    "        counter = 0\n",
    "        counter += 1\n",
    "        if counter % 50 == 0:\n",
    "            print(f'Processed {counter} images')\n",
    "\n",
    "def main():\n",
    "    csv_file_path = '../Manga109/kangaiset_annotation_long.csv'\n",
    "    create_yolo_dataset_from_csv(csv_file_path)\n",
    "\n",
    "if __name__ == '__main__':\n",
    "    main()"
   ]
  },
  {
   "cell_type": "markdown",
   "metadata": {},
   "source": [
    "### Train"
   ]
  },
  {
   "cell_type": "code",
   "execution_count": 3,
   "metadata": {},
   "outputs": [
    {
     "name": "stdout",
     "output_type": "stream",
     "text": [
      "^C\n"
     ]
    }
   ],
   "source": [
    "import os\n",
    "os.environ[\"KMP_DUPLICATE_LIB_OK\"]=\"TRUE\"\n",
    "!yolo task=detect mode=train model=yolov8n.pt data=kangaiset.yaml epochs=50 batch=16 device=cuda dropout=0.5 val=True save=True"
   ]
  },
  {
   "cell_type": "code",
   "execution_count": null,
   "metadata": {},
   "outputs": [],
   "source": [
    "# RE-TRAIN\n",
    "!yolo task=detect mode=train model='runs/detect/train2/weights/best.pt' data=kangaiset.yaml epochs=50 batch=16 device=cuda dropout=0.5 val=True save=True"
   ]
  },
  {
   "cell_type": "markdown",
   "metadata": {},
   "source": [
    "### Predict"
   ]
  },
  {
   "cell_type": "code",
   "execution_count": null,
   "metadata": {},
   "outputs": [],
   "source": [
    "# test predict w/ best.pt\n",
    "!yolo predict model='runs/detect/train2/weights/best.pt' source='test_page.jpeg' device=cuda"
   ]
  }
 ],
 "metadata": {
  "kernelspec": {
   "display_name": "base",
   "language": "python",
   "name": "python3"
  },
  "language_info": {
   "codemirror_mode": {
    "name": "ipython",
    "version": 3
   },
   "file_extension": ".py",
   "mimetype": "text/x-python",
   "name": "python",
   "nbconvert_exporter": "python",
   "pygments_lexer": "ipython3",
   "version": "3.12.4"
  }
 },
 "nbformat": 4,
 "nbformat_minor": 2
}
